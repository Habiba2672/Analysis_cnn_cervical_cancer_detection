{
  "cells": [
    {
      "cell_type": "code",
      "execution_count": null,
      "metadata": {
        "id": "_4WNwmfIhDBw"
      },
      "outputs": [],
      "source": [
        "# imports for PyTorch\n",
        "import numpy as np\n",
        "import pandas as pd\n",
        "import matplotlib.pyplot as plt\n",
        "import seaborn as sns\n",
        "import os\n",
        "import random\n",
        "import cv2\n",
        "from skimage.io import imread\n",
        "\n",
        "import torch\n",
        "import torch.nn as nn\n",
        "import torch.optim as optim\n",
        "from torch.utils.data import DataLoader\n",
        "from torch.utils.data import Dataset\n",
        "\n",
        "from torch.utils.data import TensorDataset\n",
        "import torch.nn.functional as F\n",
        "# If you want to use torchvision for pre-built models and datasets\n",
        "import torchvision\n",
        "import torchvision.transforms as transforms\n",
        "\n",
        "# Other imports\n",
        "from sklearn.model_selection import train_test_split\n",
        "from sklearn.metrics import confusion_matrix\n",
        "from sklearn.utils import shuffle\n",
        "from keras.callbacks import EarlyStopping, ModelCheckpoint\n",
        "from keras.models import Sequential\n",
        "from keras.layers import Conv2D, MaxPooling2D, Dropout, Flatten, Dense"
      ]
    },
    {
      "cell_type": "markdown",
      "metadata": {
        "id": "edkcUZMSBNwe"
      },
      "source": [
        "here i used code to create out_dir and copy files with 63% for training Test: 23%\n",
        "Validation: 14%"
      ]
    },
    {
      "cell_type": "code",
      "execution_count": null,
      "metadata": {
        "colab": {
          "base_uri": "https://localhost:8080/"
        },
        "id": "Q_-Iy8Pro9vC",
        "outputId": "73e66cc9-5621-4f0a-ec2b-4e9e3106ca78"
      },
      "outputs": [
        {
          "output_type": "stream",
          "name": "stdout",
          "text": [
            "Mounted at /content/drive\n"
          ]
        }
      ],
      "source": [
        "# Mount Google Drive\n",
        "from google.colab import drive\n",
        "\n",
        "drive.mount('/content/drive')\n",
        "# Define the data path\n",
        "DATA_PATH = '/content/drive/MyDrive/sipakmed/sipakmed/'"
      ]
    },
    {
      "cell_type": "code",
      "execution_count": null,
      "metadata": {
        "id": "2YHgDIbcefNv"
      },
      "outputs": [],
      "source": [
        "import os\n",
        "import shutil\n",
        "import random\n",
        "\n",
        "# Define the subsets (train, validation, and test) and their ratios\n",
        "subsets = [\"train\", \"val\", \"test\"]\n",
        "split_ratios = [0.63, 0.14, 0.23]\n",
        "\n",
        "# Define the class labels\n",
        "classes = [\"normal\", \"atypical\"]\n",
        "\n",
        "# Create output directories if they don't exist\n",
        "output_dir = '/content/drive/MyDrive/sipakmed/sipakmed/sipakmed_training'  # Set your desired output directory\n",
        "for subset in subsets:\n",
        "    for class_label in classes:\n",
        "        subset_dir = os.path.join(output_dir, subset, class_label)\n",
        "        os.makedirs(subset_dir, exist_ok=True)\n",
        "\n",
        "# Function to check if a file has already been copied\n",
        "def has_been_copied(file, destination_subset):\n",
        "    class_name = \"normal\" if \"normal\" in file else \"atypical\"\n",
        "    dest_path = os.path.join(output_dir, destination_subset, class_name, os.path.basename(file))\n",
        "    return os.path.exists(dest_path)\n",
        "\n",
        "# Function to record copied files\n",
        "def record_copied_files(copied_files, destination_subset):\n",
        "    with open(f'copied_files_{destination_subset}.txt', 'a') as file:\n",
        "        for copied_file in copied_files:\n",
        "            file.write(copied_file + '\\n')\n",
        "\n",
        "# Get a list of all image file paths\n",
        "drive_path = '/content/drive/MyDrive/sipakmed/sipakmed/'  # Set your input directory containing image files\n",
        "file_paths = []\n",
        "for root, dirs, files in os.walk(drive_path):\n",
        "    for file in files:\n",
        "        if file.endswith('.bmp'):\n",
        "            file_paths.append(os.path.join(root, file))\n",
        "\n",
        "# Initialize empty lists for train, val, and test files\n",
        "train_files = []\n",
        "val_files = []\n",
        "test_files = []\n",
        "\n",
        "# Loop through each class, organize files, and split the data\n",
        "for class_label in classes:\n",
        "    class_dir = os.path.join(drive_path, class_label)\n",
        "    file_list = [file for file in file_paths if class_label in file]\n",
        "\n",
        "    # Shuffle the file list for random sampling\n",
        "    random.shuffle(file_list)\n",
        "\n",
        "    # Split the data based on the defined ratios\n",
        "    num_files = len(file_list)\n",
        "    split_points = [\n",
        "        0,\n",
        "        int(split_ratios[0] * num_files),\n",
        "        int((split_ratios[0] + split_ratios[1]) * num_files),\n",
        "        num_files,\n",
        "    ]\n",
        "\n",
        "    train_files += file_list[split_points[0]:split_points[1]]\n",
        "    val_files += file_list[split_points[1]:split_points[2]]\n",
        "    test_files += file_list[split_points[2]:split_points[3]]\n",
        "\n",
        "def copy_files(source_files, destination_subset):\n",
        "    copied_files = []\n",
        "    for file in source_files:\n",
        "        if not has_been_copied(file, destination_subset):\n",
        "            class_name = \"normal\" if \"normal\" in file else \"atypical\"\n",
        "            dest_path = os.path.join(output_dir, destination_subset, class_name, os.path.basename(file))\n",
        "            if not os.path.exists(dest_path):\n",
        "                shutil.copy(file, dest_path)\n",
        "                copied_files.append(file)\n",
        "                print(f\"Copied {file} to {dest_path}\")\n",
        "            else:\n",
        "                print(f\"File {file} already exists in {destination_subset}\")\n",
        "        else:\n",
        "            print(f\"File {file} has already been copied to {destination_subset}\")\n",
        "    return copied_files"
      ]
    },
    {
      "cell_type": "markdown",
      "metadata": {
        "id": "cdlsheKFBk6m"
      },
      "source": [
        "i used this to make sure there isn't duplicated data and data for training was succesful"
      ]
    },
    {
      "cell_type": "code",
      "execution_count": null,
      "metadata": {
        "id": "hhRtfdKD-I33"
      },
      "outputs": [],
      "source": [
        "import os\n",
        "\n",
        "# Define the path to your original dataset directory\n",
        "original_dataset_path = '/content/drive/MyDrive/sipakmed/sipakmed/sipakmed_train/'\n",
        "\n",
        "# Get a list of all image files in the original dataset directory and its subfolders\n",
        "original_files = []\n",
        "for root, dirs, files in os.walk(original_dataset_path):\n",
        "    for filename in files:\n",
        "        if filename.endswith('.bmp'):\n",
        "            original_files.append(filename)\n",
        "\n",
        "# Count the number of unique files in the original dataset\n",
        "original_file_count = len(original_files)\n",
        "\n",
        "# List files that are in the current dataset but not in the original\n",
        "extra_files = []\n",
        "current_dataset_path = '/content/drive/MyDrive/sipakmed/sipakmed/sipakmed_training/'\n",
        "\n",
        "for root, dirs, files in os.walk(current_dataset_path):\n",
        "    for filename in files:\n",
        "        if filename.endswith('.bmp') and filename not in original_files:\n",
        "            extra_files.append(os.path.join(root, filename))\n",
        "\n",
        "if extra_files:\n",
        "    print(\"Number of extra files found in the current dataset:\", len(extra_files))\n",
        "    print(\"Duplicated files found in the current dataset:\")\n",
        "    for file in extra_files:\n",
        "        print(file)\n",
        "\n",
        "    # Prompt the user for confirmation before removal\n",
        "    user_confirmation = input(\"Do you want to remove these duplicated files? (yes/no): \")\n",
        "\n",
        "    if user_confirmation.lower() == \"yes\":\n",
        "        # Remove the duplicated files\n",
        "        for extra_file in extra_files:\n",
        "            os.remove(extra_file)\n",
        "        print(\"Duplicated files have been removed.\")\n",
        "    else:\n",
        "        print(\"No files have been removed. Your dataset is safe.\")\n",
        "else:\n",
        "    print(\"No duplicated files found in the current dataset.\")\n"
      ]
    },
    {
      "cell_type": "markdown",
      "metadata": {
        "id": "2Shz4QX-B0PI"
      },
      "source": [
        "i used this to check now how many files i have knowing that my data for sipakmed originally were 4049 bmb files"
      ]
    },
    {
      "cell_type": "code",
      "execution_count": null,
      "metadata": {
        "id": "IcIJCGyfpCFg"
      },
      "outputs": [],
      "source": [
        "# Get a list of all image file paths\n",
        "file_paths = []\n",
        "categories = []\n",
        "\n",
        "for root, dirs, files in os.walk(DATA_PATH):\n",
        "    for file in files:\n",
        "        if file.endswith('.bmp'):\n",
        "            file_path = os.path.join(root, file)\n",
        "            file_paths.append(file_path)\n",
        "            if 'normal' in file_path:\n",
        "                categories.append(0)\n",
        "            else:\n",
        "                categories.append(1)"
      ]
    },
    {
      "cell_type": "code",
      "execution_count": null,
      "metadata": {
        "id": "r5524cappSpt"
      },
      "outputs": [],
      "source": [
        "# Create a DataFrame\n",
        "df = pd.DataFrame({'filename (X)': file_paths, 'category (Y)': categories})\n",
        "df"
      ]
    },
    {
      "cell_type": "code",
      "execution_count": null,
      "metadata": {
        "id": "KFUw-F7TppEF"
      },
      "outputs": [],
      "source": [
        "import os\n",
        "import shutil\n",
        "import random\n",
        "# Specify the path to your dataset on Google Drive\n",
        "drive_path = '/content/drive/MyDrive/sipakmed/sipakmed/'\n",
        "\n",
        "# Define the output directory for your divided dataset on Google Drive\n",
        "output_dir = '/content/drive/MyDrive/sipakmed/sipakmed/sipakmed_training'\n"
      ]
    },
    {
      "cell_type": "markdown",
      "metadata": {
        "id": "q2_-B8MMnI6U"
      },
      "source": [
        "to check if my data are balanced regarding the training ones or not"
      ]
    },
    {
      "cell_type": "code",
      "execution_count": null,
      "metadata": {
        "id": "jzuFJjYPmYHe"
      },
      "outputs": [],
      "source": [
        "import os\n",
        "import matplotlib.pyplot as plt\n",
        "\n",
        "# Define the root directories to check\n",
        "directories = [\n",
        "    '/content/drive/MyDrive/sipakmed/sipakmed/sipakmed_training/',\n",
        "    '/content/drive/MyDrive/sipakmed/sipakmed/'\n",
        "]\n",
        "\n",
        "# Function to count BMP files recursively in a directory\n",
        "def count_bmp_files_recursive(root_dir):\n",
        "    count = 0\n",
        "    for root, dirs, files in os.walk(root_dir):\n",
        "        count += sum(1 for file in files if file.endswith('.bmp'))\n",
        "    return count\n",
        "\n",
        "# Iterate over the directories and count the files\n",
        "counts = []\n",
        "dir_names = []\n",
        "\n",
        "for directory in directories:\n",
        "    file_count = count_bmp_files_recursive(directory)\n",
        "    counts.append(file_count)\n",
        "    dir_names.append(directory)\n",
        "# Print the counts for the specified directories\n",
        "for name, count in zip(dir_names, counts):\n",
        "    print(f\"Directory: {name}, BMP File Count: {count}\")\n",
        "\n",
        "# Count BMP files in all directories inside both root directories\n",
        "original_count = count_bmp_files_recursive('/content/drive/MyDrive/sipakmed/sipakmed/')\n",
        "training_count = count_bmp_files_recursive('/content/drive/MyDrive/sipakmed/sipakmed/sipakmed_training/')\n",
        "\n",
        "print(f\"Total BMP File Count in '/content/drive/MyDrive/sipakmed/sipakmed/': {original_count}\")\n",
        "print(f\"Total BMP File Count in '/content/drive/MyDrive/sipakmed/sipakmed/sipakmed_training/': {training_count}\")\n",
        "\n",
        "\n",
        "\n",
        "# Create a bar plot\n",
        "plt.figure(figsize=(10, 6))\n",
        "plt.bar(dir_names + ['Total Original', 'Total Training'], counts + [original_count, training_count], color='skyblue')\n",
        "plt.xlabel('Directories')\n",
        "plt.ylabel('BMP File Count')\n",
        "plt.title('BMP File Counts in Specified Directories')\n",
        "plt.xticks(rotation=45, ha='right')\n",
        "\n",
        "# Show the plot\n",
        "plt.tight_layout()\n",
        "plt.show()"
      ]
    },
    {
      "cell_type": "markdown",
      "metadata": {
        "id": "nPo3BcPstc7d"
      },
      "source": [
        "data balance in normal and atypical"
      ]
    },
    {
      "cell_type": "code",
      "execution_count": null,
      "metadata": {
        "id": "lzhtrRh1tcbB"
      },
      "outputs": [],
      "source": [
        "# Function to balance data by randomly undersampling the majority class\n",
        "def balance_data(train_files):\n",
        "    normal_files = [file for file in train_files if 'normal' in file]\n",
        "    atypical_files = [file for file in train_files if 'atypical' in file]\n",
        "\n",
        "    min_samples = min(len(normal_files), len(atypical_files))\n",
        "\n",
        "    balanced_data = random.sample(normal_files, min_samples) + random.sample(atypical_files, min_samples)\n",
        "    return balanced_data\n"
      ]
    },
    {
      "cell_type": "code",
      "execution_count": null,
      "metadata": {
        "colab": {
          "base_uri": "https://localhost:8080/"
        },
        "id": "REYN38Kityq3",
        "outputId": "04ae9124-9188-4404-d6b0-67289a6d7574"
      },
      "outputs": [
        {
          "output_type": "stream",
          "name": "stdout",
          "text": [
            "Normal samples: 2179, Atypical samples: 2179\n",
            "The data is balanced.\n"
          ]
        }
      ],
      "source": [
        "def check_balance(data):\n",
        "    normal_count = sum(1 for file in data if 'normal' in file)\n",
        "    atypical_count = sum(1 for file in data if 'atypical' in file)\n",
        "\n",
        "    return normal_count, atypical_count\n",
        "\n",
        "# Call the balance_data function to get the balanced dataset\n",
        "balanced_train_data = balance_data(train_files)\n",
        "\n",
        "# Check the balance\n",
        "normal_count, atypical_count = check_balance(balanced_train_data)\n",
        "print(f\"Normal samples: {normal_count}, Atypical samples: {atypical_count}\")\n",
        "\n",
        "if normal_count == atypical_count:\n",
        "    print(\"The data is balanced.\")\n",
        "else:\n",
        "    print(\"The data is not balanced.\")\n"
      ]
    },
    {
      "cell_type": "markdown",
      "metadata": {
        "id": "4q7s-uFbneHG"
      },
      "source": [
        "Data preprocessing and loading using torchvision\n"
      ]
    },
    {
      "cell_type": "markdown",
      "metadata": {
        "id": "VQAzP6xevqGs"
      },
      "source": [
        " load images and their labels from the balanced_dataset:"
      ]
    },
    {
      "cell_type": "code",
      "execution_count": null,
      "metadata": {
        "colab": {
          "base_uri": "https://localhost:8080/"
        },
        "id": "mIxoGKgSyjbZ",
        "outputId": "81a951e1-8f84-4205-ca7e-93f3f007fa20"
      },
      "outputs": [
        {
          "output_type": "stream",
          "name": "stdout",
          "text": [
            "Requirement already satisfied: Pillow in /usr/local/lib/python3.10/dist-packages (9.4.0)\n"
          ]
        }
      ],
      "source": [
        "!pip install Pillow\n"
      ]
    },
    {
      "cell_type": "code",
      "source": [
        "import os\n",
        "import torch\n",
        "from torchvision import transforms\n",
        "from PIL import Image\n",
        "\n",
        "# Constants\n",
        "IMAGE_HEIGHT = 125\n",
        "IMAGE_WIDTH = 125\n",
        "BASE_PATH = \"/content/drive/MyDrive/sipakmed/sipakmed/sipakmed_training/\"\n",
        "DATA_PATH = os.path.join(BASE_PATH, \"train\")\n",
        "SAVE_PATH = os.path.join(BASE_PATH, \"preprocessed_classified/\")\n",
        "\n",
        "# Helper functions\n",
        "\n",
        "def get_processed_files(original_files, save_path):\n",
        "    processed_files = []\n",
        "    for orig in original_files:\n",
        "        processed = get_processed_path(orig, save_path)\n",
        "        if os.path.exists(processed):\n",
        "            processed_files.append(processed)\n",
        "    return processed_files\n",
        "\n",
        "def get_processed_path(orig_path, save_path):\n",
        "    filename = os.path.basename(orig_path)\n",
        "    processed_name = f\"{filename.replace('.bmp', '_processed.pt')}\"\n",
        "    return os.path.join(save_path, processed_name)\n",
        "\n",
        "def is_bmp_file(filepath):\n",
        "    return filepath.lower().endswith('.bmp')\n",
        "\n",
        "def load_processed_images(processed_paths):\n",
        "    X = []\n",
        "    for p in processed_paths:\n",
        "        img = torch.load(p)\n",
        "        X.append(img)\n",
        "    return torch.stack(X)\n",
        "\n",
        "def load_and_process_images(original_files, data_path, transform, save_path):\n",
        "    X_normal = []\n",
        "    X_atypical = []\n",
        "\n",
        "    for orig in original_files:\n",
        "        if not is_bmp_file(orig):\n",
        "            continue  # Skip non-BMP files\n",
        "\n",
        "        img = Image.open(orig)\n",
        "        img = transform(img)\n",
        "        save_name = get_processed_path(orig, save_path)\n",
        "\n",
        "        # Classify based on the subfolder\n",
        "        class_label = \"normal\" if \"normal\" in orig else \"atypical\"\n",
        "        class_save_path = os.path.join(save_path, class_label)\n",
        "\n",
        "        os.makedirs(class_save_path, exist_ok=True)\n",
        "        torch.save(img, os.path.join(class_save_path, os.path.basename(save_name)))\n",
        "\n",
        "        # Append to the respective lists\n",
        "        if class_label == \"normal\":\n",
        "            X_normal.append(img)\n",
        "        else:\n",
        "            X_atypical.append(img)\n",
        "\n",
        "    return torch.stack(X_normal), torch.stack(X_atypical)\n",
        "\n",
        "# Check for subfolders \"Normal\" and \"Atypical\" inside \"train\"\n",
        "if not (os.path.exists(os.path.join(DATA_PATH, \"normal\")) and os.path.exists(os.path.join(DATA_PATH, \"atypical\"))):\n",
        "    print(\"Error: The 'train' directory does not contain the expected subfolders 'normal' and 'atypical'.\")\n",
        "    exit()\n",
        "\n",
        "# Prompt to apply data processing\n",
        "apply_processing = input(\"Do you want to apply data processing? (y/n): \").lower() == 'y'\n",
        "\n",
        "if apply_processing:\n",
        "    # Transform for data augmentation during processing\n",
        "    transform = transforms.Compose([\n",
        "        transforms.Resize((IMAGE_HEIGHT, IMAGE_WIDTH)),\n",
        "        transforms.RandomHorizontalFlip(),\n",
        "        transforms.RandomRotation(degrees=15),\n",
        "        transforms.ToTensor(),\n",
        "        transforms.Normalize(mean=[0.485, 0.456, 0.406], std=[0.229, 0.224, 0.225])\n",
        "    ])\n",
        "\n",
        "    # Get list of original image files\n",
        "    original_files = []\n",
        "    for root, dirs, files in os.walk(DATA_PATH):\n",
        "        for filename in files:\n",
        "            if filename.endswith(\".bmp\"):\n",
        "                original_files.append(os.path.join(root, filename))\n",
        "\n",
        "    # Print the number of original images\n",
        "    print(\"Number of original images:\", len(original_files))\n",
        "\n",
        "    # Check for processed images\n",
        "    processed_files = get_processed_files(original_files, SAVE_PATH)\n",
        "    if len(processed_files) == len(original_files):\n",
        "        print(\"Using existing processed images\")\n",
        "        # Specify whether data augmentation was applied during processing\n",
        "        augmentation_info = \"with augmentation\" if 'Random' in str(transform) else \"without augmentation\"\n",
        "        print(f\"Images were processed {augmentation_info}\")\n",
        "        X_train_normal, X_train_atypical = load_and_process_images(original_files, DATA_PATH, transform, SAVE_PATH)\n",
        "    else:\n",
        "        print(\"Processing images...\")\n",
        "        # Specify whether data augmentation is applied during processing\n",
        "        augmentation_info = \"with augmentation\" if 'Random' in str(transform) else \"without augmentation\"\n",
        "        print(f\"Images are being processed {augmentation_info}\")\n",
        "        X_train_normal, X_train_atypical = load_and_process_images(original_files, DATA_PATH, transform, SAVE_PATH)\n",
        "\n",
        "        # Print the number of processed images\n",
        "        print(\"Number of processed images (normal):\", len(X_train_normal))\n",
        "        print(\"Number of processed images (atypical):\", len(X_train_atypical))\n",
        "\n",
        "        if len(X_train_normal) + len(X_train_atypical) != len(original_files):\n",
        "            print(\"Error: Mismatch between the number of processed and original images.\")\n",
        "else:\n",
        "    print(\"Data processing skipped.\")\n",
        "\n",
        "# Rest of your code...\n",
        "# Print the number of images in each class after moving\n",
        "normal_dir = os.path.join(SAVE_PATH, \"normal\")\n",
        "atypical_dir = os.path.join(SAVE_PATH, \"atypical\")\n",
        "print(\"Number of images in 'normal' class:\", len(os.listdir(normal_dir)))\n",
        "print(\"Number of images in 'atypical' class:\", len(os.listdir(atypical_dir)))\n"
      ],
      "metadata": {
        "colab": {
          "base_uri": "https://localhost:8080/"
        },
        "id": "W2OxAImuq2dl",
        "outputId": "71abc668-1031-4669-ae8f-180387e7b58d"
      },
      "execution_count": null,
      "outputs": [
        {
          "output_type": "stream",
          "name": "stdout",
          "text": [
            "Do you want to apply data processing? (y/n): no\n",
            "Data processing skipped.\n",
            "Number of images in 'normal' class: 1159\n",
            "Number of images in 'atypical' class: 1005\n"
          ]
        }
      ]
    },
    {
      "cell_type": "code",
      "source": [
        "import torch\n",
        "import torch.nn as nn\n",
        "import torch.optim as optim\n",
        "from torch.utils.data import Dataset, DataLoader, random_split\n",
        "import torch.nn.functional as F\n",
        "import os\n",
        "from torchvision.models import mobilenet_v3_small\n",
        "from sklearn.metrics import confusion_matrix\n",
        "import seaborn as sns\n",
        "import matplotlib.pyplot as plt\n",
        "import numpy as np\n",
        "import time\n",
        "\n",
        "# Model\n",
        "class MobileNetV3Small(nn.Module):\n",
        "    def __init__(self, num_classes=2):\n",
        "        super(MobileNetV3Small, self).__init__()\n",
        "        self.model = mobilenet_v3_small(pretrained=True)\n",
        "        in_features = self.model.classifier[3].in_features\n",
        "        self.model.classifier[3] = nn.Linear(in_features, num_classes)\n",
        "\n",
        "    def forward(self, x):\n",
        "        return self.model(x)\n",
        "\n",
        "# Dataset\n",
        "class PTImageDataset(Dataset):\n",
        "    def __init__(self, data_dir):\n",
        "        self.data_dir = data_dir\n",
        "        self.files = self.get_files(data_dir)\n",
        "        self.num_classes = 2  # Assuming you have 2 classes\n",
        "        self.class_names = [\"normal\", \"abnormal\"]\n",
        "\n",
        "    def __len__(self):\n",
        "        return len(self.files)\n",
        "\n",
        "    def __getitem__(self, idx):\n",
        "        img_path = self.files[idx]\n",
        "        img_tensor = torch.load(img_path)\n",
        "\n",
        "        # Extract label from the file path or filename\n",
        "        label = self.extract_label(img_path)\n",
        "\n",
        "        return img_tensor, label\n",
        "\n",
        "    def extract_label(self, file_path):\n",
        "        # Modify this logic based on your actual file naming or directory structure\n",
        "        parts = file_path.split(os.path.sep)\n",
        "        class_name = parts[-2]\n",
        "        return 0 if class_name == \"normal\" else 1  # Adjust based on your class names\n",
        "\n",
        "    def get_files(self, data_dir):\n",
        "        all_files = []\n",
        "        for root, dirs, files in os.walk(data_dir):\n",
        "            for file in files:\n",
        "                if file.endswith(\".pt\"):\n",
        "                    all_files.append(os.path.join(root, file))\n",
        "        return all_files\n"
      ],
      "metadata": {
        "id": "rncVnUPO-OAJ"
      },
      "execution_count": null,
      "outputs": []
    },
    {
      "cell_type": "code",
      "source": [
        "# Training function\n",
        "def train(model, train_loader, criterion, optimizer):\n",
        "    model.train()\n",
        "    epoch_loss = 0\n",
        "    epoch_acc = 0\n",
        "\n",
        "    for inputs, labels in train_loader:\n",
        "        inputs, labels = inputs.to(device), labels.to(device)\n",
        "        optimizer.zero_grad()\n",
        "        outputs = model(inputs)\n",
        "        loss = criterion(outputs, labels)\n",
        "        loss.backward()\n",
        "        optimizer.step()\n",
        "\n",
        "        epoch_loss += loss.item() * inputs.size(0)\n",
        "        _, predicted = torch.max(outputs.data, 1)\n",
        "        total = labels.size(0)\n",
        "        correct = (predicted == labels).sum().item()\n",
        "        epoch_acc += correct / total\n",
        "\n",
        "    epoch_loss /= len(train_loader.dataset)\n",
        "    epoch_acc /= len(train_loader.dataset)\n",
        "\n",
        "    return epoch_loss, epoch_acc\n",
        "\n",
        "# Placeholder for the test function\n",
        "def test(model, test_loader, criterion):\n",
        "    model.eval()\n",
        "    epoch_loss = 0\n",
        "    epoch_acc = 0\n",
        "    all_preds = []\n",
        "    all_labels = []\n",
        "\n",
        "    with torch.no_grad():\n",
        "        for inputs, labels in test_loader:\n",
        "            inputs, labels = inputs.to(device), labels.to(device)\n",
        "            outputs = model(inputs)\n",
        "\n",
        "            epoch_loss += criterion(outputs, labels).item() * inputs.size(0)\n",
        "            _, predicted = torch.max(outputs.data, 1)\n",
        "            total = labels.size(0)\n",
        "            correct = (predicted == labels).sum().item()\n",
        "            epoch_acc += correct\n",
        "\n",
        "            all_preds.extend(predicted.cpu().numpy())\n",
        "            all_labels.extend(labels.cpu().numpy())\n",
        "\n",
        "    epoch_loss /= len(test_loader.dataset)\n",
        "    epoch_acc /= len(test_loader.dataset)\n",
        "\n",
        "    return epoch_loss, epoch_acc, all_preds, all_labels\n",
        "\n",
        "# Dataset and dataloaders\n",
        "PREPROCESSED_PATH = \"/content/drive/MyDrive/sipakmed/sipakmed/sipakmed_training/preprocessed_classified/\"\n",
        "dataset = PTImageDataset(PREPROCESSED_PATH)\n",
        "total_size = len(dataset)\n",
        "train_size = int(0.6 * total_size)\n",
        "val_size = int(0.2 * total_size)\n",
        "test_size = total_size - train_size - val_size\n",
        "\n",
        "train_dataset, val_dataset, test_dataset = random_split(dataset, [train_size, val_size, test_size])\n",
        "\n",
        "train_loader = DataLoader(train_dataset, batch_size=16, shuffle=True)\n",
        "val_loader = DataLoader(val_dataset, batch_size=16, shuffle=False)\n",
        "test_loader = DataLoader(test_dataset, batch_size=16, shuffle=False)\n"
      ],
      "metadata": {
        "id": "UZdqk7Up-Pe3"
      },
      "execution_count": null,
      "outputs": []
    },
    {
      "cell_type": "code",
      "source": [
        "import torch\n",
        "import torch.nn as nn\n",
        "import torch.optim as optim\n",
        "from torch.utils.data import Dataset, DataLoader, random_split\n",
        "import torch.nn.functional as F\n",
        "import os\n",
        "from sklearn.metrics import accuracy_score, confusion_matrix\n",
        "import matplotlib.pyplot as plt\n",
        "from sklearn.metrics import classification_report\n",
        "from sklearn.metrics import f1_score, precision_score, recall_score\n",
        "\n",
        "from torchvision.models import mobilenet_v3_small\n",
        "\n",
        "# Model, optimizer, loss\n",
        "device = torch.device(\"cuda\" if torch.cuda.is_available() else \"cpu\")\n",
        "model = MobileNetV3Small().to(device)\n",
        "optimizer = optim.Adam(model.parameters(), lr=0.001)\n",
        "criterion = nn.CrossEntropyLoss()\n",
        "\n",
        "# Check if a pre-trained model should be loaded\n",
        "load_pretrained = input(\"Do you want to load a pre-trained model? (yes/no): \").lower()\n",
        "\n",
        "if load_pretrained == \"yes\":\n",
        "    # Check if a previously saved model exists\n",
        "    saved_model_path = \"mobilenetv3_small.pth\"  # Adjust the filename as needed\n",
        "    if os.path.exists(saved_model_path):\n",
        "        model = MobileNetV3Small().to(device)\n",
        "        model.load_state_dict(torch.load(saved_model_path))\n",
        "        print(\"Pre-trained model loaded.\")\n",
        "    else:\n",
        "        print(f\"No pre-trained model found at {saved_model_path}. Training a new model.\")\n",
        "        load_pretrained = \"no\"\n",
        "\n",
        "if load_pretrained != \"yes\":\n",
        "    # Training loop\n",
        "    train_losses = []\n",
        "    train_accuracies = []\n",
        "    validation_losses = []\n",
        "    validation_accuracies = []\n",
        "\n",
        "    # Append metrics for later plotting\n",
        "    train_losses.append(train_loss)\n",
        "    train_accuracies.append(train_acc)\n",
        "    validation_losses.append(val_loss)\n",
        "    validation_accuracies.append(val_acc)\n",
        "\n",
        "    # Early stopping\n",
        "    patience = 5\n",
        "    best_val_loss = float('inf')  # Initialize here\n",
        "    epochs_no_improve = 0\n",
        "\n",
        "    for epoch in range(50):\n",
        "        # Training\n",
        "        train_loss, train_acc = train(model, train_loader, criterion, optimizer)\n",
        "\n",
        "        # Validation\n",
        "        val_loss, val_acc, _, _ = test(model, val_loader, criterion)\n",
        "\n",
        "        print(f\"Epoch {epoch + 1} - \"\n",
        "              f\"Train Loss: {train_loss:.4f} Train Acc: {train_acc:.4f} \"\n",
        "              f\"Validation Loss: {val_loss:.4f} Validation Acc: {val_acc:.4f}\")\n",
        "\n",
        "        # Append metrics for later plotting\n",
        "        train_losses.append(train_loss)\n",
        "        train_accuracies.append(train_acc)\n",
        "        validation_losses.append(val_loss)\n",
        "        validation_accuracies.append(val_acc)\n",
        "\n",
        "        # Early stopping\n",
        "        if val_loss < best_val_loss:\n",
        "            best_val_loss = val_loss\n",
        "            epochs_no_improve = 0\n",
        "        else:\n",
        "            epochs_no_improve += 1\n",
        "\n",
        "        if epochs_no_improve == patience:\n",
        "            print(\"Early stopping!\")\n",
        "            break\n",
        "\n",
        "    # Testing\n",
        "    test_loss, test_acc, test_preds, test_labels = test(model, test_loader, criterion)\n",
        "    print(f\"Final Test Loss: {test_loss:.4f} Test Acc: {test_acc:.4f}\")\n"
      ],
      "metadata": {
        "colab": {
          "base_uri": "https://localhost:8080/"
        },
        "id": "hrpnSomSCAoh",
        "outputId": "8d54cd9f-a525-4e1f-e2f6-cb14f2b74982"
      },
      "execution_count": null,
      "outputs": [
        {
          "output_type": "stream",
          "name": "stderr",
          "text": [
            "/usr/local/lib/python3.10/dist-packages/torchvision/models/_utils.py:208: UserWarning: The parameter 'pretrained' is deprecated since 0.13 and may be removed in the future, please use 'weights' instead.\n",
            "  warnings.warn(\n",
            "/usr/local/lib/python3.10/dist-packages/torchvision/models/_utils.py:223: UserWarning: Arguments other than a weight enum or `None` for 'weights' are deprecated since 0.13 and may be removed in the future. The current behavior is equivalent to passing `weights=MobileNet_V3_Small_Weights.IMAGENET1K_V1`. You can also use `weights=MobileNet_V3_Small_Weights.DEFAULT` to get the most up-to-date weights.\n",
            "  warnings.warn(msg)\n"
          ]
        },
        {
          "output_type": "stream",
          "name": "stdout",
          "text": [
            "Do you want to load a pre-trained model? (yes/no): n\n",
            "Epoch 1 - Train Loss: 0.2746 Train Acc: 0.0563 Validation Loss: 0.2218 Validation Acc: 0.9352\n",
            "Epoch 2 - Train Loss: 0.1751 Train Acc: 0.0589 Validation Loss: 0.1178 Validation Acc: 0.9560\n",
            "Epoch 3 - Train Loss: 0.1309 Train Acc: 0.0604 Validation Loss: 0.3953 Validation Acc: 0.8681\n",
            "Epoch 4 - Train Loss: 0.1009 Train Acc: 0.0608 Validation Loss: 0.3523 Validation Acc: 0.8958\n",
            "Epoch 5 - Train Loss: 0.1065 Train Acc: 0.0604 Validation Loss: 0.1721 Validation Acc: 0.9514\n",
            "Epoch 6 - Train Loss: 0.1089 Train Acc: 0.0611 Validation Loss: 0.2192 Validation Acc: 0.9583\n",
            "Epoch 7 - Train Loss: 0.0771 Train Acc: 0.0607 Validation Loss: 0.4884 Validation Acc: 0.8565\n",
            "Early stopping!\n",
            "Final Test Loss: 0.4087 Test Acc: 0.8733\n"
          ]
        }
      ]
    },
    {
      "cell_type": "code",
      "source": [
        "# Plot training and validation loss curves\n",
        "plt.plot(train_losses, label='Training Loss')\n",
        "plt.plot(validation_losses, label='Validation Loss')\n",
        "plt.xlabel('Epoch')\n",
        "plt.ylabel('Loss')\n",
        "plt.figure(figsize=(8, 8))\n",
        "plt.show()\n",
        "\n",
        "\n"
      ],
      "metadata": {
        "colab": {
          "base_uri": "https://localhost:8080/",
          "height": 466
        },
        "id": "gt3fcXh7F3ru",
        "outputId": "c7be9932-4169-4c8d-e3ca-84f851719caa"
      },
      "execution_count": null,
      "outputs": [
        {
          "output_type": "display_data",
          "data": {
            "text/plain": [
              "<Figure size 640x480 with 1 Axes>"
            ],
            "image/png": "[encoded data removed]"
          },
          "metadata": {}
        },
        {
          "output_type": "display_data",
          "data": {
            "text/plain": [
              "<Figure size 800x800 with 0 Axes>"
            ]
          },
          "metadata": {}
        }
      ]
    },
    {
      "cell_type": "code",
      "source": [
        "# Plot confusion matrix\n",
        "cm = confusion_matrix(test_labels, test_preds)\n",
        "plt.figure(figsize=(8, 8))\n",
        "plt.imshow(cm, interpolation='nearest', cmap=plt.cm.Blues)\n",
        "plt.title('Confusion Matrix')\n",
        "plt.colorbar()\n",
        "plt.show()\n"
      ],
      "metadata": {
        "colab": {
          "base_uri": "https://localhost:8080/",
          "height": 653
        },
        "id": "aeiNmoWaMZue",
        "outputId": "fd36b43d-9bde-44ea-ef72-e976de14c01d"
      },
      "execution_count": null,
      "outputs": [
        {
          "output_type": "display_data",
          "data": {
            "text/plain": [
              "<Figure size 800x800 with 2 Axes>"
            ],
            "image/png": "[encoded data removed]"
          },
          "metadata": {}
        }
      ]
    },
    {
      "cell_type": "code",
      "source": [
        "# Additional metrics\n",
        "f1 = f1_score(test_labels, test_preds, average='weighted')\n",
        "precision = precision_score(test_labels, test_preds, average='weighted')\n",
        "recall = recall_score(test_labels, test_preds, average='weighted')\n",
        "\n",
        "print(f\"F1 Score: {f1:.4f}\")\n",
        "print(f\"Precision: {precision:.4f}\")\n",
        "print(f\"Recall: {recall:.4f}\")\n",
        "\n",
        "# Classification report\n",
        "class_report = classification_report(test_labels, test_preds, target_names=dataset.class_names)\n",
        "print(\"Classification Report:\\n\", class_report)\n",
        "\n",
        "# Save the model\n",
        "save_model = input(\"Do you want to save the trained model? (yes/no): \").lower()\n",
        "if save_model == \"yes\":\n",
        "    model_save_path = \"mobilenetv3_adam_small.pth\"  # Adjust the filename as needed\n",
        "    torch.save(model.state_dict(), model_save_path)\n",
        "    print(\"Model saved.\")\n"
      ],
      "metadata": {
        "colab": {
          "base_uri": "https://localhost:8080/"
        },
        "id": "1q17UF8BMeV1",
        "outputId": "6f223f67-b58a-4358-a433-61cd1476a56d"
      },
      "execution_count": null,
      "outputs": [
        {
          "name": "stdout",
          "output_type": "stream",
          "text": [
            "F1 Score: 0.8723\n",
            "Precision: 0.8963\n",
            "Recall: 0.8733\n",
            "Classification Report:\n",
            "               precision    recall  f1-score   support\n",
            "\n",
            "      normal       0.99      0.77      0.86       229\n",
            "    abnormal       0.79      0.99      0.88       205\n",
            "\n",
            "    accuracy                           0.87       434\n",
            "   macro avg       0.89      0.88      0.87       434\n",
            "weighted avg       0.90      0.87      0.87       434\n",
            "\n",
            "Do you want to save the trained model? (yes/no): y\n"
          ]
        }
      ]
    },
    {
      "cell_type": "markdown",
      "source": [
        " Evaluation Metrics:\n",
        " - F1 Score (0.8723): A balanced measure of precision and recall.\n",
        " - Precision (0.8963): The accuracy of positive predictions.\n",
        " - Recall (0.8733): The ability to identify all relevant instances.\n",
        " - Classification Report: Detailed metrics for each class (\"normal\" and \"abnormal\").\n",
        "   - For \"normal\": High precision (few false positives), moderate recall.\n",
        "   - For \"abnormal\": Good precision, very high recall (few false negatives).\n",
        " - Accuracy (0.87): Overall correct predictions.\n",
        " - Macro Avg and Weighted Avg: Averages for precision, recall, and F1-score.\n",
        "In summary, the model seems to perform well with a good balance between precision and recall. The detailed classification report provides insights into the performance for each class.\n",
        "\n",
        "\n",
        "\n",
        "\n"
      ],
      "metadata": {
        "id": "QBaeiQlMHqLr"
      }
    },
    {
      "cell_type": "code",
      "source": [
        "def count_parameters(model):\n",
        "    return sum(p.numel() for p in model.parameters() if p.requires_grad)\n",
        "\n",
        "num_params = count_parameters(model)\n",
        "print(f\"Number of trainable parameters in the model: {num_params}\")\n"
      ],
      "metadata": {
        "colab": {
          "base_uri": "https://localhost:8080/"
        },
        "id": "d0dWqeSmQSg6",
        "outputId": "ffe35755-beb1-4aa2-f7d0-7db7e195e245"
      },
      "execution_count": null,
      "outputs": [
        {
          "output_type": "stream",
          "name": "stdout",
          "text": [
            "Number of trainable parameters in the model: 1519906\n"
          ]
        }
      ]
    },
    {
      "cell_type": "code",
      "source": [
        "import time\n",
        "\n",
        "# Use a sample input for inference\n",
        "sample_input = torch.randn(1, 3, 125, 125).to(device)\n",
        "\n",
        "# Measure inference time\n",
        "model.eval()\n",
        "with torch.no_grad():\n",
        "    start_time = time.time()\n",
        "    _ = model(sample_input)\n",
        "    inference_time = time.time() - start_time\n",
        "\n",
        "print(f\"Inference time for a sample input: {inference_time} seconds\")\n"
      ],
      "metadata": {
        "colab": {
          "base_uri": "https://localhost:8080/"
        },
        "id": "kbNiJngZQ1yf",
        "outputId": "e6265705-82f8-4050-a34e-68da1d0845a7"
      },
      "execution_count": null,
      "outputs": [
        {
          "output_type": "stream",
          "name": "stdout",
          "text": [
            "Inference time for a sample input: 0.015441417694091797 seconds\n"
          ]
        }
      ]
    }
  ],
  "metadata": {
    "colab": {
      "provenance": []
    },
    "kernelspec": {
      "display_name": "Python 3",
      "name": "python3"
    },
    "language_info": {
      "name": "python"
    }
  },
  "nbformat": 4,
  "nbformat_minor": 0
}