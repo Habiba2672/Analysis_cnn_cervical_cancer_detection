{
  "cells": [
    {
      "cell_type": "code",
      "execution_count": null,
      "metadata": {
        "id": "_4WNwmfIhDBw"
      },
      "outputs": [],
      "source": [
        "!cp /content/drive/MyDrive/sipakmed/modular/libraries.py /content\n",
        "import libraries\n"
      ]
    },
    {
      "cell_type": "code",
      "source": [
        "!pip install torchviz\n",
        "!pip install torchsummary\n",
        "!apt-get install graphviz -y\n",
        "!pip install graphviz\n",
        "!pip install Pillow\n",
        "from torchviz import make_dot\n"
      ],
      "metadata": {
        "id": "eOP1KaCxsVqJ"
      },
      "execution_count": null,
      "outputs": []
    },
    {
      "cell_type": "code",
      "execution_count": null,
      "metadata": {
        "id": "Q_-Iy8Pro9vC"
      },
      "outputs": [],
      "source": [
        "# Define the data path\n",
        "DATA_PATH = '/content/drive/MyDrive/sipakmed/sipakmed/'"
      ]
    },
    {
      "cell_type": "code",
      "execution_count": null,
      "metadata": {
        "id": "2YHgDIbcefNv"
      },
      "outputs": [],
      "source": [
        "# Import the module\n",
        "!cp /content/drive/MyDrive/sipakmed/modular/dataset_management.py /content\n",
        "\n",
        "import dataset_management\n"
      ]
    },
    {
      "cell_type": "markdown",
      "metadata": {
        "id": "cdlsheKFBk6m"
      },
      "source": [
        "i used this to make sure there isn't duplicated data and data for training was succesful and splitting dataset"
      ]
    },
    {
      "cell_type": "markdown",
      "metadata": {
        "id": "2Shz4QX-B0PI"
      },
      "source": [
        "i used this to check now how many files i have knowing that my data for sipakmed originally were 4049 bmb files"
      ]
    },
    {
      "cell_type": "code",
      "execution_count": null,
      "metadata": {
        "id": "IcIJCGyfpCFg"
      },
      "outputs": [],
      "source": [
        "# Get a list of all image file paths\n",
        "file_paths = []\n",
        "categories = []\n",
        "\n",
        "for root, dirs, files in libraries.os.walk(DATA_PATH):\n",
        "    for file in files:\n",
        "        if file.endswith('.bmp'):\n",
        "            file_path = libraries.os.path.join(root, file)\n",
        "            file_paths.append(file_path)\n",
        "            if 'normal' in file_path:\n",
        "                categories.append(0)\n",
        "            else:\n",
        "                categories.append(1)"
      ]
    },
    {
      "cell_type": "code",
      "execution_count": null,
      "metadata": {
        "id": "r5524cappSpt"
      },
      "outputs": [],
      "source": [
        "import libraries\n",
        "df = libraries.pd.DataFrame({'filename (X)': file_paths, 'category (Y)': categories})\n",
        "df"
      ]
    },
    {
      "cell_type": "code",
      "execution_count": null,
      "metadata": {
        "id": "KFUw-F7TppEF"
      },
      "outputs": [],
      "source": [
        "import os\n",
        "import shutil\n",
        "import random\n",
        "# Specify the path to your dataset on Google Drive\n",
        "drive_path = '/content/drive/MyDrive/sipakmed/sipakmed/'\n",
        "\n",
        "# Define the output directory for your divided dataset on Google Drive\n",
        "output_dir = '/content/drive/MyDrive/sipakmed/sipakmed/sipakmed_training'\n"
      ]
    },
    {
      "cell_type": "markdown",
      "metadata": {
        "id": "q2_-B8MMnI6U"
      },
      "source": [
        "to check if my data are balanced regarding the training ones or not"
      ]
    },
    {
      "cell_type": "code",
      "execution_count": null,
      "metadata": {
        "id": "jzuFJjYPmYHe"
      },
      "outputs": [],
      "source": [
        "import sys\n",
        "sys.path.append('/content/drive/My Drive/sipakmed/modular')\n",
        "\n",
        "import check_balanced_data\n",
        "check_balanced_data.check_balanced_data()\n"
      ]
    },
    {
      "cell_type": "markdown",
      "metadata": {
        "id": "nPo3BcPstc7d"
      },
      "source": [
        "data balance in normal and atypical"
      ]
    },
    {
      "cell_type": "code",
      "execution_count": null,
      "metadata": {
        "id": "lzhtrRh1tcbB"
      },
      "outputs": [],
      "source": [
        "# Function to balance data by randomly undersampling the majority class\n",
        "def balance_data(train_files):\n",
        "    normal_files = [file for file in train_files if 'normal' in file]\n",
        "    atypical_files = [file for file in train_files if 'atypical' in file]\n",
        "\n",
        "    min_samples = min(len(normal_files), len(atypical_files))\n",
        "\n",
        "    balanced_data = random.sample(normal_files, min_samples) + random.sample(atypical_files, min_samples)\n",
        "    return balanced_data\n"
      ]
    },
    {
      "cell_type": "code",
      "execution_count": null,
      "metadata": {
        "colab": {
          "base_uri": "https://localhost:8080/"
        },
        "id": "REYN38Kityq3",
        "outputId": "dc3651f7-c2b6-41f8-8a0b-278666178d82"
      },
      "outputs": [
        {
          "output_type": "stream",
          "name": "stdout",
          "text": [
            "Normal samples: 2179, Atypical samples: 2179\n",
            "The data is balanced.\n"
          ]
        }
      ],
      "source": [
        "def check_balance(data):\n",
        "    normal_count = sum(1 for file in data if 'normal' in file)\n",
        "    atypical_count = sum(1 for file in data if 'atypical' in file)\n",
        "\n",
        "    return normal_count, atypical_count\n",
        "\n",
        "# Call the balance_data function to get the balanced dataset\n",
        "balanced_train_data = balance_data(train_files)\n",
        "\n",
        "# Check the balance\n",
        "normal_count, atypical_count = check_balance(balanced_train_data)\n",
        "print(f\"Normal samples: {normal_count}, Atypical samples: {atypical_count}\")\n",
        "\n",
        "if normal_count == atypical_count:\n",
        "    print(\"The data is balanced.\")\n",
        "else:\n",
        "    print(\"The data is not balanced.\")\n"
      ]
    },
    {
      "cell_type": "markdown",
      "metadata": {
        "id": "4q7s-uFbneHG"
      },
      "source": [
        "Data preprocessing and loading using torchvision\n"
      ]
    },
    {
      "cell_type": "markdown",
      "metadata": {
        "id": "VQAzP6xevqGs"
      },
      "source": [
        " load images and their labels from the balanced_dataset:"
      ]
    },
    {
      "cell_type": "code",
      "source": [
        "!cp /content/drive/MyDrive/sipakmed/modular/data_loading.py /content\n",
        "import data_loading"
      ],
      "metadata": {
        "colab": {
          "base_uri": "https://localhost:8080/"
        },
        "id": "W2OxAImuq2dl",
        "outputId": "ff67c4f3-f5ab-4950-e008-b2c8380ae237"
      },
      "execution_count": null,
      "outputs": [
        {
          "output_type": "stream",
          "name": "stdout",
          "text": [
            "Do you want to apply data processing? (y/n): n\n",
            "Data processing skipped.\n",
            "Number of images in 'normal' class: 1159\n",
            "Number of images in 'atypical' class: 1005\n"
          ]
        }
      ]
    },
    {
      "cell_type": "code",
      "source": [
        "import torch\n",
        "import torch.nn as nn\n",
        "import torch.optim as optim\n",
        "from torch.utils.data import Dataset, DataLoader, random_split\n",
        "import torch.nn.functional as F\n",
        "import os\n",
        "from torchvision.models import mobilenet_v3_small\n",
        "from sklearn.metrics import confusion_matrix\n",
        "import seaborn as sns\n",
        "import matplotlib.pyplot as plt\n",
        "import numpy as np\n",
        "import time\n",
        "\n",
        "# Model\n",
        "class MobileNetV3Small(nn.Module):\n",
        "    def __init__(self, num_classes=2):\n",
        "        super(MobileNetV3Small, self).__init__()\n",
        "        self.model = mobilenet_v3_small(pretrained=True)\n",
        "        in_features = self.model.classifier[3].in_features\n",
        "        self.model.classifier[3] = nn.Linear(in_features, num_classes)\n",
        "\n",
        "    def forward(self, x):\n",
        "        return self.model(x)\n",
        "\n",
        "# Dataset\n",
        "class PTImageDataset(Dataset):\n",
        "    def __init__(self, data_dir):\n",
        "        self.data_dir = data_dir\n",
        "        self.files = self.get_files(data_dir)\n",
        "        self.num_classes = 2  # Assuming you have 2 classes\n",
        "        self.class_names = [\"normal\", \"abnormal\"]\n",
        "\n",
        "    def __len__(self):\n",
        "        return len(self.files)\n",
        "\n",
        "    def __getitem__(self, idx):\n",
        "        img_path = self.files[idx]\n",
        "        img_tensor = torch.load(img_path)\n",
        "\n",
        "        # Extract label from the file path or filename\n",
        "        label = self.extract_label(img_path)\n",
        "\n",
        "        return img_tensor, label\n",
        "\n",
        "    def extract_label(self, file_path):\n",
        "        # Modify this logic based on your actual file naming or directory structure\n",
        "        parts = file_path.split(os.path.sep)\n",
        "        class_name = parts[-2]\n",
        "        return 0 if class_name == \"normal\" else 1  # Adjust based on your class names\n",
        "\n",
        "    def get_files(self, data_dir):\n",
        "        all_files = []\n",
        "        for root, dirs, files in os.walk(data_dir):\n",
        "            for file in files:\n",
        "                if file.endswith(\".pt\"):\n",
        "                    all_files.append(os.path.join(root, file))\n",
        "        return all_files\n"
      ],
      "metadata": {
        "id": "ZE0SNQmN_gp7"
      },
      "execution_count": null,
      "outputs": []
    },
    {
      "cell_type": "code",
      "source": [
        "# Training function\n",
        "def train(model, train_loader, criterion, optimizer):\n",
        "    model.train()\n",
        "    epoch_loss = 0\n",
        "    epoch_acc = 0\n",
        "\n",
        "    for inputs, labels in train_loader:\n",
        "        inputs, labels = inputs.to(device), labels.to(device)\n",
        "        optimizer.zero_grad()\n",
        "        outputs = model(inputs)\n",
        "        loss = criterion(outputs, labels)\n",
        "        loss.backward()\n",
        "        optimizer.step()\n",
        "\n",
        "        epoch_loss += loss.item() * inputs.size(0)\n",
        "        _, predicted = torch.max(outputs.data, 1)\n",
        "        total = labels.size(0)\n",
        "        correct = (predicted == labels).sum().item()\n",
        "        epoch_acc += correct / total\n",
        "\n",
        "    epoch_loss /= len(train_loader.dataset)\n",
        "    epoch_acc /= len(train_loader.dataset)\n",
        "\n",
        "    return epoch_loss, epoch_acc\n",
        "\n",
        "# Placeholder for the test function\n",
        "def test(model, test_loader, criterion):\n",
        "    model.eval()\n",
        "    epoch_loss = 0\n",
        "    epoch_acc = 0\n",
        "    all_preds = []\n",
        "    all_labels = []\n",
        "\n",
        "    with torch.no_grad():\n",
        "        for inputs, labels in test_loader:\n",
        "            inputs, labels = inputs.to(device), labels.to(device)\n",
        "            outputs = model(inputs)\n",
        "\n",
        "            epoch_loss += criterion(outputs, labels).item() * inputs.size(0)\n",
        "            _, predicted = torch.max(outputs.data, 1)\n",
        "            total = labels.size(0)\n",
        "            correct = (predicted == labels).sum().item()\n",
        "            epoch_acc += correct\n",
        "\n",
        "            all_preds.extend(predicted.cpu().numpy())\n",
        "            all_labels.extend(labels.cpu().numpy())\n",
        "\n",
        "    epoch_loss /= len(test_loader.dataset)\n",
        "    epoch_acc /= len(test_loader.dataset)\n",
        "\n",
        "    return epoch_loss, epoch_acc, all_preds, all_labels\n",
        "\n",
        "# Dataset and dataloaders\n",
        "PREPROCESSED_PATH = \"/content/drive/MyDrive/sipakmed/sipakmed/sipakmed_training/preprocessed_classified/\"\n",
        "dataset = PTImageDataset(PREPROCESSED_PATH)\n",
        "total_size = len(dataset)\n",
        "train_size = int(0.6 * total_size)\n",
        "val_size = int(0.2 * total_size)\n",
        "test_size = total_size - train_size - val_size\n",
        "\n",
        "train_dataset, val_dataset, test_dataset = random_split(dataset, [train_size, val_size, test_size])\n",
        "\n",
        "train_loader = DataLoader(train_dataset, batch_size=16, shuffle=True)\n",
        "val_loader = DataLoader(val_dataset, batch_size=16, shuffle=False)\n",
        "test_loader = DataLoader(test_dataset, batch_size=16, shuffle=False)\n"
      ],
      "metadata": {
        "id": "VkKiqPzm_lFd"
      },
      "execution_count": null,
      "outputs": []
    },
    {
      "cell_type": "code",
      "source": [
        "import torch\n",
        "import torch.nn as nn\n",
        "import torch.optim as optim\n",
        "from torch.utils.data import Dataset, DataLoader, random_split\n",
        "import torch.nn.functional as F\n",
        "import os\n",
        "from sklearn.metrics import accuracy_score, confusion_matrix\n",
        "import matplotlib.pyplot as plt\n",
        "from sklearn.metrics import classification_report\n",
        "from sklearn.metrics import f1_score, precision_score, recall_score\n",
        "\n",
        "from torchvision.models import mobilenet_v3_small\n",
        "\n",
        "# Model, optimizer, loss\n",
        "device = torch.device(\"cuda\" if torch.cuda.is_available() else \"cpu\")\n",
        "model = MobileNetV3Small().to(device)\n",
        "optimizer = optim.SGD(model.parameters(), lr=0.0001, momentum=0.9)\n",
        "criterion = nn.CrossEntropyLoss()\n",
        "\n",
        "# Check if a pre-trained model should be loaded\n",
        "load_pretrained = input(\"Do you want to load a pre-trained model? (yes/no): \").lower()\n",
        "\n",
        "if load_pretrained == \"yes\":\n",
        "    # Check if a previously saved model exists\n",
        "    saved_model_path = \"mobilenetv3_small.pth\"  # Adjust the filename as needed\n",
        "    if os.path.exists(saved_model_path):\n",
        "        model = MobileNetV3Small().to(device)\n",
        "        model.load_state_dict(torch.load(saved_model_path))\n",
        "        print(\"Pre-trained model loaded.\")\n",
        "    else:\n",
        "        print(f\"No pre-trained model found at {saved_model_path}. Training a new model.\")\n",
        "        load_pretrained = \"no\"\n",
        "\n",
        "if load_pretrained != \"yes\":\n",
        "    # Training loop\n",
        "    train_losses = []\n",
        "train_accuracies = []\n",
        "validation_losses = []\n",
        "validation_accuracies = []\n",
        "patience = 5\n",
        "best_val_loss = float('inf')\n",
        "epochs_no_improve = 0\n",
        "for epoch in range(50):\n",
        "    train_loss, train_acc = train(model, train_loader, criterion, optimizer)\n",
        "    val_loss, val_acc, _, _ = test(model, val_loader, criterion)\n",
        "    print(f\"Epoch {epoch + 1} - \"\n",
        "          f\"Train Loss: {train_loss:.4f} Train Acc: {train_acc:.4f} \"\n",
        "          f\"Validation Loss: {val_loss:.4f} Validation Acc: {val_acc:.4f}\")\n",
        "    train_losses.append(train_loss)\n",
        "    train_accuracies.append(train_acc)\n",
        "    validation_losses.append(val_loss)\n",
        "    validation_accuracies.append(val_acc)\n",
        "    # Early stopping\n",
        "    if val_loss < best_val_loss:\n",
        "        best_val_loss = val_loss\n",
        "        epochs_no_improve = 0\n",
        "    else:\n",
        "        epochs_no_improve += 1\n",
        "    if epochs_no_improve == patience:\n",
        "        print(\"Early stopping!\")\n",
        "        break\n",
        "# Testing\n",
        "test_loss, test_acc, test_preds, test_labels = test(model, test_loader, criterion)\n",
        "print(f\"Final Test Loss: {test_loss:.4f} Test Acc: {test_acc:.4f}\")\n",
        "\n"
      ],
      "metadata": {
        "id": "Ksi8kSByJ-DT",
        "colab": {
          "base_uri": "https://localhost:8080/"
        },
        "outputId": "3ef36b02-6aef-4d40-f254-12c59093a1a0"
      },
      "execution_count": null,
      "outputs": [
        {
          "output_type": "stream",
          "name": "stdout",
          "text": [
            "Do you want to load a pre-trained model? (yes/no): n\n",
            "Epoch 1 - Train Loss: 0.6400 Train Acc: 0.0405 Validation Loss: 0.6148 Validation Acc: 0.6667\n",
            "Epoch 2 - Train Loss: 0.5006 Train Acc: 0.0515 Validation Loss: 0.5327 Validation Acc: 0.7708\n",
            "Epoch 3 - Train Loss: 0.4187 Train Acc: 0.0528 Validation Loss: 0.4114 Validation Acc: 0.8611\n",
            "Epoch 4 - Train Loss: 0.3696 Train Acc: 0.0549 Validation Loss: 0.3382 Validation Acc: 0.8889\n",
            "Epoch 5 - Train Loss: 0.3289 Train Acc: 0.0554 Validation Loss: 0.3040 Validation Acc: 0.8981\n",
            "Epoch 6 - Train Loss: 0.2989 Train Acc: 0.0564 Validation Loss: 0.2673 Validation Acc: 0.9074\n",
            "Epoch 7 - Train Loss: 0.2507 Train Acc: 0.0573 Validation Loss: 0.2452 Validation Acc: 0.9167\n",
            "Epoch 8 - Train Loss: 0.2512 Train Acc: 0.0574 Validation Loss: 0.2251 Validation Acc: 0.9213\n",
            "Epoch 9 - Train Loss: 0.2345 Train Acc: 0.0573 Validation Loss: 0.2075 Validation Acc: 0.9282\n",
            "Epoch 10 - Train Loss: 0.2170 Train Acc: 0.0575 Validation Loss: 0.2031 Validation Acc: 0.9259\n",
            "Epoch 11 - Train Loss: 0.2276 Train Acc: 0.0574 Validation Loss: 0.1879 Validation Acc: 0.9352\n",
            "Epoch 12 - Train Loss: 0.1984 Train Acc: 0.0586 Validation Loss: 0.1868 Validation Acc: 0.9352\n",
            "Epoch 13 - Train Loss: 0.2012 Train Acc: 0.0586 Validation Loss: 0.1752 Validation Acc: 0.9421\n",
            "Epoch 14 - Train Loss: 0.1905 Train Acc: 0.0581 Validation Loss: 0.1662 Validation Acc: 0.9398\n",
            "Epoch 15 - Train Loss: 0.1819 Train Acc: 0.0586 Validation Loss: 0.1641 Validation Acc: 0.9444\n",
            "Epoch 16 - Train Loss: 0.1588 Train Acc: 0.0597 Validation Loss: 0.1613 Validation Acc: 0.9468\n",
            "Epoch 17 - Train Loss: 0.1672 Train Acc: 0.0592 Validation Loss: 0.1581 Validation Acc: 0.9444\n",
            "Epoch 18 - Train Loss: 0.1494 Train Acc: 0.0594 Validation Loss: 0.1624 Validation Acc: 0.9560\n",
            "Epoch 19 - Train Loss: 0.1607 Train Acc: 0.0588 Validation Loss: 0.1581 Validation Acc: 0.9560\n",
            "Epoch 20 - Train Loss: 0.1632 Train Acc: 0.0594 Validation Loss: 0.1475 Validation Acc: 0.9514\n",
            "Epoch 21 - Train Loss: 0.1468 Train Acc: 0.0600 Validation Loss: 0.1406 Validation Acc: 0.9560\n",
            "Epoch 22 - Train Loss: 0.1564 Train Acc: 0.0591 Validation Loss: 0.1525 Validation Acc: 0.9537\n",
            "Epoch 23 - Train Loss: 0.1376 Train Acc: 0.0599 Validation Loss: 0.1439 Validation Acc: 0.9560\n",
            "Epoch 24 - Train Loss: 0.1341 Train Acc: 0.0602 Validation Loss: 0.1378 Validation Acc: 0.9537\n",
            "Epoch 25 - Train Loss: 0.1237 Train Acc: 0.0598 Validation Loss: 0.1392 Validation Acc: 0.9560\n",
            "Epoch 26 - Train Loss: 0.1244 Train Acc: 0.0605 Validation Loss: 0.1389 Validation Acc: 0.9560\n",
            "Epoch 27 - Train Loss: 0.1310 Train Acc: 0.0593 Validation Loss: 0.1345 Validation Acc: 0.9583\n",
            "Epoch 28 - Train Loss: 0.1134 Train Acc: 0.0601 Validation Loss: 0.1288 Validation Acc: 0.9537\n",
            "Epoch 29 - Train Loss: 0.1214 Train Acc: 0.0604 Validation Loss: 0.1252 Validation Acc: 0.9583\n",
            "Epoch 30 - Train Loss: 0.1367 Train Acc: 0.0599 Validation Loss: 0.1297 Validation Acc: 0.9560\n",
            "Epoch 31 - Train Loss: 0.1324 Train Acc: 0.0600 Validation Loss: 0.1312 Validation Acc: 0.9560\n",
            "Epoch 32 - Train Loss: 0.1271 Train Acc: 0.0602 Validation Loss: 0.1264 Validation Acc: 0.9560\n",
            "Epoch 33 - Train Loss: 0.1247 Train Acc: 0.0594 Validation Loss: 0.1266 Validation Acc: 0.9537\n",
            "Epoch 34 - Train Loss: 0.1217 Train Acc: 0.0599 Validation Loss: 0.1248 Validation Acc: 0.9560\n",
            "Epoch 35 - Train Loss: 0.1044 Train Acc: 0.0608 Validation Loss: 0.1235 Validation Acc: 0.9560\n",
            "Epoch 36 - Train Loss: 0.1270 Train Acc: 0.0599 Validation Loss: 0.1293 Validation Acc: 0.9583\n",
            "Epoch 37 - Train Loss: 0.1270 Train Acc: 0.0601 Validation Loss: 0.1193 Validation Acc: 0.9560\n",
            "Epoch 38 - Train Loss: 0.1203 Train Acc: 0.0599 Validation Loss: 0.1225 Validation Acc: 0.9606\n",
            "Epoch 39 - Train Loss: 0.0964 Train Acc: 0.0611 Validation Loss: 0.1201 Validation Acc: 0.9560\n",
            "Epoch 40 - Train Loss: 0.1088 Train Acc: 0.0608 Validation Loss: 0.1243 Validation Acc: 0.9560\n",
            "Epoch 41 - Train Loss: 0.1065 Train Acc: 0.0603 Validation Loss: 0.1191 Validation Acc: 0.9560\n",
            "Epoch 42 - Train Loss: 0.0997 Train Acc: 0.0607 Validation Loss: 0.1226 Validation Acc: 0.9560\n",
            "Epoch 43 - Train Loss: 0.1103 Train Acc: 0.0605 Validation Loss: 0.1178 Validation Acc: 0.9560\n",
            "Epoch 44 - Train Loss: 0.0952 Train Acc: 0.0610 Validation Loss: 0.1158 Validation Acc: 0.9583\n",
            "Epoch 45 - Train Loss: 0.1025 Train Acc: 0.0607 Validation Loss: 0.1131 Validation Acc: 0.9583\n",
            "Epoch 46 - Train Loss: 0.0836 Train Acc: 0.0613 Validation Loss: 0.1165 Validation Acc: 0.9583\n",
            "Epoch 47 - Train Loss: 0.0913 Train Acc: 0.0608 Validation Loss: 0.1134 Validation Acc: 0.9606\n",
            "Epoch 48 - Train Loss: 0.0878 Train Acc: 0.0609 Validation Loss: 0.1123 Validation Acc: 0.9560\n",
            "Epoch 49 - Train Loss: 0.0706 Train Acc: 0.0619 Validation Loss: 0.1141 Validation Acc: 0.9606\n",
            "Epoch 50 - Train Loss: 0.0859 Train Acc: 0.0610 Validation Loss: 0.1124 Validation Acc: 0.9560\n",
            "Final Test Loss: 0.1283 Test Acc: 0.9539\n"
          ]
        }
      ]
    },
    {
      "cell_type": "code",
      "source": [
        "!cp /content/drive/MyDrive/sipakmed/modular/acc_loss_curves.py /content\n",
        "import acc_loss_curves"
      ],
      "metadata": {
        "colab": {
          "base_uri": "https://localhost:8080/",
          "height": 406
        },
        "id": "sLBhxNB3zTUt",
        "outputId": "a50d7961-bef8-48a2-e693-70a95bcc70a1"
      },
      "execution_count": null,
      "outputs": [
        {
          "output_type": "display_data",
          "data": {
            "text/plain": [
              "<Figure size 800x400 with 2 Axes>"
            ],
            "image/png": "[encoded data removed]"
          },
          "metadata": {}
        }
      ]
    },
    {
      "cell_type": "code",
      "source": [
        "!cp /content/drive/MyDrive/sipakmed/modular/confusion_matrix.py /content\n",
        "import confusion_matrix"
      ],
      "metadata": {
        "colab": {
          "base_uri": "https://localhost:8080/",
          "height": 653
        },
        "id": "o3I4eMS9M2bt",
        "outputId": "b7ef1c28-e02f-46c2-eb79-31e7111cecaa"
      },
      "execution_count": null,
      "outputs": [
        {
          "output_type": "display_data",
          "data": {
            "text/plain": [
              "<Figure size 800x800 with 2 Axes>"
            ],
            "image/png": "[encoded data removed]"
          },
          "metadata": {}
        }
      ]
    },
    {
      "cell_type": "code",
      "source": [
        "!cp /content/drive/MyDrive/sipakmed/modular/evaluation_metrics.py /content\n",
        "import evaluation_metrics\n"
      ],
      "metadata": {
        "colab": {
          "base_uri": "https://localhost:8080/"
        },
        "id": "-YO9AbxkM5PA",
        "outputId": "069abeb8-5b69-40fa-ad68-388e8c87a38d"
      },
      "execution_count": null,
      "outputs": [
        {
          "name": "stdout",
          "output_type": "stream",
          "text": [
            "F1 Score: 0.9539\n",
            "Precision: 0.9544\n",
            "Recall: 0.9539\n",
            "Classification Report:\n",
            "               precision    recall  f1-score   support\n",
            "\n",
            "      normal       0.94      0.97      0.96       230\n",
            "    abnormal       0.97      0.93      0.95       204\n",
            "\n",
            "    accuracy                           0.95       434\n",
            "   macro avg       0.96      0.95      0.95       434\n",
            "weighted avg       0.95      0.95      0.95       434\n",
            "\n",
            "Do you want to save the trained model? (yes/no): y\n"
          ]
        }
      ]
    },
    {
      "cell_type": "code",
      "source": [
        "def count_parameters(model):\n",
        "    return sum(p.numel() for p in model.parameters() if p.requires_grad)\n",
        "\n",
        "num_params = count_parameters(model)\n",
        "print(f\"Number of trainable parameters in the model: {num_params}\")\n"
      ],
      "metadata": {
        "colab": {
          "base_uri": "https://localhost:8080/"
        },
        "id": "VnMzL6-3RRvJ",
        "outputId": "1a9f452e-c3d2-42da-aae2-b850f95874d9"
      },
      "execution_count": null,
      "outputs": [
        {
          "output_type": "stream",
          "name": "stdout",
          "text": [
            "Number of trainable parameters in the model: 1519906\n"
          ]
        }
      ]
    },
    {
      "cell_type": "code",
      "source": [
        "!cp /content/drive/MyDrive/sipakmed/modular/sample_input_time.py /content\n",
        "import sample_input_time"
      ],
      "metadata": {
        "colab": {
          "base_uri": "https://localhost:8080/"
        },
        "id": "--PQH9IkRT-J",
        "outputId": "6b12ceac-f511-4134-9a0d-4b8b3d61c511"
      },
      "execution_count": null,
      "outputs": [
        {
          "output_type": "stream",
          "name": "stdout",
          "text": [
            "Inference time for a sample input: 0.017484664916992188 seconds\n"
          ]
        }
      ]
    },
    {
      "cell_type": "code",
      "source": [
        "from torchsummary import summary\n",
        "\n",
        "# Instantiate the model\n",
        "model = mobilenet_v3_small()\n",
        "\n",
        "# Define a function to print a concise summary\n",
        "def concise_summary(model, input_size):\n",
        "    summary(model, input_size, device=\"cuda\" if torch.cuda.is_available() else \"cpu\")\n",
        "\n",
        "# Print the concise summary\n",
        "input_size = (3, 125, 125)\n",
        "concise_summary(model, input_size)\n"
      ],
      "metadata": {
        "colab": {
          "base_uri": "https://localhost:8080/"
        },
        "id": "pf-yO9442Mz6",
        "outputId": "b3022491-de3f-41dc-d48b-6ee805f4221f"
      },
      "execution_count": null,
      "outputs": [
        {
          "output_type": "stream",
          "name": "stdout",
          "text": [
            "----------------------------------------------------------------\n",
            "        Layer (type)               Output Shape         Param #\n",
            "================================================================\n",
            "            Conv2d-1           [-1, 16, 63, 63]             432\n",
            "       BatchNorm2d-2           [-1, 16, 63, 63]              32\n",
            "         Hardswish-3           [-1, 16, 63, 63]               0\n",
            "            Conv2d-4           [-1, 16, 32, 32]             144\n",
            "       BatchNorm2d-5           [-1, 16, 32, 32]              32\n",
            "              ReLU-6           [-1, 16, 32, 32]               0\n",
            " AdaptiveAvgPool2d-7             [-1, 16, 1, 1]               0\n",
            "            Conv2d-8              [-1, 8, 1, 1]             136\n",
            "              ReLU-9              [-1, 8, 1, 1]               0\n",
            "           Conv2d-10             [-1, 16, 1, 1]             144\n",
            "      Hardsigmoid-11             [-1, 16, 1, 1]               0\n",
            "SqueezeExcitation-12           [-1, 16, 32, 32]               0\n",
            "           Conv2d-13           [-1, 16, 32, 32]             256\n",
            "      BatchNorm2d-14           [-1, 16, 32, 32]              32\n",
            " InvertedResidual-15           [-1, 16, 32, 32]               0\n",
            "           Conv2d-16           [-1, 72, 32, 32]           1,152\n",
            "      BatchNorm2d-17           [-1, 72, 32, 32]             144\n",
            "             ReLU-18           [-1, 72, 32, 32]               0\n",
            "           Conv2d-19           [-1, 72, 16, 16]             648\n",
            "      BatchNorm2d-20           [-1, 72, 16, 16]             144\n",
            "             ReLU-21           [-1, 72, 16, 16]               0\n",
            "           Conv2d-22           [-1, 24, 16, 16]           1,728\n",
            "      BatchNorm2d-23           [-1, 24, 16, 16]              48\n",
            " InvertedResidual-24           [-1, 24, 16, 16]               0\n",
            "           Conv2d-25           [-1, 88, 16, 16]           2,112\n",
            "      BatchNorm2d-26           [-1, 88, 16, 16]             176\n",
            "             ReLU-27           [-1, 88, 16, 16]               0\n",
            "           Conv2d-28           [-1, 88, 16, 16]             792\n",
            "      BatchNorm2d-29           [-1, 88, 16, 16]             176\n",
            "             ReLU-30           [-1, 88, 16, 16]               0\n",
            "           Conv2d-31           [-1, 24, 16, 16]           2,112\n",
            "      BatchNorm2d-32           [-1, 24, 16, 16]              48\n",
            " InvertedResidual-33           [-1, 24, 16, 16]               0\n",
            "           Conv2d-34           [-1, 96, 16, 16]           2,304\n",
            "      BatchNorm2d-35           [-1, 96, 16, 16]             192\n",
            "        Hardswish-36           [-1, 96, 16, 16]               0\n",
            "           Conv2d-37             [-1, 96, 8, 8]           2,400\n",
            "      BatchNorm2d-38             [-1, 96, 8, 8]             192\n",
            "        Hardswish-39             [-1, 96, 8, 8]               0\n",
            "AdaptiveAvgPool2d-40             [-1, 96, 1, 1]               0\n",
            "           Conv2d-41             [-1, 24, 1, 1]           2,328\n",
            "             ReLU-42             [-1, 24, 1, 1]               0\n",
            "           Conv2d-43             [-1, 96, 1, 1]           2,400\n",
            "      Hardsigmoid-44             [-1, 96, 1, 1]               0\n",
            "SqueezeExcitation-45             [-1, 96, 8, 8]               0\n",
            "           Conv2d-46             [-1, 40, 8, 8]           3,840\n",
            "      BatchNorm2d-47             [-1, 40, 8, 8]              80\n",
            " InvertedResidual-48             [-1, 40, 8, 8]               0\n",
            "           Conv2d-49            [-1, 240, 8, 8]           9,600\n",
            "      BatchNorm2d-50            [-1, 240, 8, 8]             480\n",
            "        Hardswish-51            [-1, 240, 8, 8]               0\n",
            "           Conv2d-52            [-1, 240, 8, 8]           6,000\n",
            "      BatchNorm2d-53            [-1, 240, 8, 8]             480\n",
            "        Hardswish-54            [-1, 240, 8, 8]               0\n",
            "AdaptiveAvgPool2d-55            [-1, 240, 1, 1]               0\n",
            "           Conv2d-56             [-1, 64, 1, 1]          15,424\n",
            "             ReLU-57             [-1, 64, 1, 1]               0\n",
            "           Conv2d-58            [-1, 240, 1, 1]          15,600\n",
            "      Hardsigmoid-59            [-1, 240, 1, 1]               0\n",
            "SqueezeExcitation-60            [-1, 240, 8, 8]               0\n",
            "           Conv2d-61             [-1, 40, 8, 8]           9,600\n",
            "      BatchNorm2d-62             [-1, 40, 8, 8]              80\n",
            " InvertedResidual-63             [-1, 40, 8, 8]               0\n",
            "           Conv2d-64            [-1, 240, 8, 8]           9,600\n",
            "      BatchNorm2d-65            [-1, 240, 8, 8]             480\n",
            "        Hardswish-66            [-1, 240, 8, 8]               0\n",
            "           Conv2d-67            [-1, 240, 8, 8]           6,000\n",
            "      BatchNorm2d-68            [-1, 240, 8, 8]             480\n",
            "        Hardswish-69            [-1, 240, 8, 8]               0\n",
            "AdaptiveAvgPool2d-70            [-1, 240, 1, 1]               0\n",
            "           Conv2d-71             [-1, 64, 1, 1]          15,424\n",
            "             ReLU-72             [-1, 64, 1, 1]               0\n",
            "           Conv2d-73            [-1, 240, 1, 1]          15,600\n",
            "      Hardsigmoid-74            [-1, 240, 1, 1]               0\n",
            "SqueezeExcitation-75            [-1, 240, 8, 8]               0\n",
            "           Conv2d-76             [-1, 40, 8, 8]           9,600\n",
            "      BatchNorm2d-77             [-1, 40, 8, 8]              80\n",
            " InvertedResidual-78             [-1, 40, 8, 8]               0\n",
            "           Conv2d-79            [-1, 120, 8, 8]           4,800\n",
            "      BatchNorm2d-80            [-1, 120, 8, 8]             240\n",
            "        Hardswish-81            [-1, 120, 8, 8]               0\n",
            "           Conv2d-82            [-1, 120, 8, 8]           3,000\n",
            "      BatchNorm2d-83            [-1, 120, 8, 8]             240\n",
            "        Hardswish-84            [-1, 120, 8, 8]               0\n",
            "AdaptiveAvgPool2d-85            [-1, 120, 1, 1]               0\n",
            "           Conv2d-86             [-1, 32, 1, 1]           3,872\n",
            "             ReLU-87             [-1, 32, 1, 1]               0\n",
            "           Conv2d-88            [-1, 120, 1, 1]           3,960\n",
            "      Hardsigmoid-89            [-1, 120, 1, 1]               0\n",
            "SqueezeExcitation-90            [-1, 120, 8, 8]               0\n",
            "           Conv2d-91             [-1, 48, 8, 8]           5,760\n",
            "      BatchNorm2d-92             [-1, 48, 8, 8]              96\n",
            " InvertedResidual-93             [-1, 48, 8, 8]               0\n",
            "           Conv2d-94            [-1, 144, 8, 8]           6,912\n",
            "      BatchNorm2d-95            [-1, 144, 8, 8]             288\n",
            "        Hardswish-96            [-1, 144, 8, 8]               0\n",
            "           Conv2d-97            [-1, 144, 8, 8]           3,600\n",
            "      BatchNorm2d-98            [-1, 144, 8, 8]             288\n",
            "        Hardswish-99            [-1, 144, 8, 8]               0\n",
            "AdaptiveAvgPool2d-100            [-1, 144, 1, 1]               0\n",
            "          Conv2d-101             [-1, 40, 1, 1]           5,800\n",
            "            ReLU-102             [-1, 40, 1, 1]               0\n",
            "          Conv2d-103            [-1, 144, 1, 1]           5,904\n",
            "     Hardsigmoid-104            [-1, 144, 1, 1]               0\n",
            "SqueezeExcitation-105            [-1, 144, 8, 8]               0\n",
            "          Conv2d-106             [-1, 48, 8, 8]           6,912\n",
            "     BatchNorm2d-107             [-1, 48, 8, 8]              96\n",
            "InvertedResidual-108             [-1, 48, 8, 8]               0\n",
            "          Conv2d-109            [-1, 288, 8, 8]          13,824\n",
            "     BatchNorm2d-110            [-1, 288, 8, 8]             576\n",
            "       Hardswish-111            [-1, 288, 8, 8]               0\n",
            "          Conv2d-112            [-1, 288, 4, 4]           7,200\n",
            "     BatchNorm2d-113            [-1, 288, 4, 4]             576\n",
            "       Hardswish-114            [-1, 288, 4, 4]               0\n",
            "AdaptiveAvgPool2d-115            [-1, 288, 1, 1]               0\n",
            "          Conv2d-116             [-1, 72, 1, 1]          20,808\n",
            "            ReLU-117             [-1, 72, 1, 1]               0\n",
            "          Conv2d-118            [-1, 288, 1, 1]          21,024\n",
            "     Hardsigmoid-119            [-1, 288, 1, 1]               0\n",
            "SqueezeExcitation-120            [-1, 288, 4, 4]               0\n",
            "          Conv2d-121             [-1, 96, 4, 4]          27,648\n",
            "     BatchNorm2d-122             [-1, 96, 4, 4]             192\n",
            "InvertedResidual-123             [-1, 96, 4, 4]               0\n",
            "          Conv2d-124            [-1, 576, 4, 4]          55,296\n",
            "     BatchNorm2d-125            [-1, 576, 4, 4]           1,152\n",
            "       Hardswish-126            [-1, 576, 4, 4]               0\n",
            "          Conv2d-127            [-1, 576, 4, 4]          14,400\n",
            "     BatchNorm2d-128            [-1, 576, 4, 4]           1,152\n",
            "       Hardswish-129            [-1, 576, 4, 4]               0\n",
            "AdaptiveAvgPool2d-130            [-1, 576, 1, 1]               0\n",
            "          Conv2d-131            [-1, 144, 1, 1]          83,088\n",
            "            ReLU-132            [-1, 144, 1, 1]               0\n",
            "          Conv2d-133            [-1, 576, 1, 1]          83,520\n",
            "     Hardsigmoid-134            [-1, 576, 1, 1]               0\n",
            "SqueezeExcitation-135            [-1, 576, 4, 4]               0\n",
            "          Conv2d-136             [-1, 96, 4, 4]          55,296\n",
            "     BatchNorm2d-137             [-1, 96, 4, 4]             192\n",
            "InvertedResidual-138             [-1, 96, 4, 4]               0\n",
            "          Conv2d-139            [-1, 576, 4, 4]          55,296\n",
            "     BatchNorm2d-140            [-1, 576, 4, 4]           1,152\n",
            "       Hardswish-141            [-1, 576, 4, 4]               0\n",
            "          Conv2d-142            [-1, 576, 4, 4]          14,400\n",
            "     BatchNorm2d-143            [-1, 576, 4, 4]           1,152\n",
            "       Hardswish-144            [-1, 576, 4, 4]               0\n",
            "AdaptiveAvgPool2d-145            [-1, 576, 1, 1]               0\n",
            "          Conv2d-146            [-1, 144, 1, 1]          83,088\n",
            "            ReLU-147            [-1, 144, 1, 1]               0\n",
            "          Conv2d-148            [-1, 576, 1, 1]          83,520\n",
            "     Hardsigmoid-149            [-1, 576, 1, 1]               0\n",
            "SqueezeExcitation-150            [-1, 576, 4, 4]               0\n",
            "          Conv2d-151             [-1, 96, 4, 4]          55,296\n",
            "     BatchNorm2d-152             [-1, 96, 4, 4]             192\n",
            "InvertedResidual-153             [-1, 96, 4, 4]               0\n",
            "          Conv2d-154            [-1, 576, 4, 4]          55,296\n",
            "     BatchNorm2d-155            [-1, 576, 4, 4]           1,152\n",
            "       Hardswish-156            [-1, 576, 4, 4]               0\n",
            "AdaptiveAvgPool2d-157            [-1, 576, 1, 1]               0\n",
            "          Linear-158                 [-1, 1024]         590,848\n",
            "       Hardswish-159                 [-1, 1024]               0\n",
            "         Dropout-160                 [-1, 1024]               0\n",
            "          Linear-161                 [-1, 1000]       1,025,000\n",
            "================================================================\n",
            "Total params: 2,542,856\n",
            "Trainable params: 2,542,856\n",
            "Non-trainable params: 0\n",
            "----------------------------------------------------------------\n",
            "Input size (MB): 0.18\n",
            "Forward/backward pass size (MB): 11.32\n",
            "Params size (MB): 9.70\n",
            "Estimated Total Size (MB): 21.20\n",
            "----------------------------------------------------------------\n"
          ]
        }
      ]
    }
  ],
  "metadata": {
    "colab": {
      "provenance": []
    },
    "kernelspec": {
      "display_name": "Python 3",
      "name": "python3"
    },
    "language_info": {
      "name": "python"
    }
  },
  "nbformat": 4,
  "nbformat_minor": 0
}