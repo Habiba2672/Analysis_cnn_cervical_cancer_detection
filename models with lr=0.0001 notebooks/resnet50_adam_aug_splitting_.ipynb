{
  "cells": [
    {
      "cell_type": "code",
      "execution_count": null,
      "metadata": {
        "id": "_4WNwmfIhDBw",
        "colab": {
          "base_uri": "https://localhost:8080/"
        },
        "outputId": "e4600f41-50d7-4cc3-f90b-6a80517514ad"
      },
      "outputs": [
        {
          "output_type": "stream",
          "name": "stdout",
          "text": [
            "Using CPU.\n",
            "Requirement already satisfied: Pillow in /usr/local/lib/python3.10/dist-packages (9.4.0)\n"
          ]
        }
      ],
      "source": [
        "!cp /content/drive/MyDrive/sipakmed/modular/libraries.py content\n",
        "import libraries\n",
        "# Check if the Colab runtime is GPU or CPU\n",
        "if libraries.torch.cuda.is_available():\n",
        "    device = libraries.torch.device(\"cuda\")\n",
        "    print(\"Using GPU acceleration.\")\n",
        "    libraries.torch.backends.cudnn.deterministic = True  # Set CuDNN to deterministic mode\n",
        "else:\n",
        "    device = libraries.torch.device(\"cpu\")\n",
        "    print(\"Using CPU.\")\n",
        "# Set random seed for reproducibility\n",
        "random_seed = 42\n",
        "libraries.torch.manual_seed(random_seed)\n",
        "# If using GPU, set CUDA seed\n",
        "if device.type == \"cuda\":\n",
        "    libraries.torch.cuda.manual_seed(random_seed)\n"
      ]
    },
    {
      "cell_type": "code",
      "source": [
        "!pip install torchviz\n",
        "!pip install torchsummary\n",
        "!apt-get install graphviz -y\n",
        "!pip install graphviz\n",
        "!pip install Pillow\n",
        "from torchviz import make_dot\n"
      ],
      "metadata": {
        "id": "FmRgN7WNDFXd"
      },
      "execution_count": null,
      "outputs": []
    },
    {
      "cell_type": "code",
      "execution_count": null,
      "metadata": {
        "id": "Q_-Iy8Pro9vC"
      },
      "outputs": [],
      "source": [
        "\n",
        "# Define the data path\n",
        "DATA_PATH = '/content/drive/MyDrive/sipakmed/sipakmed/'"
      ]
    },
    {
      "cell_type": "code",
      "source": [
        "# Import the module\n",
        "!cp /content/drive/MyDrive/sipakmed/modular/dataset_management.py /content\n",
        "\n",
        "import dataset_management\n"
      ],
      "metadata": {
        "id": "nvu72HD8GNiF"
      },
      "execution_count": null,
      "outputs": []
    },
    {
      "cell_type": "markdown",
      "metadata": {
        "id": "2Shz4QX-B0PI"
      },
      "source": [
        "i used this to check now how many files i have knowing that my data for sipakmed originally were 4049 bmb files"
      ]
    },
    {
      "cell_type": "code",
      "execution_count": null,
      "metadata": {
        "id": "IcIJCGyfpCFg"
      },
      "outputs": [],
      "source": [
        "import sys\n",
        "sys.path.append('/content/drive/My Drive/sipakmed/modular')\n",
        "\n",
        "import libraries\n",
        "# Get a list of all image file paths\n",
        "file_paths = []\n",
        "categories = []\n",
        "\n",
        "for root, dirs, files in libraries.os.walk(DATA_PATH):\n",
        "    for file in files:\n",
        "        if file.endswith('.bmp'):\n",
        "            file_path = libraries.os.path.join(root, file)\n",
        "            file_paths.append(file_path)\n",
        "            if 'normal' in file_path:\n",
        "                categories.append(0)\n",
        "            else:\n",
        "                categories.append(1)"
      ]
    },
    {
      "cell_type": "code",
      "execution_count": null,
      "metadata": {
        "colab": {
          "base_uri": "https://localhost:8080/",
          "height": 423
        },
        "id": "r5524cappSpt",
        "outputId": "a44121b2-3d55-4021-9e0e-9ddc09c5cd62"
      },
      "outputs": [
        {
          "output_type": "execute_result",
          "data": {
            "text/plain": [
              "                                            filename (X)  category (Y)\n",
              "0      /content/drive/MyDrive/sipakmed/sipakmed/norma...             0\n",
              "1      /content/drive/MyDrive/sipakmed/sipakmed/norma...             0\n",
              "2      /content/drive/MyDrive/sipakmed/sipakmed/norma...             0\n",
              "3      /content/drive/MyDrive/sipakmed/sipakmed/norma...             0\n",
              "4      /content/drive/MyDrive/sipakmed/sipakmed/norma...             0\n",
              "...                                                  ...           ...\n",
              "11767  /content/drive/MyDrive/sipakmed/sipakmed/proce...             1\n",
              "11768  /content/drive/MyDrive/sipakmed/sipakmed/proce...             1\n",
              "11769  /content/drive/MyDrive/sipakmed/sipakmed/proce...             1\n",
              "11770  /content/drive/MyDrive/sipakmed/sipakmed/proce...             1\n",
              "11771  /content/drive/MyDrive/sipakmed/sipakmed/proce...             1\n",
              "\n",
              "[11772 rows x 2 columns]"
            ],
            "text/html": [
              "\n",
              "  <div id=\"df-a7ee3884-1f55-44b3-bf81-c4de6987989f\" class=\"colab-df-container\">\n",
              "    <div>\n",
              "<style scoped>\n",
              "    .dataframe tbody tr th:only-of-type {\n",
              "        vertical-align: middle;\n",
              "    }\n",
              "\n",
              "    .dataframe tbody tr th {\n",
              "        vertical-align: top;\n",
              "    }\n",
              "\n",
              "    .dataframe thead th {\n",
              "        text-align: right;\n",
              "    }\n",
              "</style>\n",
              "<table border=\"1\" class=\"dataframe\">\n",
              "  <thead>\n",
              "    <tr style=\"text-align: right;\">\n",
              "      <th></th>\n",
              "      <th>filename (X)</th>\n",
              "      <th>category (Y)</th>\n",
              "    </tr>\n",
              "  </thead>\n",
              "  <tbody>\n",
              "    <tr>\n",
              "      <th>0</th>\n",
              "      <td>/content/drive/MyDrive/sipakmed/sipakmed/norma...</td>\n",
              "      <td>0</td>\n",
              "    </tr>\n",
              "    <tr>\n",
              "      <th>1</th>\n",
              "      <td>/content/drive/MyDrive/sipakmed/sipakmed/norma...</td>\n",
              "      <td>0</td>\n",
              "    </tr>\n",
              "    <tr>\n",
              "      <th>2</th>\n",
              "      <td>/content/drive/MyDrive/sipakmed/sipakmed/norma...</td>\n",
              "      <td>0</td>\n",
              "    </tr>\n",
              "    <tr>\n",
              "      <th>3</th>\n",
              "      <td>/content/drive/MyDrive/sipakmed/sipakmed/norma...</td>\n",
              "      <td>0</td>\n",
              "    </tr>\n",
              "    <tr>\n",
              "      <th>4</th>\n",
              "      <td>/content/drive/MyDrive/sipakmed/sipakmed/norma...</td>\n",
              "      <td>0</td>\n",
              "    </tr>\n",
              "    <tr>\n",
              "      <th>...</th>\n",
              "      <td>...</td>\n",
              "      <td>...</td>\n",
              "    </tr>\n",
              "    <tr>\n",
              "      <th>11767</th>\n",
              "      <td>/content/drive/MyDrive/sipakmed/sipakmed/proce...</td>\n",
              "      <td>1</td>\n",
              "    </tr>\n",
              "    <tr>\n",
              "      <th>11768</th>\n",
              "      <td>/content/drive/MyDrive/sipakmed/sipakmed/proce...</td>\n",
              "      <td>1</td>\n",
              "    </tr>\n",
              "    <tr>\n",
              "      <th>11769</th>\n",
              "      <td>/content/drive/MyDrive/sipakmed/sipakmed/proce...</td>\n",
              "      <td>1</td>\n",
              "    </tr>\n",
              "    <tr>\n",
              "      <th>11770</th>\n",
              "      <td>/content/drive/MyDrive/sipakmed/sipakmed/proce...</td>\n",
              "      <td>1</td>\n",
              "    </tr>\n",
              "    <tr>\n",
              "      <th>11771</th>\n",
              "      <td>/content/drive/MyDrive/sipakmed/sipakmed/proce...</td>\n",
              "      <td>1</td>\n",
              "    </tr>\n",
              "  </tbody>\n",
              "</table>\n",
              "<p>11772 rows × 2 columns</p>\n",
              "</div>\n",
              "    <div class=\"colab-df-buttons\">\n",
              "\n",
              "  <div class=\"colab-df-container\">\n",
              "    <button class=\"colab-df-convert\" onclick=\"convertToInteractive('df-a7ee3884-1f55-44b3-bf81-c4de6987989f')\"\n",
              "            title=\"Convert this dataframe to an interactive table.\"\n",
              "            style=\"display:none;\">\n",
              "\n",
              "  <svg xmlns=\"http://www.w3.org/2000/svg\" height=\"24px\" viewBox=\"0 -960 960 960\">\n",
              "    <path d=\"M120-120v-720h720v720H120Zm60-500h600v-160H180v160Zm220 220h160v-160H400v160Zm0 220h160v-160H400v160ZM180-400h160v-160H180v160Zm440 0h160v-160H620v160ZM180-180h160v-160H180v160Zm440 0h160v-160H620v160Z\"/>\n",
              "  </svg>\n",
              "    </button>\n",
              "\n",
              "  <style>\n",
              "    .colab-df-container {\n",
              "      display:flex;\n",
              "      gap: 12px;\n",
              "    }\n",
              "\n",
              "    .colab-df-convert {\n",
              "      background-color: #E8F0FE;\n",
              "      border: none;\n",
              "      border-radius: 50%;\n",
              "      cursor: pointer;\n",
              "      display: none;\n",
              "      fill: #1967D2;\n",
              "      height: 32px;\n",
              "      padding: 0 0 0 0;\n",
              "      width: 32px;\n",
              "    }\n",
              "\n",
              "    .colab-df-convert:hover {\n",
              "      background-color: #E2EBFA;\n",
              "      box-shadow: 0px 1px 2px rgba(60, 64, 67, 0.3), 0px 1px 3px 1px rgba(60, 64, 67, 0.15);\n",
              "      fill: #174EA6;\n",
              "    }\n",
              "\n",
              "    .colab-df-buttons div {\n",
              "      margin-bottom: 4px;\n",
              "    }\n",
              "\n",
              "    [theme=dark] .colab-df-convert {\n",
              "      background-color: #3B4455;\n",
              "      fill: #D2E3FC;\n",
              "    }\n",
              "\n",
              "    [theme=dark] .colab-df-convert:hover {\n",
              "      background-color: #434B5C;\n",
              "      box-shadow: 0px 1px 3px 1px rgba(0, 0, 0, 0.15);\n",
              "      filter: drop-shadow(0px 1px 2px rgba(0, 0, 0, 0.3));\n",
              "      fill: #FFFFFF;\n",
              "    }\n",
              "  </style>\n",
              "\n",
              "    <script>\n",
              "      const buttonEl =\n",
              "        document.querySelector('#df-a7ee3884-1f55-44b3-bf81-c4de6987989f button.colab-df-convert');\n",
              "      buttonEl.style.display =\n",
              "        google.colab.kernel.accessAllowed ? 'block' : 'none';\n",
              "\n",
              "      async function convertToInteractive(key) {\n",
              "        const element = document.querySelector('#df-a7ee3884-1f55-44b3-bf81-c4de6987989f');\n",
              "        const dataTable =\n",
              "          await google.colab.kernel.invokeFunction('convertToInteractive',\n",
              "                                                    [key], {});\n",
              "        if (!dataTable) return;\n",
              "\n",
              "        const docLinkHtml = 'Like what you see? Visit the ' +\n",
              "          '<a target=\"_blank\" href=https://colab.research.google.com/notebooks/data_table.ipynb>data table notebook</a>'\n",
              "          + ' to learn more about interactive tables.';\n",
              "        element.innerHTML = '';\n",
              "        dataTable['output_type'] = 'display_data';\n",
              "        await google.colab.output.renderOutput(dataTable, element);\n",
              "        const docLink = document.createElement('div');\n",
              "        docLink.innerHTML = docLinkHtml;\n",
              "        element.appendChild(docLink);\n",
              "      }\n",
              "    </script>\n",
              "  </div>\n",
              "\n",
              "\n",
              "<div id=\"df-6b38a409-06d7-4f16-a1fc-3fb3e44509c8\">\n",
              "  <button class=\"colab-df-quickchart\" onclick=\"quickchart('df-6b38a409-06d7-4f16-a1fc-3fb3e44509c8')\"\n",
              "            title=\"Suggest charts\"\n",
              "            style=\"display:none;\">\n",
              "\n",
              "<svg xmlns=\"http://www.w3.org/2000/svg\" height=\"24px\"viewBox=\"0 0 24 24\"\n",
              "     width=\"24px\">\n",
              "    <g>\n",
              "        <path d=\"M19 3H5c-1.1 0-2 .9-2 2v14c0 1.1.9 2 2 2h14c1.1 0 2-.9 2-2V5c0-1.1-.9-2-2-2zM9 17H7v-7h2v7zm4 0h-2V7h2v10zm4 0h-2v-4h2v4z\"/>\n",
              "    </g>\n",
              "</svg>\n",
              "  </button>\n",
              "\n",
              "<style>\n",
              "  .colab-df-quickchart {\n",
              "      --bg-color: #E8F0FE;\n",
              "      --fill-color: #1967D2;\n",
              "      --hover-bg-color: #E2EBFA;\n",
              "      --hover-fill-color: #174EA6;\n",
              "      --disabled-fill-color: #AAA;\n",
              "      --disabled-bg-color: #DDD;\n",
              "  }\n",
              "\n",
              "  [theme=dark] .colab-df-quickchart {\n",
              "      --bg-color: #3B4455;\n",
              "      --fill-color: #D2E3FC;\n",
              "      --hover-bg-color: #434B5C;\n",
              "      --hover-fill-color: #FFFFFF;\n",
              "      --disabled-bg-color: #3B4455;\n",
              "      --disabled-fill-color: #666;\n",
              "  }\n",
              "\n",
              "  .colab-df-quickchart {\n",
              "    background-color: var(--bg-color);\n",
              "    border: none;\n",
              "    border-radius: 50%;\n",
              "    cursor: pointer;\n",
              "    display: none;\n",
              "    fill: var(--fill-color);\n",
              "    height: 32px;\n",
              "    padding: 0;\n",
              "    width: 32px;\n",
              "  }\n",
              "\n",
              "  .colab-df-quickchart:hover {\n",
              "    background-color: var(--hover-bg-color);\n",
              "    box-shadow: 0 1px 2px rgba(60, 64, 67, 0.3), 0 1px 3px 1px rgba(60, 64, 67, 0.15);\n",
              "    fill: var(--button-hover-fill-color);\n",
              "  }\n",
              "\n",
              "  .colab-df-quickchart-complete:disabled,\n",
              "  .colab-df-quickchart-complete:disabled:hover {\n",
              "    background-color: var(--disabled-bg-color);\n",
              "    fill: var(--disabled-fill-color);\n",
              "    box-shadow: none;\n",
              "  }\n",
              "\n",
              "  .colab-df-spinner {\n",
              "    border: 2px solid var(--fill-color);\n",
              "    border-color: transparent;\n",
              "    border-bottom-color: var(--fill-color);\n",
              "    animation:\n",
              "      spin 1s steps(1) infinite;\n",
              "  }\n",
              "\n",
              "  @keyframes spin {\n",
              "    0% {\n",
              "      border-color: transparent;\n",
              "      border-bottom-color: var(--fill-color);\n",
              "      border-left-color: var(--fill-color);\n",
              "    }\n",
              "    20% {\n",
              "      border-color: transparent;\n",
              "      border-left-color: var(--fill-color);\n",
              "      border-top-color: var(--fill-color);\n",
              "    }\n",
              "    30% {\n",
              "      border-color: transparent;\n",
              "      border-left-color: var(--fill-color);\n",
              "      border-top-color: var(--fill-color);\n",
              "      border-right-color: var(--fill-color);\n",
              "    }\n",
              "    40% {\n",
              "      border-color: transparent;\n",
              "      border-right-color: var(--fill-color);\n",
              "      border-top-color: var(--fill-color);\n",
              "    }\n",
              "    60% {\n",
              "      border-color: transparent;\n",
              "      border-right-color: var(--fill-color);\n",
              "    }\n",
              "    80% {\n",
              "      border-color: transparent;\n",
              "      border-right-color: var(--fill-color);\n",
              "      border-bottom-color: var(--fill-color);\n",
              "    }\n",
              "    90% {\n",
              "      border-color: transparent;\n",
              "      border-bottom-color: var(--fill-color);\n",
              "    }\n",
              "  }\n",
              "</style>\n",
              "\n",
              "  <script>\n",
              "    async function quickchart(key) {\n",
              "      const quickchartButtonEl =\n",
              "        document.querySelector('#' + key + ' button');\n",
              "      quickchartButtonEl.disabled = true;  // To prevent multiple clicks.\n",
              "      quickchartButtonEl.classList.add('colab-df-spinner');\n",
              "      try {\n",
              "        const charts = await google.colab.kernel.invokeFunction(\n",
              "            'suggestCharts', [key], {});\n",
              "      } catch (error) {\n",
              "        console.error('Error during call to suggestCharts:', error);\n",
              "      }\n",
              "      quickchartButtonEl.classList.remove('colab-df-spinner');\n",
              "      quickchartButtonEl.classList.add('colab-df-quickchart-complete');\n",
              "    }\n",
              "    (() => {\n",
              "      let quickchartButtonEl =\n",
              "        document.querySelector('#df-6b38a409-06d7-4f16-a1fc-3fb3e44509c8 button');\n",
              "      quickchartButtonEl.style.display =\n",
              "        google.colab.kernel.accessAllowed ? 'block' : 'none';\n",
              "    })();\n",
              "  </script>\n",
              "</div>\n",
              "    </div>\n",
              "  </div>\n"
            ]
          },
          "metadata": {},
          "execution_count": 9
        }
      ],
      "source": [
        "# Create a DataFrame\n",
        "df = libraries.pd.DataFrame({'filename (X)': file_paths, 'category (Y)': categories})\n",
        "df"
      ]
    },
    {
      "cell_type": "code",
      "execution_count": null,
      "metadata": {
        "id": "KFUw-F7TppEF"
      },
      "outputs": [],
      "source": [
        "\n",
        "# Specify the path to your dataset on Google Drive\n",
        "drive_path = '/content/drive/MyDrive/sipakmed/sipakmed/'\n",
        "\n",
        "# Define the output directory for your divided dataset on Google Drive\n",
        "output_dir = '/content/drive/MyDrive/sipakmed/sipakmed/sipakmed_training'\n"
      ]
    },
    {
      "cell_type": "markdown",
      "metadata": {
        "id": "q2_-B8MMnI6U"
      },
      "source": [
        "to check if my data are balanced regarding the training ones or not"
      ]
    },
    {
      "cell_type": "code",
      "source": [
        "\n",
        "!cp /content/drive/MyDrive/sipakmed/modular/check_balanced_data.py /content\n",
        "\n",
        "import check_balanced_data\n",
        "check_balanced_data.check_balanced_data()\n"
      ],
      "metadata": {
        "colab": {
          "base_uri": "https://localhost:8080/",
          "height": 676
        },
        "id": "7eV3o9QyH2hA",
        "outputId": "bc52fd91-09a3-490f-b75c-579d83132da7"
      },
      "execution_count": null,
      "outputs": [
        {
          "output_type": "stream",
          "name": "stdout",
          "text": [
            "Directory: /content/drive/MyDrive/sipakmed/sipakmed/sipakmed_training/, BMP File Count: 5886\n",
            "Directory: /content/drive/MyDrive/sipakmed/sipakmed/, BMP File Count: 11772\n",
            "Total BMP File Count in '/content/drive/MyDrive/sipakmed/sipakmed/': 11772\n",
            "Total BMP File Count in '/content/drive/MyDrive/sipakmed/sipakmed/sipakmed_training/': 5886\n"
          ]
        },
        {
          "output_type": "display_data",
          "data": {
            "text/plain": [
              "<Figure size 1000x600 with 1 Axes>"
            ],
            "image/png": "[encoded data removed]"
          },
          "metadata": {}
        }
      ]
    },
    {
      "cell_type": "markdown",
      "metadata": {
        "id": "nPo3BcPstc7d"
      },
      "source": [
        "check data balance in normal and atypical"
      ]
    },
    {
      "cell_type": "code",
      "execution_count": null,
      "metadata": {
        "id": "lzhtrRh1tcbB"
      },
      "outputs": [],
      "source": [
        "import libraries\n",
        "import dataset_management\n",
        "\n",
        "# Function to balance data by randomly undersampling the majority class\n",
        "def balance_data(train_files):\n",
        "    normal_files = [file for file in train_files if 'normal' in file]\n",
        "    atypical_files = [file for file in train_files if 'atypical' in file]\n",
        "\n",
        "    min_samples = min(len(normal_files), len(atypical_files))\n",
        "\n",
        "    balanced_data = libraries.random.sample(normal_files, min_samples) + libraries.random.sample(atypical_files, min_samples)\n",
        "    return balanced_data\n"
      ]
    },
    {
      "cell_type": "code",
      "execution_count": null,
      "metadata": {
        "id": "REYN38Kityq3"
      },
      "outputs": [],
      "source": [
        "\n",
        "def check_balance(data):\n",
        "    normal_count = sum(1 for file in data if 'normal' in file)\n",
        "    atypical_count = sum(1 for file in data if 'atypical' in file)\n",
        "\n",
        "    return normal_count, atypical_count\n",
        "\n",
        "# Call the balance_data function to get the balanced dataset\n",
        "balanced_train_data = balance_data(train_files)\n",
        "\n",
        "# Check the balance\n",
        "normal_count, atypical_count = check_balance(balanced_train_data)\n",
        "print(f\"Normal samples: {normal_count}, Atypical samples: {atypical_count}\")\n",
        "\n",
        "if normal_count == atypical_count:\n",
        "    print(\"The data is balanced.\")\n",
        "else:\n",
        "    print(\"The data is not balanced.\")\n"
      ]
    },
    {
      "cell_type": "markdown",
      "metadata": {
        "id": "4q7s-uFbneHG"
      },
      "source": [
        "Data preprocessing and loading using torchvision\n"
      ]
    },
    {
      "cell_type": "markdown",
      "metadata": {
        "id": "VQAzP6xevqGs"
      },
      "source": [
        " load images and their labels from the balanced_dataset:"
      ]
    },
    {
      "cell_type": "code",
      "source": [
        "!cp /content/drive/MyDrive/sipakmed/modular/data_loading.py /content\n",
        "import data_loading"
      ],
      "metadata": {
        "colab": {
          "base_uri": "https://localhost:8080/"
        },
        "id": "W2OxAImuq2dl",
        "outputId": "571c32e3-a0a4-4aa8-f0fd-22d66d58dfa1"
      },
      "execution_count": null,
      "outputs": [
        {
          "output_type": "stream",
          "name": "stdout",
          "text": [
            "Do you want to apply data processing? (y/n): n\n",
            "Data processing skipped.\n",
            "Number of images in 'normal' class: 1159\n",
            "Number of images in 'atypical' class: 1005\n"
          ]
        }
      ]
    },
    {
      "cell_type": "markdown",
      "source": [
        "defining model architicture\n"
      ],
      "metadata": {
        "id": "ENH16F1ON3dL"
      }
    },
    {
      "cell_type": "code",
      "source": [
        "\n",
        "import libraries\n",
        "from torchvision.models import resnet50  # Import ResNet-50\n",
        "PREPROCESSED_PATH = \"/content/drive/MyDrive/sipakmed/sipakmed/sipakmed_training/preprocessed_classified/\"\n",
        "\n",
        "# Model\n",
        "class ResNet50Model(libraries.nn.Module):\n",
        "    def __init__(self, num_classes=2):\n",
        "        super(ResNet50Model, self).__init__()\n",
        "        self.model = resnet50(pretrained=True)\n",
        "        in_features = self.model.fc.in_features\n",
        "        self.model.fc = nn.Linear(in_features, num_classes)\n",
        "\n",
        "    def forward(self, x):\n",
        "        return self.model(x)\n",
        "\n",
        "from torchvision import transforms\n",
        "\n",
        "# Update the PTImageDataset class\n",
        "class PTImageDataset(libraries.Dataset):\n",
        "    def __init__(self, data_dir, transform=None):\n",
        "        self.data_dir = data_dir\n",
        "        self.files = self.get_files(data_dir)\n",
        "        self.num_classes = 2  # Assuming you have 2 classes\n",
        "        self.class_names = [\"normal\", \"abnormal\"]\n",
        "        self.transform = transform\n",
        "\n",
        "    def __len__(self):\n",
        "        return len(self.files)\n",
        "\n",
        "    def __getitem__(self, idx):\n",
        "        img_path = self.files[idx]\n",
        "        img_tensor = torch.load(img_path)\n",
        "\n",
        "        # Apply transformations if specified\n",
        "        if self.transform:\n",
        "            img_tensor = self.transform(img_tensor)\n",
        "\n",
        "        # Extract label from the file path or filename\n",
        "        label = self.extract_label(img_path)\n",
        "\n",
        "        return img_tensor, label\n",
        "\n",
        "    def extract_label(self, file_path):\n",
        "        # Modify this logic based on your actual file naming or directory structure\n",
        "        parts = file_path.split(os.path.sep)\n",
        "        class_name = parts[-2]\n",
        "        return 0 if class_name == \"normal\" else 1  # Adjust based on your class names\n",
        "\n",
        "    def get_files(self, data_dir):\n",
        "        all_files = []\n",
        "        for root, dirs, files in libraries.os.walk(data_dir):\n",
        "            for file in files:\n",
        "                if file.endswith(\".pt\"):\n",
        "                    all_files.append(libraries.os.path.join(root, file))\n",
        "        return all_files\n",
        "\n"
      ],
      "metadata": {
        "id": "rncVnUPO-OAJ"
      },
      "execution_count": null,
      "outputs": []
    },
    {
      "cell_type": "code",
      "source": [
        "# Training function\n",
        "def train(model, train_loader, criterion, optimizer):\n",
        "    model.train()\n",
        "    epoch_loss = 0\n",
        "    epoch_acc = 0\n",
        "\n",
        "    for inputs, labels in train_loader:\n",
        "        inputs, labels = inputs.to(device), labels.to(device)\n",
        "        optimizer.zero_grad()\n",
        "        outputs = model(inputs)\n",
        "        loss = criterion(outputs, labels)\n",
        "        loss.backward()\n",
        "        optimizer.step()\n",
        "\n",
        "        epoch_loss += loss.item() * inputs.size(0)\n",
        "        _, predicted = torch.max(outputs.data, 1)\n",
        "        total = labels.size(0)\n",
        "        correct = (predicted == labels).sum().item()\n",
        "        epoch_acc += correct / total\n",
        "\n",
        "    epoch_loss /= len(train_loader.dataset)\n",
        "    epoch_acc /= len(train_loader.dataset)\n",
        "\n",
        "    return epoch_loss, epoch_acc\n",
        "\n",
        "# Placeholder for the test function\n",
        "def test(model, test_loader, criterion):\n",
        "    model.eval()\n",
        "    epoch_loss = 0\n",
        "    epoch_acc = 0\n",
        "    all_preds = []\n",
        "    all_labels = []\n",
        "\n",
        "    with torch.no_grad():\n",
        "        for inputs, labels in test_loader:\n",
        "            inputs, labels = inputs.to(device), labels.to(device)\n",
        "            outputs = model(inputs)\n",
        "\n",
        "            epoch_loss += criterion(outputs, labels).item() * inputs.size(0)\n",
        "            _, predicted = torch.max(outputs.data, 1)\n",
        "            total = labels.size(0)\n",
        "            correct = (predicted == labels).sum().item()\n",
        "            epoch_acc += correct\n",
        "\n",
        "            all_preds.extend(predicted.cpu().numpy())\n",
        "            all_labels.extend(labels.cpu().numpy())\n",
        "\n",
        "    epoch_loss /= len(test_loader.dataset)\n",
        "    epoch_acc /= len(test_loader.dataset)\n",
        "\n",
        "    return epoch_loss, epoch_acc, all_preds, all_labels\n",
        "\n",
        "# Dataset and dataloaders\n",
        "PREPROCESSED_PATH = \"/content/drive/MyDrive/sipakmed/sipakmed/sipakmed_training/preprocessed_classified/\"\n",
        "dataset = PTImageDataset(PREPROCESSED_PATH)\n",
        "total_size = len(dataset)\n",
        "train_size = int(0.6 * total_size)\n",
        "val_size = int(0.2 * total_size)\n",
        "test_size = total_size - train_size - val_size\n",
        "\n",
        "train_dataset, val_dataset, test_dataset = libraries.random_split(dataset, [train_size, val_size, test_size])\n",
        "\n",
        "train_loader = libraries.DataLoader(train_dataset, batch_size=16, shuffle=True)\n",
        "val_loader = libraries.DataLoader(val_dataset, batch_size=16, shuffle=False)\n",
        "test_loader = libraries.DataLoader(test_dataset, batch_size=16, shuffle=False)\n"
      ],
      "metadata": {
        "id": "UZdqk7Up-Pe3"
      },
      "execution_count": null,
      "outputs": []
    },
    {
      "cell_type": "code",
      "source": [
        "import torch\n",
        "import torch.nn as nn\n",
        "import torch.optim as optim\n",
        "from torch.utils.data import Dataset, DataLoader, random_split\n",
        "import os\n",
        "from torchvision.models import resnet50\n",
        "from sklearn.metrics import accuracy_score, confusion_matrix\n",
        "import matplotlib.pyplot as plt\n",
        "from sklearn.metrics import classification_report\n",
        "from sklearn.metrics import f1_score, precision_score, recall_score\n",
        "\n",
        "# Model, optimizer, loss\n",
        "device = torch.device(\"cuda\" if torch.cuda.is_available() else \"cpu\")\n",
        "model = ResNet50Model().to(device)\n",
        "optimizer = optim.Adam(model.parameters(), lr=0.0001)\n",
        "criterion = nn.CrossEntropyLoss()\n",
        "\n",
        "# Check if a pre-trained model should be loaded\n",
        "load_pretrained = input(\"Do you want to load a pre-trained model? (yes/no): \").lower()\n",
        "\n",
        "if load_pretrained == \"yes\":\n",
        "    # Check if a previously saved model exists\n",
        "    saved_model_path = \"resnet50_adam.pth\"  # Adjust the filename as needed\n",
        "    if os.path.exists(saved_model_path):\n",
        "        model.load_state_dict(torch.load(saved_model_path))\n",
        "        print(\"Pre-trained model loaded.\")\n",
        "    else:\n",
        "        print(f\"No pre-trained model found at {saved_model_path}. Training a new model.\")\n",
        "        load_pretrained = \"no\"\n",
        "\n",
        "if load_pretrained != \"yes\":\n",
        "    # Training loop\n",
        "    train_losses = []\n",
        "    train_accuracies = []\n",
        "    validation_losses = []\n",
        "    validation_accuracies = []\n",
        "\n",
        "    # Early stopping\n",
        "    patience = 5\n",
        "    best_val_loss = float('inf')  # Initialize here\n",
        "    epochs_no_improve = 0\n",
        "\n",
        "    for epoch in range(50):\n",
        "        # Training\n",
        "        train_loss, train_acc = train(model, train_loader, criterion, optimizer)\n",
        "\n",
        "        # Validation\n",
        "        val_loss, val_acc, _, _ = test(model, val_loader, criterion)\n",
        "\n",
        "        print(f\"Epoch {epoch + 1} - \"\n",
        "              f\"Train Loss: {train_loss:.4f} Train Acc: {train_acc:.4f} \"\n",
        "              f\"Validation Loss: {val_loss:.4f} Validation Acc: {val_acc:.4f}\")\n",
        "\n",
        "        # Append metrics for later plotting\n",
        "        train_losses.append(train_loss)\n",
        "        train_accuracies.append(train_acc)\n",
        "        validation_losses.append(val_loss)\n",
        "        validation_accuracies.append(val_acc)\n",
        "        # Early stopping\n",
        "        if val_loss < best_val_loss:\n",
        "            best_val_loss = val_loss\n",
        "            epochs_no_improve = 0\n",
        "        else:\n",
        "            epochs_no_improve += 1\n",
        "\n",
        "        if epochs_no_improve == patience:\n",
        "            print(\"Early stopping!\")\n",
        "            break\n",
        "\n",
        "    # Testing\n",
        "    test_loss, test_acc, test_preds, test_labels = test(model, test_loader, criterion)\n",
        "    print(f\"Final Test Loss: {test_loss:.4f} Test Acc: {test_acc:.4f}\")\n"
      ],
      "metadata": {
        "colab": {
          "base_uri": "https://localhost:8080/"
        },
        "id": "hrpnSomSCAoh",
        "outputId": "1a74e749-92be-4f79-c30a-eeb663d4392a"
      },
      "execution_count": null,
      "outputs": [
        {
          "output_type": "stream",
          "name": "stderr",
          "text": [
            "/usr/local/lib/python3.10/dist-packages/torchvision/models/_utils.py:208: UserWarning: The parameter 'pretrained' is deprecated since 0.13 and may be removed in the future, please use 'weights' instead.\n",
            "  warnings.warn(\n",
            "/usr/local/lib/python3.10/dist-packages/torchvision/models/_utils.py:223: UserWarning: Arguments other than a weight enum or `None` for 'weights' are deprecated since 0.13 and may be removed in the future. The current behavior is equivalent to passing `weights=ResNet50_Weights.IMAGENET1K_V1`. You can also use `weights=ResNet50_Weights.DEFAULT` to get the most up-to-date weights.\n",
            "  warnings.warn(msg)\n",
            "Downloading: \"https://download.pytorch.org/models/resnet50-0676ba61.pth\" to /root/.cache/torch/hub/checkpoints/resnet50-0676ba61.pth\n",
            "100%|██████████| 97.8M/97.8M [00:02<00:00, 42.8MB/s]\n"
          ]
        },
        {
          "output_type": "stream",
          "name": "stdout",
          "text": [
            "Do you want to load a pre-trained model? (yes/no): n\n",
            "Epoch 1 - Train Loss: 0.2315 Train Acc: 0.0568 Validation Loss: 0.0870 Validation Acc: 0.9630\n",
            "Epoch 2 - Train Loss: 0.1030 Train Acc: 0.0607 Validation Loss: 0.0790 Validation Acc: 0.9722\n",
            "Epoch 3 - Train Loss: 0.0733 Train Acc: 0.0616 Validation Loss: 0.0842 Validation Acc: 0.9745\n",
            "Epoch 4 - Train Loss: 0.0562 Train Acc: 0.0619 Validation Loss: 0.1122 Validation Acc: 0.9699\n",
            "Epoch 5 - Train Loss: 0.1271 Train Acc: 0.0603 Validation Loss: 0.0772 Validation Acc: 0.9815\n",
            "Epoch 6 - Train Loss: 0.0286 Train Acc: 0.0627 Validation Loss: 0.0626 Validation Acc: 0.9838\n",
            "Epoch 7 - Train Loss: 0.0610 Train Acc: 0.0621 Validation Loss: 0.0791 Validation Acc: 0.9653\n",
            "Epoch 8 - Train Loss: 0.0457 Train Acc: 0.0619 Validation Loss: 0.0691 Validation Acc: 0.9838\n",
            "Epoch 9 - Train Loss: 0.0798 Train Acc: 0.0612 Validation Loss: 0.0946 Validation Acc: 0.9699\n",
            "Epoch 10 - Train Loss: 0.0498 Train Acc: 0.0620 Validation Loss: 0.0503 Validation Acc: 0.9815\n",
            "Epoch 11 - Train Loss: 0.0098 Train Acc: 0.0630 Validation Loss: 0.0644 Validation Acc: 0.9815\n",
            "Epoch 12 - Train Loss: 0.0079 Train Acc: 0.0628 Validation Loss: 0.0653 Validation Acc: 0.9792\n",
            "Epoch 13 - Train Loss: 0.0452 Train Acc: 0.0623 Validation Loss: 0.0760 Validation Acc: 0.9792\n",
            "Epoch 14 - Train Loss: 0.0106 Train Acc: 0.0630 Validation Loss: 0.0636 Validation Acc: 0.9792\n",
            "Epoch 15 - Train Loss: 0.0076 Train Acc: 0.0630 Validation Loss: 0.0849 Validation Acc: 0.9722\n",
            "Early stopping!\n",
            "Final Test Loss: 0.0891 Test Acc: 0.9677\n"
          ]
        }
      ]
    },
    {
      "cell_type": "code",
      "source": [
        "!cp /content/drive/MyDrive/sipakmed/modular/acc_loss_curves.py /content\n",
        "import acc_loss_curves"
      ],
      "metadata": {
        "colab": {
          "base_uri": "https://localhost:8080/",
          "height": 407
        },
        "id": "u2iEEdUIzh19",
        "outputId": "ac9f155b-aa53-4fe5-f5ec-d05c53c1948a"
      },
      "execution_count": null,
      "outputs": [
        {
          "output_type": "display_data",
          "data": {
            "text/plain": [
              "<Figure size 800x400 with 2 Axes>"
            ],
            "image/png": "[encoded data removed]"
          },
          "metadata": {}
        }
      ]
    },
    {
      "cell_type": "code",
      "source": [
        "!cp /content/drive/MyDrive/sipakmed/modular/confusion_matrix.py /content\n",
        "import confusion_matrix"
      ],
      "metadata": {
        "colab": {
          "base_uri": "https://localhost:8080/",
          "height": 653
        },
        "id": "aeiNmoWaMZue",
        "outputId": "0b7e8239-85a4-4f91-b7a9-7a3a9d9369fb"
      },
      "execution_count": null,
      "outputs": [
        {
          "output_type": "display_data",
          "data": {
            "text/plain": [
              "<Figure size 800x800 with 2 Axes>"
            ],
            "image/png": "[encoded data removed]"
          },
          "metadata": {}
        }
      ]
    },
    {
      "cell_type": "code",
      "source": [
        "!cp /content/drive/MyDrive/sipakmed/modular/evaluation_metrics.py /content\n",
        "import evaluation_metrics\n"
      ],
      "metadata": {
        "colab": {
          "base_uri": "https://localhost:8080/"
        },
        "id": "1q17UF8BMeV1",
        "outputId": "1e53360d-8e0d-42da-a157-2fde0ff0b66b"
      },
      "execution_count": null,
      "outputs": [
        {
          "name": "stdout",
          "output_type": "stream",
          "text": [
            "F1 Score: 0.9677\n",
            "Precision: 0.9678\n",
            "Recall: 0.9677\n",
            "Classification Report:\n",
            "               precision    recall  f1-score   support\n",
            "\n",
            "      normal       0.97      0.96      0.97       222\n",
            "    abnormal       0.96      0.97      0.97       212\n",
            "\n",
            "    accuracy                           0.97       434\n",
            "   macro avg       0.97      0.97      0.97       434\n",
            "weighted avg       0.97      0.97      0.97       434\n",
            "\n",
            "Do you want to save the trained model? (yes/no): y\n"
          ]
        }
      ]
    },
    {
      "cell_type": "markdown",
      "source": [
        " Evaluation Metrics:\n",
        " - F1 Score (0.9374): A balanced measure of precision and recall.\n",
        " - Precision (0.9416): The accuracy of positive predictions.\n",
        " - Recall (0.9378): The ability to identify all relevant instances.\n",
        " - Classification Report: Detailed metrics for each class (\"normal\" and \"abnormal\").\n",
        "   - For \"normal\": High precision (few false positives), moderate recall.\n",
        "   - For \"abnormal\": Good precision, very high recall (few false negatives).\n",
        " - Accuracy (0.94): Overall correct predictions.\n",
        " - Macro Avg and Weighted Avg: Averages for precision, recall, and F1-score.\n",
        "In summary, the model seems to perform well with a good balance between precision and recall. The detailed classification report provides insights into the performance for each class.\n",
        "\n",
        "\n",
        "\n",
        "\n"
      ],
      "metadata": {
        "id": "QBaeiQlMHqLr"
      }
    },
    {
      "cell_type": "code",
      "source": [
        "def count_parameters(model):\n",
        "    return sum(p.numel() for p in model.parameters() if p.requires_grad)\n",
        "\n",
        "num_params = count_parameters(model)\n",
        "print(f\"Number of trainable parameters in the model: {num_params}\")\n"
      ],
      "metadata": {
        "colab": {
          "base_uri": "https://localhost:8080/"
        },
        "id": "d0dWqeSmQSg6",
        "outputId": "1f531c88-7be6-4081-b6f8-aeb61cd89933"
      },
      "execution_count": null,
      "outputs": [
        {
          "output_type": "stream",
          "name": "stdout",
          "text": [
            "Number of trainable parameters in the model: 23512130\n"
          ]
        }
      ]
    },
    {
      "cell_type": "code",
      "source": [
        "!cp /content/drive/MyDrive/sipakmed/modular/sample_input_time.py /content\n",
        "import sample_input_time"
      ],
      "metadata": {
        "colab": {
          "base_uri": "https://localhost:8080/"
        },
        "id": "kbNiJngZQ1yf",
        "outputId": "b6db2681-aa55-4253-f4e7-ae6ce9c42200"
      },
      "execution_count": null,
      "outputs": [
        {
          "output_type": "stream",
          "name": "stdout",
          "text": [
            "Inference time for a sample input: 0.3257710933685303 seconds\n"
          ]
        }
      ]
    },
    {
      "cell_type": "code",
      "source": [
        "from torchsummary import summary\n",
        "\n",
        "# Instantiate the model\n",
        "model = ResNet50Model()\n",
        "\n",
        "# Define a function to print a concise summary\n",
        "def concise_summary(model, input_size):\n",
        "    summary(model, input_size, device=\"cuda\" if torch.cuda.is_available() else \"cpu\")\n",
        "\n",
        "# Print the concise summary\n",
        "input_size = (3, 125, 125)\n",
        "concise_summary(model, input_size)\n"
      ],
      "metadata": {
        "colab": {
          "base_uri": "https://localhost:8080/"
        },
        "id": "UhADANg3nKRX",
        "outputId": "ba19774b-2602-44d3-d2bc-8afae93f3266"
      },
      "execution_count": null,
      "outputs": [
        {
          "output_type": "stream",
          "name": "stderr",
          "text": [
            "/usr/local/lib/python3.10/dist-packages/torchvision/models/_utils.py:208: UserWarning: The parameter 'pretrained' is deprecated since 0.13 and may be removed in the future, please use 'weights' instead.\n",
            "  warnings.warn(\n",
            "/usr/local/lib/python3.10/dist-packages/torchvision/models/_utils.py:223: UserWarning: Arguments other than a weight enum or `None` for 'weights' are deprecated since 0.13 and may be removed in the future. The current behavior is equivalent to passing `weights=ResNet50_Weights.IMAGENET1K_V1`. You can also use `weights=ResNet50_Weights.DEFAULT` to get the most up-to-date weights.\n",
            "  warnings.warn(msg)\n"
          ]
        },
        {
          "output_type": "stream",
          "name": "stdout",
          "text": [
            "----------------------------------------------------------------\n",
            "        Layer (type)               Output Shape         Param #\n",
            "================================================================\n",
            "            Conv2d-1           [-1, 64, 63, 63]           9,408\n",
            "       BatchNorm2d-2           [-1, 64, 63, 63]             128\n",
            "              ReLU-3           [-1, 64, 63, 63]               0\n",
            "         MaxPool2d-4           [-1, 64, 32, 32]               0\n",
            "            Conv2d-5           [-1, 64, 32, 32]           4,096\n",
            "       BatchNorm2d-6           [-1, 64, 32, 32]             128\n",
            "              ReLU-7           [-1, 64, 32, 32]               0\n",
            "            Conv2d-8           [-1, 64, 32, 32]          36,864\n",
            "       BatchNorm2d-9           [-1, 64, 32, 32]             128\n",
            "             ReLU-10           [-1, 64, 32, 32]               0\n",
            "           Conv2d-11          [-1, 256, 32, 32]          16,384\n",
            "      BatchNorm2d-12          [-1, 256, 32, 32]             512\n",
            "           Conv2d-13          [-1, 256, 32, 32]          16,384\n",
            "      BatchNorm2d-14          [-1, 256, 32, 32]             512\n",
            "             ReLU-15          [-1, 256, 32, 32]               0\n",
            "       Bottleneck-16          [-1, 256, 32, 32]               0\n",
            "           Conv2d-17           [-1, 64, 32, 32]          16,384\n",
            "      BatchNorm2d-18           [-1, 64, 32, 32]             128\n",
            "             ReLU-19           [-1, 64, 32, 32]               0\n",
            "           Conv2d-20           [-1, 64, 32, 32]          36,864\n",
            "      BatchNorm2d-21           [-1, 64, 32, 32]             128\n",
            "             ReLU-22           [-1, 64, 32, 32]               0\n",
            "           Conv2d-23          [-1, 256, 32, 32]          16,384\n",
            "      BatchNorm2d-24          [-1, 256, 32, 32]             512\n",
            "             ReLU-25          [-1, 256, 32, 32]               0\n",
            "       Bottleneck-26          [-1, 256, 32, 32]               0\n",
            "           Conv2d-27           [-1, 64, 32, 32]          16,384\n",
            "      BatchNorm2d-28           [-1, 64, 32, 32]             128\n",
            "             ReLU-29           [-1, 64, 32, 32]               0\n",
            "           Conv2d-30           [-1, 64, 32, 32]          36,864\n",
            "      BatchNorm2d-31           [-1, 64, 32, 32]             128\n",
            "             ReLU-32           [-1, 64, 32, 32]               0\n",
            "           Conv2d-33          [-1, 256, 32, 32]          16,384\n",
            "      BatchNorm2d-34          [-1, 256, 32, 32]             512\n",
            "             ReLU-35          [-1, 256, 32, 32]               0\n",
            "       Bottleneck-36          [-1, 256, 32, 32]               0\n",
            "           Conv2d-37          [-1, 128, 32, 32]          32,768\n",
            "      BatchNorm2d-38          [-1, 128, 32, 32]             256\n",
            "             ReLU-39          [-1, 128, 32, 32]               0\n",
            "           Conv2d-40          [-1, 128, 16, 16]         147,456\n",
            "      BatchNorm2d-41          [-1, 128, 16, 16]             256\n",
            "             ReLU-42          [-1, 128, 16, 16]               0\n",
            "           Conv2d-43          [-1, 512, 16, 16]          65,536\n",
            "      BatchNorm2d-44          [-1, 512, 16, 16]           1,024\n",
            "           Conv2d-45          [-1, 512, 16, 16]         131,072\n",
            "      BatchNorm2d-46          [-1, 512, 16, 16]           1,024\n",
            "             ReLU-47          [-1, 512, 16, 16]               0\n",
            "       Bottleneck-48          [-1, 512, 16, 16]               0\n",
            "           Conv2d-49          [-1, 128, 16, 16]          65,536\n",
            "      BatchNorm2d-50          [-1, 128, 16, 16]             256\n",
            "             ReLU-51          [-1, 128, 16, 16]               0\n",
            "           Conv2d-52          [-1, 128, 16, 16]         147,456\n",
            "      BatchNorm2d-53          [-1, 128, 16, 16]             256\n",
            "             ReLU-54          [-1, 128, 16, 16]               0\n",
            "           Conv2d-55          [-1, 512, 16, 16]          65,536\n",
            "      BatchNorm2d-56          [-1, 512, 16, 16]           1,024\n",
            "             ReLU-57          [-1, 512, 16, 16]               0\n",
            "       Bottleneck-58          [-1, 512, 16, 16]               0\n",
            "           Conv2d-59          [-1, 128, 16, 16]          65,536\n",
            "      BatchNorm2d-60          [-1, 128, 16, 16]             256\n",
            "             ReLU-61          [-1, 128, 16, 16]               0\n",
            "           Conv2d-62          [-1, 128, 16, 16]         147,456\n",
            "      BatchNorm2d-63          [-1, 128, 16, 16]             256\n",
            "             ReLU-64          [-1, 128, 16, 16]               0\n",
            "           Conv2d-65          [-1, 512, 16, 16]          65,536\n",
            "      BatchNorm2d-66          [-1, 512, 16, 16]           1,024\n",
            "             ReLU-67          [-1, 512, 16, 16]               0\n",
            "       Bottleneck-68          [-1, 512, 16, 16]               0\n",
            "           Conv2d-69          [-1, 128, 16, 16]          65,536\n",
            "      BatchNorm2d-70          [-1, 128, 16, 16]             256\n",
            "             ReLU-71          [-1, 128, 16, 16]               0\n",
            "           Conv2d-72          [-1, 128, 16, 16]         147,456\n",
            "      BatchNorm2d-73          [-1, 128, 16, 16]             256\n",
            "             ReLU-74          [-1, 128, 16, 16]               0\n",
            "           Conv2d-75          [-1, 512, 16, 16]          65,536\n",
            "      BatchNorm2d-76          [-1, 512, 16, 16]           1,024\n",
            "             ReLU-77          [-1, 512, 16, 16]               0\n",
            "       Bottleneck-78          [-1, 512, 16, 16]               0\n",
            "           Conv2d-79          [-1, 256, 16, 16]         131,072\n",
            "      BatchNorm2d-80          [-1, 256, 16, 16]             512\n",
            "             ReLU-81          [-1, 256, 16, 16]               0\n",
            "           Conv2d-82            [-1, 256, 8, 8]         589,824\n",
            "      BatchNorm2d-83            [-1, 256, 8, 8]             512\n",
            "             ReLU-84            [-1, 256, 8, 8]               0\n",
            "           Conv2d-85           [-1, 1024, 8, 8]         262,144\n",
            "      BatchNorm2d-86           [-1, 1024, 8, 8]           2,048\n",
            "           Conv2d-87           [-1, 1024, 8, 8]         524,288\n",
            "      BatchNorm2d-88           [-1, 1024, 8, 8]           2,048\n",
            "             ReLU-89           [-1, 1024, 8, 8]               0\n",
            "       Bottleneck-90           [-1, 1024, 8, 8]               0\n",
            "           Conv2d-91            [-1, 256, 8, 8]         262,144\n",
            "      BatchNorm2d-92            [-1, 256, 8, 8]             512\n",
            "             ReLU-93            [-1, 256, 8, 8]               0\n",
            "           Conv2d-94            [-1, 256, 8, 8]         589,824\n",
            "      BatchNorm2d-95            [-1, 256, 8, 8]             512\n",
            "             ReLU-96            [-1, 256, 8, 8]               0\n",
            "           Conv2d-97           [-1, 1024, 8, 8]         262,144\n",
            "      BatchNorm2d-98           [-1, 1024, 8, 8]           2,048\n",
            "             ReLU-99           [-1, 1024, 8, 8]               0\n",
            "      Bottleneck-100           [-1, 1024, 8, 8]               0\n",
            "          Conv2d-101            [-1, 256, 8, 8]         262,144\n",
            "     BatchNorm2d-102            [-1, 256, 8, 8]             512\n",
            "            ReLU-103            [-1, 256, 8, 8]               0\n",
            "          Conv2d-104            [-1, 256, 8, 8]         589,824\n",
            "     BatchNorm2d-105            [-1, 256, 8, 8]             512\n",
            "            ReLU-106            [-1, 256, 8, 8]               0\n",
            "          Conv2d-107           [-1, 1024, 8, 8]         262,144\n",
            "     BatchNorm2d-108           [-1, 1024, 8, 8]           2,048\n",
            "            ReLU-109           [-1, 1024, 8, 8]               0\n",
            "      Bottleneck-110           [-1, 1024, 8, 8]               0\n",
            "          Conv2d-111            [-1, 256, 8, 8]         262,144\n",
            "     BatchNorm2d-112            [-1, 256, 8, 8]             512\n",
            "            ReLU-113            [-1, 256, 8, 8]               0\n",
            "          Conv2d-114            [-1, 256, 8, 8]         589,824\n",
            "     BatchNorm2d-115            [-1, 256, 8, 8]             512\n",
            "            ReLU-116            [-1, 256, 8, 8]               0\n",
            "          Conv2d-117           [-1, 1024, 8, 8]         262,144\n",
            "     BatchNorm2d-118           [-1, 1024, 8, 8]           2,048\n",
            "            ReLU-119           [-1, 1024, 8, 8]               0\n",
            "      Bottleneck-120           [-1, 1024, 8, 8]               0\n",
            "          Conv2d-121            [-1, 256, 8, 8]         262,144\n",
            "     BatchNorm2d-122            [-1, 256, 8, 8]             512\n",
            "            ReLU-123            [-1, 256, 8, 8]               0\n",
            "          Conv2d-124            [-1, 256, 8, 8]         589,824\n",
            "     BatchNorm2d-125            [-1, 256, 8, 8]             512\n",
            "            ReLU-126            [-1, 256, 8, 8]               0\n",
            "          Conv2d-127           [-1, 1024, 8, 8]         262,144\n",
            "     BatchNorm2d-128           [-1, 1024, 8, 8]           2,048\n",
            "            ReLU-129           [-1, 1024, 8, 8]               0\n",
            "      Bottleneck-130           [-1, 1024, 8, 8]               0\n",
            "          Conv2d-131            [-1, 256, 8, 8]         262,144\n",
            "     BatchNorm2d-132            [-1, 256, 8, 8]             512\n",
            "            ReLU-133            [-1, 256, 8, 8]               0\n",
            "          Conv2d-134            [-1, 256, 8, 8]         589,824\n",
            "     BatchNorm2d-135            [-1, 256, 8, 8]             512\n",
            "            ReLU-136            [-1, 256, 8, 8]               0\n",
            "          Conv2d-137           [-1, 1024, 8, 8]         262,144\n",
            "     BatchNorm2d-138           [-1, 1024, 8, 8]           2,048\n",
            "            ReLU-139           [-1, 1024, 8, 8]               0\n",
            "      Bottleneck-140           [-1, 1024, 8, 8]               0\n",
            "          Conv2d-141            [-1, 512, 8, 8]         524,288\n",
            "     BatchNorm2d-142            [-1, 512, 8, 8]           1,024\n",
            "            ReLU-143            [-1, 512, 8, 8]               0\n",
            "          Conv2d-144            [-1, 512, 4, 4]       2,359,296\n",
            "     BatchNorm2d-145            [-1, 512, 4, 4]           1,024\n",
            "            ReLU-146            [-1, 512, 4, 4]               0\n",
            "          Conv2d-147           [-1, 2048, 4, 4]       1,048,576\n",
            "     BatchNorm2d-148           [-1, 2048, 4, 4]           4,096\n",
            "          Conv2d-149           [-1, 2048, 4, 4]       2,097,152\n",
            "     BatchNorm2d-150           [-1, 2048, 4, 4]           4,096\n",
            "            ReLU-151           [-1, 2048, 4, 4]               0\n",
            "      Bottleneck-152           [-1, 2048, 4, 4]               0\n",
            "          Conv2d-153            [-1, 512, 4, 4]       1,048,576\n",
            "     BatchNorm2d-154            [-1, 512, 4, 4]           1,024\n",
            "            ReLU-155            [-1, 512, 4, 4]               0\n",
            "          Conv2d-156            [-1, 512, 4, 4]       2,359,296\n",
            "     BatchNorm2d-157            [-1, 512, 4, 4]           1,024\n",
            "            ReLU-158            [-1, 512, 4, 4]               0\n",
            "          Conv2d-159           [-1, 2048, 4, 4]       1,048,576\n",
            "     BatchNorm2d-160           [-1, 2048, 4, 4]           4,096\n",
            "            ReLU-161           [-1, 2048, 4, 4]               0\n",
            "      Bottleneck-162           [-1, 2048, 4, 4]               0\n",
            "          Conv2d-163            [-1, 512, 4, 4]       1,048,576\n",
            "     BatchNorm2d-164            [-1, 512, 4, 4]           1,024\n",
            "            ReLU-165            [-1, 512, 4, 4]               0\n",
            "          Conv2d-166            [-1, 512, 4, 4]       2,359,296\n",
            "     BatchNorm2d-167            [-1, 512, 4, 4]           1,024\n",
            "            ReLU-168            [-1, 512, 4, 4]               0\n",
            "          Conv2d-169           [-1, 2048, 4, 4]       1,048,576\n",
            "     BatchNorm2d-170           [-1, 2048, 4, 4]           4,096\n",
            "            ReLU-171           [-1, 2048, 4, 4]               0\n",
            "      Bottleneck-172           [-1, 2048, 4, 4]               0\n",
            "AdaptiveAvgPool2d-173           [-1, 2048, 1, 1]               0\n",
            "          Linear-174                    [-1, 2]           4,098\n",
            "          ResNet-175                    [-1, 2]               0\n",
            "================================================================\n",
            "Total params: 23,512,130\n",
            "Trainable params: 23,512,130\n",
            "Non-trainable params: 0\n",
            "----------------------------------------------------------------\n",
            "Input size (MB): 0.18\n",
            "Forward/backward pass size (MB): 93.39\n",
            "Params size (MB): 89.69\n",
            "Estimated Total Size (MB): 183.26\n",
            "----------------------------------------------------------------\n"
          ]
        }
      ]
    }
  ],
  "metadata": {
    "colab": {
      "provenance": []
    },
    "kernelspec": {
      "display_name": "Python 3",
      "name": "python3"
    },
    "language_info": {
      "name": "python"
    }
  },
  "nbformat": 4,
  "nbformat_minor": 0
}