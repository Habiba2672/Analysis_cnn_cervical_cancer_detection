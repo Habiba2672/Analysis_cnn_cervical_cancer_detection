{
  "cells": [
    {
      "cell_type": "code",
      "execution_count": null,
      "metadata": {
        "id": "_4WNwmfIhDBw",
        "colab": {
          "base_uri": "https://localhost:8080/"
        },
        "outputId": "1fc4e45f-ca3b-4a29-a771-baa1cc346e76"
      },
      "outputs": [
        {
          "output_type": "stream",
          "name": "stdout",
          "text": [
            "Using CPU.\n"
          ]
        }
      ],
      "source": [
        "!cp /content/drive/MyDrive/sipakmed/modular/libraries.py /content\n",
        "import libraries\n",
        "\n",
        "\n",
        "# Check if the Colab runtime is GPU or CPU\n",
        "if libraries.torch.cuda.is_available():\n",
        "    device = libraries.torch.device(\"cuda\")\n",
        "    print(\"Using GPU acceleration.\")\n",
        "    libraries.torch.backends.cudnn.deterministic = True  # Set CuDNN to deterministic mode\n",
        "else:\n",
        "    device = libraries.torch.device(\"cpu\")\n",
        "    print(\"Using CPU.\")\n",
        "# Set random seed for reproducibility\n",
        "random_seed = 42\n",
        "libraries.torch.manual_seed(random_seed)\n",
        "# If using GPU, set CUDA seed\n",
        "if device.type == \"cuda\":\n",
        "    libraries.torch.cuda.manual_seed(random_seed)\n"
      ]
    },
    {
      "cell_type": "code",
      "source": [
        "!pip install torchviz\n",
        "!pip install torchsummary\n",
        "!apt-get install graphviz -y\n",
        "!pip install graphviz\n",
        "!pip install Pillow\n",
        "from torchviz import make_dot\n"
      ],
      "metadata": {
        "id": "8muHpDJu3rs1"
      },
      "execution_count": null,
      "outputs": []
    },
    {
      "cell_type": "code",
      "execution_count": null,
      "metadata": {
        "colab": {
          "base_uri": "https://localhost:8080/"
        },
        "id": "Q_-Iy8Pro9vC",
        "outputId": "e165ba15-e5a6-493f-f5e0-5c1208588910"
      },
      "outputs": [
        {
          "output_type": "stream",
          "name": "stdout",
          "text": [
            "Mounted at /content/drive\n"
          ]
        }
      ],
      "source": [
        "# Define the data path\n",
        "DATA_PATH = '/content/drive/MyDrive/sipakmed/sipakmed/'"
      ]
    },
    {
      "cell_type": "code",
      "execution_count": null,
      "metadata": {
        "id": "2YHgDIbcefNv"
      },
      "outputs": [],
      "source": [
        "# Import the module\n",
        "!cp /content/drive/MyDrive/sipakmed/modular/dataset_management.py /content\n",
        "\n",
        "import dataset_management\n",
        "import os\n"
      ]
    },
    {
      "cell_type": "markdown",
      "metadata": {
        "id": "cdlsheKFBk6m"
      },
      "source": [
        "i used this to make sure there isn't duplicated data and data for training was succesful"
      ]
    },
    {
      "cell_type": "code",
      "execution_count": null,
      "metadata": {
        "id": "IcIJCGyfpCFg"
      },
      "outputs": [],
      "source": [
        "# Get a list of all image file paths\n",
        "file_paths = []\n",
        "categories = []\n",
        "\n",
        "for root, dirs, files in os.walk(DATA_PATH):\n",
        "    for file in files:\n",
        "        if file.endswith('.bmp'):\n",
        "            file_path = libraries.os.path.join(root, file)\n",
        "            file_paths.append(file_path)\n",
        "            if 'normal' in file_path:\n",
        "                categories.append(0)\n",
        "            else:\n",
        "                categories.append(1)"
      ]
    },
    {
      "cell_type": "code",
      "execution_count": null,
      "metadata": {
        "id": "r5524cappSpt"
      },
      "outputs": [],
      "source": [
        "# Create a DataFrame\n",
        "df = libraries.pd.DataFrame({'filename (X)': file_paths, 'category (Y)': categories})\n",
        "df"
      ]
    },
    {
      "cell_type": "code",
      "execution_count": null,
      "metadata": {
        "id": "KFUw-F7TppEF"
      },
      "outputs": [],
      "source": [
        "import os\n",
        "import shutil\n",
        "import random\n",
        "# Specify the path to your dataset on Google Drive\n",
        "drive_path = '/content/drive/MyDrive/sipakmed/sipakmed/'\n",
        "\n",
        "# Define the output directory for your divided dataset on Google Drive\n",
        "output_dir = '/content/drive/MyDrive/sipakmed/sipakmed/sipakmed_training'\n"
      ]
    },
    {
      "cell_type": "markdown",
      "metadata": {
        "id": "q2_-B8MMnI6U"
      },
      "source": [
        "to check if my data are balanced regarding the training ones or not"
      ]
    },
    {
      "cell_type": "code",
      "execution_count": null,
      "metadata": {
        "colab": {
          "base_uri": "https://localhost:8080/",
          "height": 676
        },
        "id": "jzuFJjYPmYHe",
        "outputId": "f7d82221-1efe-441b-d4a4-d2c382ef7570"
      },
      "outputs": [
        {
          "output_type": "stream",
          "name": "stdout",
          "text": [
            "Directory: /content/drive/MyDrive/sipakmed/sipakmed/sipakmed_training/, BMP File Count: 5886\n",
            "Directory: /content/drive/MyDrive/sipakmed/sipakmed/, BMP File Count: 11772\n",
            "Total BMP File Count in '/content/drive/MyDrive/sipakmed/sipakmed/': 11772\n",
            "Total BMP File Count in '/content/drive/MyDrive/sipakmed/sipakmed/sipakmed_training/': 5886\n"
          ]
        },
        {
          "output_type": "display_data",
          "data": {
            "text/plain": [
              "<Figure size 1000x600 with 1 Axes>"
            ],
            "image/png": "[encoded data removed]"
          },
          "metadata": {}
        }
      ],
      "source": [
        "import sys\n",
        "sys.path.append('/content/drive/My Drive/sipakmed/modular')\n",
        "\n",
        "import check_balanced_data\n",
        "check_balanced_data.check_balanced_data()\n"
      ]
    },
    {
      "cell_type": "markdown",
      "metadata": {
        "id": "nPo3BcPstc7d"
      },
      "source": [
        "data balance in normal and atypical"
      ]
    },
    {
      "cell_type": "code",
      "execution_count": null,
      "metadata": {
        "id": "lzhtrRh1tcbB"
      },
      "outputs": [],
      "source": [
        "import random\n",
        "import dataset_management\n",
        "\n",
        "# Function to balance data by randomly undersampling the majority class\n",
        "def balance_data(train_files):\n",
        "    normal_files = [file for file in train_files if 'normal' in file]\n",
        "    atypical_files = [file for file in train_files if 'atypical' in file]\n",
        "\n",
        "    min_samples = min(len(normal_files), len(atypical_files))\n",
        "\n",
        "    balanced_data = random.sample(normal_files, min_samples) + random.sample(atypical_files, min_samples)\n",
        "    return balanced_data\n"
      ]
    },
    {
      "cell_type": "code",
      "execution_count": null,
      "metadata": {
        "colab": {
          "base_uri": "https://localhost:8080/"
        },
        "id": "REYN38Kityq3",
        "outputId": "918dd672-807f-42cb-e032-4a7046e2194f"
      },
      "outputs": [
        {
          "output_type": "stream",
          "name": "stdout",
          "text": [
            "Normal samples: 2179, Atypical samples: 2179\n",
            "The data is balanced.\n"
          ]
        }
      ],
      "source": [
        "def check_balance(data):\n",
        "    normal_count = sum(1 for file in data if 'normal' in file)\n",
        "    atypical_count = sum(1 for file in data if 'atypical' in file)\n",
        "\n",
        "    return normal_count, atypical_count\n",
        "\n",
        "# Call the balance_data function to get the balanced dataset\n",
        "balanced_train_data = balance_data(train_files)\n",
        "\n",
        "# Check the balance\n",
        "normal_count, atypical_count = check_balance(balanced_train_data)\n",
        "print(f\"Normal samples: {normal_count}, Atypical samples: {atypical_count}\")\n",
        "\n",
        "if normal_count == atypical_count:\n",
        "    print(\"The data is balanced.\")\n",
        "else:\n",
        "    print(\"The data is not balanced.\")\n"
      ]
    },
    {
      "cell_type": "markdown",
      "metadata": {
        "id": "4q7s-uFbneHG"
      },
      "source": [
        "Data preprocessing and loading using torchvision\n"
      ]
    },
    {
      "cell_type": "markdown",
      "metadata": {
        "id": "VQAzP6xevqGs"
      },
      "source": [
        " load images and their labels from the balanced_dataset:"
      ]
    },
    {
      "cell_type": "code",
      "source": [
        "!cp /content/drive/MyDrive/sipakmed/modular/data_loading.py /content\n",
        "import data_loading"
      ],
      "metadata": {
        "colab": {
          "base_uri": "https://localhost:8080/"
        },
        "id": "W2OxAImuq2dl",
        "outputId": "b045dcc1-2fcc-4c8c-e9c2-cb9e7cdc66a4"
      },
      "execution_count": null,
      "outputs": [
        {
          "output_type": "stream",
          "name": "stdout",
          "text": [
            "Do you want to apply data processing? (y/n): n\n",
            "Data processing skipped.\n",
            "Number of images in 'normal' class: 1159\n",
            "Number of images in 'atypical' class: 1005\n"
          ]
        }
      ]
    },
    {
      "cell_type": "code",
      "source": [
        "import libraries\n",
        "\n",
        "PREPROCESSED_PATH = \"/content/drive/MyDrive/sipakmed/sipakmed/sipakmed_training/preprocessed_classified/\"\n",
        "\n",
        "# Model\n",
        "class VGG19Model(libraries.nn.Module):\n",
        "    def __init__(self, num_classes=2):\n",
        "        super(VGG19Model, self).__init__()\n",
        "        self.model = vgg19(pretrained=True)\n",
        "        in_features = self.model.classifier[6].in_features\n",
        "        self.model.classifier[6] = nn.Linear(in_features, num_classes)\n",
        "\n",
        "    def forward(self, x):\n",
        "        return self.model(x)\n",
        "\n",
        "# Update the PTImageDataset class\n",
        "class PTImageDataset(libraries.Dataset):\n",
        "    def __init__(self, data_dir, transform=None):\n",
        "        self.data_dir = data_dir\n",
        "        self.files = self.get_files(data_dir)\n",
        "        self.num_classes = 2  # Assuming you have 2 classes\n",
        "        self.class_names = [\"normal\", \"abnormal\"]\n",
        "        self.transform = transform\n",
        "\n",
        "    def __len__(self):\n",
        "        return len(self.files)\n",
        "\n",
        "    def __getitem__(self, idx):\n",
        "        img_path = self.files[idx]\n",
        "        img_tensor = torch.load(img_path)\n",
        "\n",
        "        # Apply transformations if specified\n",
        "        if self.transform:\n",
        "            img_tensor = self.transform(img_tensor)\n",
        "\n",
        "        # Extract label from the file path or filename\n",
        "        label = self.extract_label(img_path)\n",
        "\n",
        "        return img_tensor, label\n",
        "\n",
        "    def extract_label(self, file_path):\n",
        "        # Modify this logic based on your actual file naming or directory structure\n",
        "        parts = file_path.split(os.path.sep)\n",
        "        class_name = parts[-2]\n",
        "        return 0 if class_name == \"normal\" else 1  # Adjust based on your class names\n",
        "\n",
        "    def get_files(self, data_dir):\n",
        "        all_files = []\n",
        "        for root, dirs, files in os.walk(data_dir):\n",
        "            for file in files:\n",
        "                if file.endswith(\".pt\"):\n",
        "                    all_files.append(os.path.join(root, file))\n",
        "        return all_files\n",
        "\n",
        "# Define transformations for training and validation/test\n",
        "train_transform = libraries.transforms.Compose([\n",
        "    libraries.transforms.Resize((224, 224)),  # Resize to VGG19 input size\n",
        "    libraries.transforms.ToTensor(),\n",
        "    libraries.transforms.Normalize(mean=[0.485, 0.456, 0.406], std=[0.229, 0.224, 0.225]),\n",
        "])\n",
        "\n",
        "# Use the modified PTImageDataset with transformations\n",
        "dataset = PTImageDataset(PREPROCESSED_PATH, transform=train_transform)\n",
        "\n"
      ],
      "metadata": {
        "id": "rncVnUPO-OAJ"
      },
      "execution_count": null,
      "outputs": []
    },
    {
      "cell_type": "code",
      "source": [
        "from torchsummary import summary\n",
        "\n",
        "model = VGG19Model()\n",
        "\n",
        "# Define a function to print a concise summary\n",
        "def concise_summary(model, input_size):\n",
        "    summary(model, input_size, device=\"cuda\" if torch.cuda.is_available() else \"cpu\")\n",
        "\n",
        "# Print the concise summary\n",
        "input_size = (3, 125, 125)\n",
        "concise_summary(model, input_size)"
      ],
      "metadata": {
        "colab": {
          "base_uri": "https://localhost:8080/"
        },
        "id": "GeXCmr4Swp5e",
        "outputId": "47bda24d-de51-467d-a630-277814f6c529"
      },
      "execution_count": null,
      "outputs": [
        {
          "output_type": "stream",
          "name": "stderr",
          "text": [
            "/usr/local/lib/python3.10/dist-packages/torchvision/models/_utils.py:208: UserWarning: The parameter 'pretrained' is deprecated since 0.13 and may be removed in the future, please use 'weights' instead.\n",
            "  warnings.warn(\n",
            "/usr/local/lib/python3.10/dist-packages/torchvision/models/_utils.py:223: UserWarning: Arguments other than a weight enum or `None` for 'weights' are deprecated since 0.13 and may be removed in the future. The current behavior is equivalent to passing `weights=VGG19_Weights.IMAGENET1K_V1`. You can also use `weights=VGG19_Weights.DEFAULT` to get the most up-to-date weights.\n",
            "  warnings.warn(msg)\n",
            "Downloading: \"https://download.pytorch.org/models/vgg19-dcbb9e9d.pth\" to /root/.cache/torch/hub/checkpoints/vgg19-dcbb9e9d.pth\n",
            "100%|██████████| 548M/548M [00:06<00:00, 92.4MB/s]\n"
          ]
        },
        {
          "output_type": "stream",
          "name": "stdout",
          "text": [
            "----------------------------------------------------------------\n",
            "        Layer (type)               Output Shape         Param #\n",
            "================================================================\n",
            "            Conv2d-1         [-1, 64, 125, 125]           1,792\n",
            "              ReLU-2         [-1, 64, 125, 125]               0\n",
            "            Conv2d-3         [-1, 64, 125, 125]          36,928\n",
            "              ReLU-4         [-1, 64, 125, 125]               0\n",
            "         MaxPool2d-5           [-1, 64, 62, 62]               0\n",
            "            Conv2d-6          [-1, 128, 62, 62]          73,856\n",
            "              ReLU-7          [-1, 128, 62, 62]               0\n",
            "            Conv2d-8          [-1, 128, 62, 62]         147,584\n",
            "              ReLU-9          [-1, 128, 62, 62]               0\n",
            "        MaxPool2d-10          [-1, 128, 31, 31]               0\n",
            "           Conv2d-11          [-1, 256, 31, 31]         295,168\n",
            "             ReLU-12          [-1, 256, 31, 31]               0\n",
            "           Conv2d-13          [-1, 256, 31, 31]         590,080\n",
            "             ReLU-14          [-1, 256, 31, 31]               0\n",
            "           Conv2d-15          [-1, 256, 31, 31]         590,080\n",
            "             ReLU-16          [-1, 256, 31, 31]               0\n",
            "           Conv2d-17          [-1, 256, 31, 31]         590,080\n",
            "             ReLU-18          [-1, 256, 31, 31]               0\n",
            "        MaxPool2d-19          [-1, 256, 15, 15]               0\n",
            "           Conv2d-20          [-1, 512, 15, 15]       1,180,160\n",
            "             ReLU-21          [-1, 512, 15, 15]               0\n",
            "           Conv2d-22          [-1, 512, 15, 15]       2,359,808\n",
            "             ReLU-23          [-1, 512, 15, 15]               0\n",
            "           Conv2d-24          [-1, 512, 15, 15]       2,359,808\n",
            "             ReLU-25          [-1, 512, 15, 15]               0\n",
            "           Conv2d-26          [-1, 512, 15, 15]       2,359,808\n",
            "             ReLU-27          [-1, 512, 15, 15]               0\n",
            "        MaxPool2d-28            [-1, 512, 7, 7]               0\n",
            "           Conv2d-29            [-1, 512, 7, 7]       2,359,808\n",
            "             ReLU-30            [-1, 512, 7, 7]               0\n",
            "           Conv2d-31            [-1, 512, 7, 7]       2,359,808\n",
            "             ReLU-32            [-1, 512, 7, 7]               0\n",
            "           Conv2d-33            [-1, 512, 7, 7]       2,359,808\n",
            "             ReLU-34            [-1, 512, 7, 7]               0\n",
            "           Conv2d-35            [-1, 512, 7, 7]       2,359,808\n",
            "             ReLU-36            [-1, 512, 7, 7]               0\n",
            "        MaxPool2d-37            [-1, 512, 3, 3]               0\n",
            "AdaptiveAvgPool2d-38            [-1, 512, 7, 7]               0\n",
            "           Linear-39                 [-1, 4096]     102,764,544\n",
            "             ReLU-40                 [-1, 4096]               0\n",
            "          Dropout-41                 [-1, 4096]               0\n",
            "           Linear-42                 [-1, 4096]      16,781,312\n",
            "             ReLU-43                 [-1, 4096]               0\n",
            "          Dropout-44                 [-1, 4096]               0\n",
            "           Linear-45                    [-1, 2]           8,194\n",
            "              VGG-46                    [-1, 2]               0\n",
            "================================================================\n",
            "Total params: 139,578,434\n",
            "Trainable params: 139,578,434\n",
            "Non-trainable params: 0\n",
            "----------------------------------------------------------------\n",
            "Input size (MB): 0.18\n",
            "Forward/backward pass size (MB): 72.97\n",
            "Params size (MB): 532.45\n",
            "Estimated Total Size (MB): 605.60\n",
            "----------------------------------------------------------------\n"
          ]
        }
      ]
    },
    {
      "cell_type": "code",
      "source": [
        "import libraries\n",
        "from torchvision.models import vgg19\n",
        "\n",
        "# Load VGG-19\n",
        "model = vgg19(pretrained=True)\n",
        "\n",
        "# Extract only the classifier (fully connected) layer\n",
        "classifier = model.classifier\n",
        "\n",
        "# Create dummy input\n",
        "dummy_input = libraries.torch.randn(1, 512 * 7 * 7)  # Adjust the input size based on your model\n",
        "\n",
        "# Visualize just the classifier layer\n",
        "make_dot(classifier(dummy_input), params=dict(classifier.named_parameters())).render(\"vgg19_classifier_viz\", format=\"png\")\n",
        "from google.colab import files\n",
        "files.download('vgg19_classifier_viz.png')"
      ],
      "metadata": {
        "id": "Rg7X6vAM0ylW",
        "colab": {
          "base_uri": "https://localhost:8080/",
          "height": 17
        },
        "outputId": "43897fb5-84fa-4455-8f94-dff29b55e2ea"
      },
      "execution_count": null,
      "outputs": [
        {
          "output_type": "display_data",
          "data": {
            "text/plain": [
              "<IPython.core.display.Javascript object>"
            ],
            "application/javascript": [
              "\n",
              "    async function download(id, filename, size) {\n",
              "      if (!google.colab.kernel.accessAllowed) {\n",
              "        return;\n",
              "      }\n",
              "      const div = document.createElement('div');\n",
              "      const label = document.createElement('label');\n",
              "      label.textContent = `Downloading \"${filename}\": `;\n",
              "      div.appendChild(label);\n",
              "      const progress = document.createElement('progress');\n",
              "      progress.max = size;\n",
              "      div.appendChild(progress);\n",
              "      document.body.appendChild(div);\n",
              "\n",
              "      const buffers = [];\n",
              "      let downloaded = 0;\n",
              "\n",
              "      const channel = await google.colab.kernel.comms.open(id);\n",
              "      // Send a message to notify the kernel that we're ready.\n",
              "      channel.send({})\n",
              "\n",
              "      for await (const message of channel.messages) {\n",
              "        // Send a message to notify the kernel that we're ready.\n",
              "        channel.send({})\n",
              "        if (message.buffers) {\n",
              "          for (const buffer of message.buffers) {\n",
              "            buffers.push(buffer);\n",
              "            downloaded += buffer.byteLength;\n",
              "            progress.value = downloaded;\n",
              "          }\n",
              "        }\n",
              "      }\n",
              "      const blob = new Blob(buffers, {type: 'application/binary'});\n",
              "      const a = document.createElement('a');\n",
              "      a.href = window.URL.createObjectURL(blob);\n",
              "      a.download = filename;\n",
              "      div.appendChild(a);\n",
              "      a.click();\n",
              "      div.remove();\n",
              "    }\n",
              "  "
            ]
          },
          "metadata": {}
        },
        {
          "output_type": "display_data",
          "data": {
            "text/plain": [
              "<IPython.core.display.Javascript object>"
            ],
            "application/javascript": [
              "download(\"download_e095f444-e7ba-45de-aa27-4ee09299188c\", \"vgg19_classifier_viz.png\", 53127)"
            ]
          },
          "metadata": {}
        }
      ]
    },
    {
      "cell_type": "code",
      "source": [
        "# Training function\n",
        "def train(model, train_loader, criterion, optimizer):\n",
        "    model.train()\n",
        "    epoch_loss = 0\n",
        "    epoch_acc = 0\n",
        "\n",
        "    for inputs, labels in train_loader:\n",
        "        inputs, labels = inputs.to(device), labels.to(device)\n",
        "        optimizer.zero_grad()\n",
        "        outputs = model(inputs)\n",
        "        loss = criterion(outputs, labels)\n",
        "        loss.backward()\n",
        "        optimizer.step()\n",
        "\n",
        "        epoch_loss += loss.item() * inputs.size(0)\n",
        "        _, predicted = torch.max(outputs.data, 1)\n",
        "        total = labels.size(0)\n",
        "        correct = (predicted == labels).sum().item()\n",
        "        epoch_acc += correct / total\n",
        "\n",
        "    epoch_loss /= len(train_loader.dataset)\n",
        "    epoch_acc /= len(train_loader.dataset)\n",
        "\n",
        "    return epoch_loss, epoch_acc\n",
        "\n",
        "# Placeholder for the test function\n",
        "def test(model, test_loader, criterion):\n",
        "    model.eval()\n",
        "    epoch_loss = 0\n",
        "    epoch_acc = 0\n",
        "    all_preds = []\n",
        "    all_labels = []\n",
        "\n",
        "    with torch.no_grad():\n",
        "        for inputs, labels in test_loader:\n",
        "            inputs, labels = inputs.to(device), labels.to(device)\n",
        "            outputs = model(inputs)\n",
        "\n",
        "            epoch_loss += criterion(outputs, labels).item() * inputs.size(0)\n",
        "            _, predicted = torch.max(outputs.data, 1)\n",
        "            total = labels.size(0)\n",
        "            correct = (predicted == labels).sum().item()\n",
        "            epoch_acc += correct\n",
        "\n",
        "            all_preds.extend(predicted.cpu().numpy())\n",
        "            all_labels.extend(labels.cpu().numpy())\n",
        "\n",
        "    epoch_loss /= len(test_loader.dataset)\n",
        "    epoch_acc /= len(test_loader.dataset)\n",
        "\n",
        "    return epoch_loss, epoch_acc, all_preds, all_labels\n",
        "\n",
        "# Dataset and dataloaders\n",
        "PREPROCESSED_PATH = \"/content/drive/MyDrive/sipakmed/sipakmed/sipakmed_training/preprocessed_classified/\"\n",
        "dataset = PTImageDataset(PREPROCESSED_PATH)\n",
        "total_size = len(dataset)\n",
        "train_size = int(0.6 * total_size)\n",
        "val_size = int(0.2 * total_size)\n",
        "test_size = total_size - train_size - val_size\n",
        "\n",
        "train_dataset, val_dataset, test_dataset = libraries.random_split(dataset, [train_size, val_size, test_size])\n",
        "# Set number of worker processes for DataLoader\n",
        "num_workers = os.cpu_count()\n",
        "train_loader = libraries.DataLoader(train_dataset, batch_size=16, num_workers=num_workers, shuffle=True)\n",
        "val_loader = libraries.DataLoader(val_dataset, batch_size=16, num_workers=num_workers, shuffle=False)\n",
        "test_loader = libraries.DataLoader(test_dataset, batch_size=16, num_workers=num_workers, shuffle=False)\n"
      ],
      "metadata": {
        "id": "UZdqk7Up-Pe3"
      },
      "execution_count": null,
      "outputs": []
    },
    {
      "cell_type": "code",
      "source": [
        "import torch\n",
        "import torch.nn as nn\n",
        "import torch.optim as optim\n",
        "import time  # Import the 'time' module\n",
        "from torch.utils.data import DataLoader  # Import DataLoader\n",
        "from torchvision.models import vgg19  # Import VGG19\n",
        "from sklearn.metrics import accuracy_score, confusion_matrix\n",
        "import matplotlib.pyplot as plt\n",
        "from sklearn.metrics import classification_report\n",
        "from sklearn.metrics import f1_score, precision_score, recall_score\n",
        "\n",
        "# Assuming you have a VGG19Model class\n",
        "class VGG19Model(nn.Module):\n",
        "    def __init__(self, num_classes=2):\n",
        "        super(VGG19Model, self).__init__()\n",
        "        self.model = vgg19(pretrained=True)\n",
        "        in_features = self.model.classifier[6].in_features\n",
        "        self.model.classifier[6] = nn.Linear(in_features, num_classes)\n",
        "\n",
        "    def forward(self, x):\n",
        "        return self.model(x)\n",
        "\n",
        "# Assuming you have defined train and test functions\n",
        "\n",
        "# Assuming you have defined train_loader, val_loader, test_loader\n",
        "\n",
        "# Model, optimizer, loss\n",
        "device = torch.device(\"cuda\" if torch.cuda.is_available() else \"cpu\")\n",
        "model = VGG19Model().to(device)\n",
        "optimizer = optim.Adam(model.parameters(), lr=0.0001)\n",
        "criterion = nn.CrossEntropyLoss()\n",
        "\n",
        "# Check if a pre-trained model should be loaded\n",
        "load_pretrained = input(\"Do you want to load a pre-trained model? (yes/no): \").lower()\n",
        "\n",
        "if load_pretrained == \"yes\":\n",
        "    # Check if a previously saved model exists\n",
        "    saved_model_path = \"vgg19_adam.pth\"  # Adjust the filename as needed\n",
        "    if os.path.exists(saved_model_path):\n",
        "        model.load_state_dict(torch.load(saved_model_path))\n",
        "        print(\"Pre-trained model loaded.\")\n",
        "    else:\n",
        "        print(f\"No pre-trained model found at {saved_model_path}. Training a new model.\")\n",
        "        load_pretrained = \"no\"\n",
        "\n",
        "if load_pretrained != \"yes\":\n",
        "    # Training loop\n",
        "    train_losses = []\n",
        "    train_accuracies = []\n",
        "    validation_losses = []\n",
        "    validation_accuracies = []\n",
        "\n",
        "    # Early stopping\n",
        "    patience = 5\n",
        "    best_val_loss = float('inf')  # Initialize here\n",
        "    epochs_no_improve = 0\n",
        "\n",
        "    for epoch in range(20):\n",
        "        # Training\n",
        "        start_time = time.time()\n",
        "        train_loss, train_acc = train(model, train_loader, criterion, optimizer)\n",
        "        elapsed_time = time.time() - start_time\n",
        "\n",
        "        # Validation\n",
        "        start_time = time.time()\n",
        "        val_loss, val_acc, _, _ = test(model, val_loader, criterion)\n",
        "        elapsed_time_val = time.time() - start_time\n",
        "\n",
        "        print(f\"Epoch {epoch + 1} - \"\n",
        "              f\"Train Loss: {train_loss:.4f} Train Acc: {train_acc:.4f} Elapsed Time: {elapsed_time:.2f}s \"\n",
        "              f\"Validation Loss: {val_loss:.4f} Validation Acc: {val_acc:.4f} Elapsed Time: {elapsed_time_val:.2f}s\")\n",
        "\n",
        "        # Debugging: Print some sample predictions and true labels\n",
        "        sample_inputs, sample_labels = next(iter(train_loader))\n",
        "        sample_inputs, sample_labels = sample_inputs.to(device), sample_labels.to(device)\n",
        "        sample_outputs = model(sample_inputs)\n",
        "        _, sample_preds = torch.max(sample_outputs, 1)\n",
        "        print(\"Sample Predictions:\", sample_preds.cpu().numpy())\n",
        "        print(\"Sample True Labels:\", sample_labels.cpu().numpy())\n",
        "\n",
        "        # Append metrics for later plotting\n",
        "        train_losses.append(train_loss)\n",
        "        train_accuracies.append(train_acc)\n",
        "        validation_losses.append(val_loss)\n",
        "        validation_accuracies.append(val_acc)\n",
        "\n",
        "        # Early stopping\n",
        "        if val_loss < best_val_loss:\n",
        "            best_val_loss = val_loss\n",
        "            epochs_no_improve = 0\n",
        "        else:\n",
        "            epochs_no_improve += 1\n",
        "\n",
        "        if epochs_no_improve == patience:\n",
        "            print(\"Early stopping!\")\n",
        "            break\n",
        "\n",
        "    # Testing\n",
        "    test_loss, test_acc, test_preds, test_labels = test(model, test_loader, criterion)\n",
        "    print(f\"Final Test Loss: {test_loss:.4f} Test Acc: {test_acc:.4f}\")\n"
      ],
      "metadata": {
        "colab": {
          "base_uri": "https://localhost:8080/"
        },
        "id": "hrpnSomSCAoh",
        "outputId": "c495f3d7-1f39-4b5d-bfe3-cf7f8a9f5edb"
      },
      "execution_count": null,
      "outputs": [
        {
          "output_type": "stream",
          "name": "stdout",
          "text": [
            "Do you want to load a pre-trained model? (yes/no): n\n",
            "Epoch 1 - Train Loss: 0.3220 Train Acc: 0.0546 Elapsed Time: 1060.67s Validation Loss: 0.1815 Validation Acc: 0.9329 Elapsed Time: 96.76s\n",
            "Sample Predictions: [0 0 0 0 0 0 0 1 0 1 0 1 1 1 1 0]\n",
            "Sample True Labels: [0 0 0 0 0 0 0 1 0 1 0 1 1 1 1 0]\n",
            "Epoch 2 - Train Loss: 0.1815 Train Acc: 0.0598 Elapsed Time: 1059.92s Validation Loss: 0.5134 Validation Acc: 0.7778 Elapsed Time: 94.58s\n",
            "Sample Predictions: [0 0 0 1 0 1 0 0 0 0 1 0 0 0 0 0]\n",
            "Sample True Labels: [0 1 1 1 0 1 0 1 0 0 1 0 0 0 0 0]\n",
            "Epoch 3 - Train Loss: 0.1306 Train Acc: 0.0603 Elapsed Time: 1035.76s Validation Loss: 0.2419 Validation Acc: 0.9051 Elapsed Time: 96.51s\n",
            "Sample Predictions: [1 1 0 0 1 0 1 1 1 1 0 0 1 0 0 1]\n",
            "Sample True Labels: [1 1 0 0 1 0 1 1 1 1 0 0 1 0 0 1]\n",
            "Epoch 4 - Train Loss: 0.1229 Train Acc: 0.0609 Elapsed Time: 1068.92s Validation Loss: 0.1602 Validation Acc: 0.9329 Elapsed Time: 95.69s\n",
            "Sample Predictions: [0 0 0 0 0 0 1 0 0 1 1 0 1 0 1 0]\n",
            "Sample True Labels: [0 0 0 0 0 0 1 0 0 1 1 0 1 0 1 0]\n",
            "Epoch 5 - Train Loss: 0.0515 Train Acc: 0.0621 Elapsed Time: 1040.92s Validation Loss: 0.1794 Validation Acc: 0.9606 Elapsed Time: 96.25s\n",
            "Sample Predictions: [1 0 1 0 1 0 0 0 0 1 0 0 1 1 1 0]\n",
            "Sample True Labels: [1 0 1 0 1 0 0 0 0 1 0 0 1 1 1 0]\n",
            "Epoch 6 - Train Loss: 0.0595 Train Acc: 0.0622 Elapsed Time: 1015.62s Validation Loss: 0.2414 Validation Acc: 0.9560 Elapsed Time: 91.85s\n",
            "Sample Predictions: [0 1 0 0 0 0 1 0 1 0 1 1 1 1 1 0]\n",
            "Sample True Labels: [0 1 0 0 0 0 1 0 1 0 1 1 1 1 1 0]\n",
            "Epoch 7 - Train Loss: 0.0731 Train Acc: 0.0620 Elapsed Time: 1027.68s Validation Loss: 0.1045 Validation Acc: 0.9537 Elapsed Time: 94.43s\n",
            "Sample Predictions: [0 0 0 1 1 0 1 0 0 0 0 0 0 1 0 0]\n",
            "Sample True Labels: [0 0 0 1 1 0 1 0 0 0 0 0 0 1 0 0]\n",
            "Epoch 8 - Train Loss: 0.0562 Train Acc: 0.0621 Elapsed Time: 1049.77s Validation Loss: 0.2036 Validation Acc: 0.9514 Elapsed Time: 94.58s\n",
            "Sample Predictions: [0 1 1 1 0 0 1 1 0 1 1 1 0 0 1 0]\n",
            "Sample True Labels: [0 1 1 1 0 0 1 1 0 1 1 1 0 0 1 0]\n",
            "Epoch 9 - Train Loss: 0.0440 Train Acc: 0.0622 Elapsed Time: 1118.60s Validation Loss: 0.2522 Validation Acc: 0.8866 Elapsed Time: 92.88s\n",
            "Sample Predictions: [0 1 1 1 0 0 0 1 1 1 0 0 1 0 1 1]\n",
            "Sample True Labels: [0 1 1 1 0 0 0 0 1 1 0 0 1 0 1 0]\n",
            "Epoch 10 - Train Loss: 0.0293 Train Acc: 0.0625 Elapsed Time: 1154.80s Validation Loss: 0.5096 Validation Acc: 0.9167 Elapsed Time: 95.30s\n",
            "Sample Predictions: [1 0 1 0 1 1 0 0 0 0 1 0 0 0 0 0]\n",
            "Sample True Labels: [1 0 1 0 1 1 0 0 0 0 1 1 0 0 0 0]\n",
            "Epoch 11 - Train Loss: 0.0169 Train Acc: 0.0629 Elapsed Time: 1214.17s Validation Loss: 0.1797 Validation Acc: 0.9699 Elapsed Time: 91.57s\n",
            "Sample Predictions: [1 1 0 0 0 1 1 0 1 0 0 0 0 0 0 0]\n",
            "Sample True Labels: [1 1 0 0 0 1 1 0 1 0 0 0 0 0 0 0]\n",
            "Epoch 12 - Train Loss: 0.0415 Train Acc: 0.0623 Elapsed Time: 1294.60s Validation Loss: 0.3681 Validation Acc: 0.9259 Elapsed Time: 94.34s\n",
            "Sample Predictions: [0 1 0 0 1 1 1 1 0 0 1 0 1 0 0 1]\n",
            "Sample True Labels: [0 1 0 0 1 1 1 1 0 0 1 0 1 0 0 1]\n",
            "Early stopping!\n",
            "Final Test Loss: 0.3578 Test Acc: 0.9378\n"
          ]
        }
      ]
    },
    {
      "cell_type": "code",
      "source": [
        "!cp /content/drive/MyDrive/sipakmed/modular/acc_loss_curves.py /content\n",
        "import acc_loss_curves"
      ],
      "metadata": {
        "colab": {
          "base_uri": "https://localhost:8080/",
          "height": 406
        },
        "id": "qgkzgG2Gzu3P",
        "outputId": "0ca9e270-049d-4ffe-e3f7-25afb343d698"
      },
      "execution_count": null,
      "outputs": [
        {
          "output_type": "display_data",
          "data": {
            "text/plain": [
              "<Figure size 800x400 with 2 Axes>"
            ],
            "image/png": "[encoded data removed]"
          },
          "metadata": {}
        }
      ]
    },
    {
      "cell_type": "code",
      "source": [
        "!cp /content/drive/MyDrive/sipakmed/modular/confusion_matrix.py /content\n",
        "import confusion_matrix"
      ],
      "metadata": {
        "id": "aeiNmoWaMZue",
        "colab": {
          "base_uri": "https://localhost:8080/",
          "height": 653
        },
        "outputId": "f0c27a1c-5a46-4d7e-89f2-5a03d8864a30"
      },
      "execution_count": null,
      "outputs": [
        {
          "output_type": "display_data",
          "data": {
            "text/plain": [
              "<Figure size 800x800 with 2 Axes>"
            ],
            "image/png": "[encoded data removed]"
          },
          "metadata": {}
        }
      ]
    },
    {
      "cell_type": "markdown",
      "source": [
        "report for validation set"
      ],
      "metadata": {
        "id": "gRnXaJzw7CqX"
      }
    },
    {
      "cell_type": "code",
      "source": [
        "!cp /content/drive/MyDrive/sipakmed/modular/evaluation_metrics.py /content\n",
        "import evaluation_metrics\n"
      ],
      "metadata": {
        "id": "1q17UF8BMeV1",
        "colab": {
          "base_uri": "https://localhost:8080/"
        },
        "outputId": "9bd12856-5ac7-4689-e654-59ca72d6e60a"
      },
      "execution_count": null,
      "outputs": [
        {
          "name": "stdout",
          "output_type": "stream",
          "text": [
            "F1 Score: 0.9092\n",
            "Precision: 0.9180\n",
            "Recall: 0.9101\n",
            "Classification Report:\n",
            "               precision    recall  f1-score   support\n",
            "\n",
            "      normal       0.87      0.98      0.92       232\n",
            "    abnormal       0.98      0.83      0.90       202\n",
            "\n",
            "    accuracy                           0.91       434\n",
            "   macro avg       0.92      0.90      0.91       434\n",
            "weighted avg       0.92      0.91      0.91       434\n",
            "\n",
            "Do you want to save the trained model? (yes/no): y\n"
          ]
        }
      ]
    },
    {
      "cell_type": "markdown",
      "source": [
        " Evaluation Metrics:\n",
        " - F1 Score (0.9374): A balanced measure of precision and recall.\n",
        " - Precision (0.9416): The accuracy of positive predictions.\n",
        " - Recall (0.9378): The ability to identify all relevant instances.\n",
        " - Classification Report: Detailed metrics for each class (\"normal\" and \"abnormal\").\n",
        "   - For \"normal\": High precision (few false positives), moderate recall.\n",
        "   - For \"abnormal\": Good precision, very high recall (few false negatives).\n",
        " - Accuracy (0.94): Overall correct predictions.\n",
        " - Macro Avg and Weighted Avg: Averages for precision, recall, and F1-score.\n",
        "In summary, the model seems to perform well with a good balance between precision and recall. The detailed classification report provides insights into the performance for each class.\n",
        "\n",
        "\n",
        "\n",
        "\n"
      ],
      "metadata": {
        "id": "QBaeiQlMHqLr"
      }
    },
    {
      "cell_type": "code",
      "source": [
        "def count_parameters(model):\n",
        "    return sum(p.numel() for p in model.parameters() if p.requires_grad)\n",
        "\n",
        "num_params = count_parameters(model)\n",
        "print(f\"Number of trainable parameters in the model: {num_params}\")\n"
      ],
      "metadata": {
        "id": "d0dWqeSmQSg6",
        "colab": {
          "base_uri": "https://localhost:8080/"
        },
        "outputId": "18589ea4-3490-4bf4-b2b4-88c3c5369435"
      },
      "execution_count": null,
      "outputs": [
        {
          "output_type": "stream",
          "name": "stdout",
          "text": [
            "Number of trainable parameters in the model: 139578434\n"
          ]
        }
      ]
    },
    {
      "cell_type": "markdown",
      "source": [
        "measuring the inference time for a single forward pass with a sample input, not per epoch."
      ],
      "metadata": {
        "id": "n4GW2-3s5aqo"
      }
    },
    {
      "cell_type": "code",
      "source": [
        "!cp /content/drive/MyDrive/sipakmed/modular/sample_input_time.py /content\n",
        "import sample_input_time"
      ],
      "metadata": {
        "id": "kbNiJngZQ1yf",
        "colab": {
          "base_uri": "https://localhost:8080/"
        },
        "outputId": "4cd0c8ea-71e8-4ed5-8369-78b70294ae51"
      },
      "execution_count": null,
      "outputs": [
        {
          "output_type": "stream",
          "name": "stdout",
          "text": [
            "Inference time for a sample input: 0.3228271007537842 seconds\n"
          ]
        }
      ]
    },
    {
      "cell_type": "markdown",
      "source": [
        "**this is part related to vgg-16 from the 2018 paper i am using as a point of comaparison **"
      ],
      "metadata": {
        "id": "1VC0heCw0bH6"
      }
    },
    {
      "cell_type": "code",
      "source": [
        "import numpy as np\n",
        "from sklearn.metrics import f1_score\n",
        "\n",
        "# Training results\n",
        "train_loss = [0.7634, 0.6919, 0.6935, 0.6935, 0.6934, 0.6933, 0.6933, 0.6933, 0.6934, 0.6932, 0.6932, 0.6931, 0.6932, 0.6932, 0.6933, 0.6933]\n",
        "train_acc = [0.5072, 0.5123, 0.5000, 0.4844, 0.4928, 0.4848, 0.4852, 0.4915, 0.4954, 0.4928, 0.5059, 0.5068, 0.4987, 0.4958, 0.4992, 0.4806]\n",
        "\n",
        "# Validation results\n",
        "val_loss = [0.6916, 0.6935, 0.6943, 0.6929, 0.6931, 0.6935, 0.6928, 0.6935, 0.6927, 0.6940, 0.6932, 0.6931, 0.6926, 0.6926, 0.6927, 0.6928]\n",
        "val_acc = [0.5957, 0.4043, 0.4043, 0.5957, 0.4043, 0.4043, 0.5957, 0.4043, 0.5957, 0.4043, 0.4043, 0.5957, 0.5957, 0.5957, 0.5957, 0.5957]\n",
        "\n",
        "# Calculate averages\n",
        "final_train_loss = np.mean(train_loss)\n",
        "final_train_acc = np.mean(train_acc)\n",
        "final_val_loss = np.mean(val_loss)\n",
        "final_val_acc = np.mean(val_acc)\n",
        "\n",
        "# Convert accuracies to percentages\n",
        "final_train_acc_percentage = final_train_acc * 100\n",
        "final_val_acc_percentage = final_val_acc * 100\n",
        "\n",
        "# Calculate F1 score\n",
        "train_predictions = np.where(np.array(train_acc) > 0.5, 1, 0)  # Assuming threshold of 0.5 for binary classification\n",
        "val_predictions = np.where(np.array(val_acc) > 0.5, 1, 0)\n",
        "train_labels = np.array([1, 0, 0, 1, 0, 0, 1, 0, 1, 0, 0, 1, 1, 1, 1, 0])  # Replace with actual labels\n",
        "val_labels = np.array([1, 0, 0, 1, 0, 0, 1, 0, 1, 0, 0, 1, 1, 1, 1, 0])  # Replace with actual labels\n",
        "\n",
        "final_train_f1 = f1_score(train_labels, train_predictions)\n",
        "final_val_f1 = f1_score(val_labels, val_predictions)\n",
        "\n",
        "print(f\"Final Training Loss: {final_train_loss}\")\n",
        "print(f\"Final Training Accuracy: {final_train_acc_percentage}%\")\n",
        "print(f\"Final Training F1 Score: {final_train_f1}\")\n",
        "\n",
        "print(f\"\\nFinal Validation Loss: {final_val_loss}\")\n",
        "print(f\"Final Validation Accuracy: {final_val_acc_percentage}%\")\n",
        "print(f\"Final Validation F1 Score: {final_val_f1}\")\n"
      ],
      "metadata": {
        "colab": {
          "base_uri": "https://localhost:8080/"
        },
        "id": "7PmZvM8Z0mx6",
        "outputId": "0c97ed4c-fd58-404c-aa81-fbf1d0d35c76"
      },
      "execution_count": null,
      "outputs": [
        {
          "output_type": "stream",
          "name": "stdout",
          "text": [
            "Final Training Loss: 0.69759375\n",
            "Final Training Accuracy: 49.58375%\n",
            "Final Training F1 Score: 0.3333333333333333\n",
            "\n",
            "Final Validation Loss: 0.6930562499999999\n",
            "Final Validation Accuracy: 51.19625%\n",
            "Final Validation F1 Score: 0.9411764705882353\n"
          ]
        }
      ]
    }
  ],
  "metadata": {
    "colab": {
      "provenance": []
    },
    "kernelspec": {
      "display_name": "Python 3",
      "name": "python3"
    },
    "language_info": {
      "name": "python"
    }
  },
  "nbformat": 4,
  "nbformat_minor": 0
}