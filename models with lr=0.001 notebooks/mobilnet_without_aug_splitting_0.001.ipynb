{
  "cells": [
    {
      "cell_type": "code",
      "execution_count": null,
      "metadata": {
        "id": "_4WNwmfIhDBw"
      },
      "outputs": [],
      "source": [
        "# imports for PyTorch\n",
        "import numpy as np\n",
        "import pandas as pd\n",
        "import matplotlib.pyplot as plt\n",
        "import seaborn as sns\n",
        "import os\n",
        "import random\n",
        "import cv2\n",
        "from skimage.io import imread\n",
        "\n",
        "import torch\n",
        "import torch.nn as nn\n",
        "import torch.optim as optim\n",
        "from torch.utils.data import DataLoader\n",
        "from torch.utils.data import Dataset\n",
        "\n",
        "from torch.utils.data import TensorDataset\n",
        "import torch.nn.functional as F\n",
        "# If you want to use torchvision for pre-built models and datasets\n",
        "import torchvision\n",
        "import torchvision.transforms as transforms\n",
        "\n",
        "# Other imports\n",
        "from sklearn.model_selection import train_test_split\n",
        "from sklearn.metrics import confusion_matrix\n",
        "from sklearn.utils import shuffle\n",
        "from keras.callbacks import EarlyStopping, ModelCheckpoint\n",
        "from keras.models import Sequential\n",
        "from keras.layers import Conv2D, MaxPooling2D, Dropout, Flatten, Dense"
      ]
    },
    {
      "cell_type": "markdown",
      "metadata": {
        "id": "edkcUZMSBNwe"
      },
      "source": [
        "here i used code to create out_dir and copy files with 63% for training Test: 23%\n",
        "Validation: 14%"
      ]
    },
    {
      "cell_type": "code",
      "execution_count": null,
      "metadata": {
        "colab": {
          "base_uri": "https://localhost:8080/"
        },
        "id": "Q_-Iy8Pro9vC",
        "outputId": "e78aa8bd-7d5a-4976-9674-2e6237bb768e"
      },
      "outputs": [
        {
          "output_type": "stream",
          "name": "stdout",
          "text": [
            "Mounted at /content/drive\n"
          ]
        }
      ],
      "source": [
        "# Mount Google Drive\n",
        "from google.colab import drive\n",
        "\n",
        "drive.mount('/content/drive')\n",
        "# Define the data path\n",
        "DATA_PATH = '/content/drive/MyDrive/sipakmed/sipakmed/'"
      ]
    },
    {
      "cell_type": "code",
      "execution_count": null,
      "metadata": {
        "id": "2YHgDIbcefNv"
      },
      "outputs": [],
      "source": [
        "import os\n",
        "import shutil\n",
        "import random\n",
        "\n",
        "# Define the subsets (train, validation, and test) and their ratios\n",
        "subsets = [\"train\", \"val\", \"test\"]\n",
        "split_ratios = [0.60, 0.20, 0.20]\n",
        "\n",
        "# Define the class labels\n",
        "classes = [\"normal\", \"atypical\"]\n",
        "\n",
        "# Create output directories if they don't exist\n",
        "output_dir = '/content/drive/MyDrive/sipakmed/sipakmed/sipakmed_training'  # Set your desired output directory\n",
        "for subset in subsets:\n",
        "    for class_label in classes:\n",
        "        subset_dir = os.path.join(output_dir, subset, class_label)\n",
        "        os.makedirs(subset_dir, exist_ok=True)\n",
        "\n",
        "# Function to check if a file has already been copied\n",
        "def has_been_copied(file, destination_subset):\n",
        "    class_name = \"normal\" if \"normal\" in file else \"atypical\"\n",
        "    dest_path = os.path.join(output_dir, destination_subset, class_name, os.path.basename(file))\n",
        "    return os.path.exists(dest_path)\n",
        "\n",
        "# Function to record copied files\n",
        "def record_copied_files(copied_files, destination_subset):\n",
        "    with open(f'copied_files_{destination_subset}.txt', 'a') as file:\n",
        "        for copied_file in copied_files:\n",
        "            file.write(copied_file + '\\n')\n",
        "\n",
        "# Get a list of all image file paths\n",
        "drive_path = '/content/drive/MyDrive/sipakmed/sipakmed/'  # Set your input directory containing image files\n",
        "file_paths = []\n",
        "for root, dirs, files in os.walk(drive_path):\n",
        "    for file in files:\n",
        "        if file.endswith('.bmp'):\n",
        "            file_paths.append(os.path.join(root, file))\n",
        "\n",
        "# Initialize empty lists for train, val, and test files\n",
        "train_files = []\n",
        "val_files = []\n",
        "test_files = []\n",
        "\n",
        "# Loop through each class, organize files, and split the data\n",
        "for class_label in classes:\n",
        "    class_dir = os.path.join(drive_path, class_label)\n",
        "    file_list = [file for file in file_paths if class_label in file]\n",
        "\n",
        "    # Shuffle the file list for random sampling\n",
        "    random.shuffle(file_list)\n",
        "\n",
        "    # Split the data based on the defined ratios\n",
        "    num_files = len(file_list)\n",
        "    split_points = [\n",
        "        0,\n",
        "        int(split_ratios[0] * num_files),\n",
        "        int((split_ratios[0] + split_ratios[1]) * num_files),\n",
        "        num_files,\n",
        "    ]\n",
        "\n",
        "    train_files += file_list[split_points[0]:split_points[1]]\n",
        "    val_files += file_list[split_points[1]:split_points[2]]\n",
        "    test_files += file_list[split_points[2]:split_points[3]]\n",
        "\n",
        "def copy_files(source_files, destination_subset):\n",
        "    copied_files = []\n",
        "    for file in source_files:\n",
        "        if not has_been_copied(file, destination_subset):\n",
        "            class_name = \"normal\" if \"normal\" in file else \"atypical\"\n",
        "            dest_path = os.path.join(output_dir, destination_subset, class_name, os.path.basename(file))\n",
        "            if not os.path.exists(dest_path):\n",
        "                shutil.copy(file, dest_path)\n",
        "                copied_files.append(file)\n",
        "                print(f\"Copied {file} to {dest_path}\")\n",
        "            else:\n",
        "                print(f\"File {file} already exists in {destination_subset}\")\n",
        "        else:\n",
        "            print(f\"File {file} has already been copied to {destination_subset}\")\n",
        "    return copied_files"
      ]
    },
    {
      "cell_type": "markdown",
      "metadata": {
        "id": "cdlsheKFBk6m"
      },
      "source": [
        "i used this to make sure there isn't duplicated data and data for training was succesful"
      ]
    },
    {
      "cell_type": "code",
      "execution_count": null,
      "metadata": {
        "id": "hhRtfdKD-I33"
      },
      "outputs": [],
      "source": [
        "import os\n",
        "\n",
        "# Define the path to your original dataset directory\n",
        "original_dataset_path = '/content/drive/MyDrive/sipakmed/sipakmed/sipakmed_train/'\n",
        "\n",
        "# Get a list of all image files in the original dataset directory and its subfolders\n",
        "original_files = []\n",
        "for root, dirs, files in os.walk(original_dataset_path):\n",
        "    for filename in files:\n",
        "        if filename.endswith('.bmp'):\n",
        "            original_files.append(filename)\n",
        "\n",
        "# Count the number of unique files in the original dataset\n",
        "original_file_count = len(original_files)\n",
        "\n",
        "# List files that are in the current dataset but not in the original\n",
        "extra_files = []\n",
        "current_dataset_path = '/content/drive/MyDrive/sipakmed/sipakmed/sipakmed_training/'\n",
        "\n",
        "for root, dirs, files in os.walk(current_dataset_path):\n",
        "    for filename in files:\n",
        "        if filename.endswith('.bmp') and filename not in original_files:\n",
        "            extra_files.append(os.path.join(root, filename))\n",
        "\n",
        "if extra_files:\n",
        "    print(\"Number of extra files found in the current dataset:\", len(extra_files))\n",
        "    print(\"Duplicated files found in the current dataset:\")\n",
        "    for file in extra_files:\n",
        "        print(file)\n",
        "\n",
        "    # Prompt the user for confirmation before removal\n",
        "    user_confirmation = input(\"Do you want to remove these duplicated files? (yes/no): \")\n",
        "\n",
        "    if user_confirmation.lower() == \"yes\":\n",
        "        # Remove the duplicated files\n",
        "        for extra_file in extra_files:\n",
        "            os.remove(extra_file)\n",
        "        print(\"Duplicated files have been removed.\")\n",
        "    else:\n",
        "        print(\"No files have been removed. Your dataset is safe.\")\n",
        "else:\n",
        "    print(\"No duplicated files found in the current dataset.\")\n"
      ]
    },
    {
      "cell_type": "markdown",
      "metadata": {
        "id": "2Shz4QX-B0PI"
      },
      "source": [
        "i used this to check now how many files i have knowing that my data for sipakmed originally were 4049 bmb files"
      ]
    },
    {
      "cell_type": "code",
      "execution_count": null,
      "metadata": {
        "id": "IcIJCGyfpCFg"
      },
      "outputs": [],
      "source": [
        "# Get a list of all image file paths\n",
        "file_paths = []\n",
        "categories = []\n",
        "\n",
        "for root, dirs, files in os.walk(DATA_PATH):\n",
        "    for file in files:\n",
        "        if file.endswith('.bmp'):\n",
        "            file_path = os.path.join(root, file)\n",
        "            file_paths.append(file_path)\n",
        "            if 'normal' in file_path:\n",
        "                categories.append(0)\n",
        "            else:\n",
        "                categories.append(1)"
      ]
    },
    {
      "cell_type": "code",
      "execution_count": null,
      "metadata": {
        "id": "r5524cappSpt"
      },
      "outputs": [],
      "source": [
        "# Create a DataFrame\n",
        "df = pd.DataFrame({'filename (X)': file_paths, 'category (Y)': categories})\n",
        "df"
      ]
    },
    {
      "cell_type": "code",
      "execution_count": null,
      "metadata": {
        "id": "KFUw-F7TppEF"
      },
      "outputs": [],
      "source": [
        "import os\n",
        "import shutil\n",
        "import random\n",
        "# Specify the path to your dataset on Google Drive\n",
        "drive_path = '/content/drive/MyDrive/sipakmed/sipakmed/'\n",
        "\n",
        "# Define the output directory for your divided dataset on Google Drive\n",
        "output_dir = '/content/drive/MyDrive/sipakmed/sipakmed/sipakmed_training'\n"
      ]
    },
    {
      "cell_type": "markdown",
      "metadata": {
        "id": "q2_-B8MMnI6U"
      },
      "source": [
        "to check if my data are balanced regarding the training ones or not"
      ]
    },
    {
      "cell_type": "code",
      "execution_count": null,
      "metadata": {
        "id": "jzuFJjYPmYHe"
      },
      "outputs": [],
      "source": [
        "import os\n",
        "import matplotlib.pyplot as plt\n",
        "\n",
        "# Define the root directories to check\n",
        "directories = [\n",
        "    '/content/drive/MyDrive/sipakmed/sipakmed/sipakmed_training/',\n",
        "    '/content/drive/MyDrive/sipakmed/sipakmed/'\n",
        "]\n",
        "\n",
        "# Function to count BMP files recursively in a directory\n",
        "def count_bmp_files_recursive(root_dir):\n",
        "    count = 0\n",
        "    for root, dirs, files in os.walk(root_dir):\n",
        "        count += sum(1 for file in files if file.endswith('.bmp'))\n",
        "    return count\n",
        "\n",
        "# Iterate over the directories and count the files\n",
        "counts = []\n",
        "dir_names = []\n",
        "\n",
        "for directory in directories:\n",
        "    file_count = count_bmp_files_recursive(directory)\n",
        "    counts.append(file_count)\n",
        "    dir_names.append(directory)\n",
        "# Print the counts for the specified directories\n",
        "for name, count in zip(dir_names, counts):\n",
        "    print(f\"Directory: {name}, BMP File Count: {count}\")\n",
        "\n",
        "# Count BMP files in all directories inside both root directories\n",
        "original_count = count_bmp_files_recursive('/content/drive/MyDrive/sipakmed/sipakmed/')\n",
        "training_count = count_bmp_files_recursive('/content/drive/MyDrive/sipakmed/sipakmed/sipakmed_training/')\n",
        "\n",
        "print(f\"Total BMP File Count in '/content/drive/MyDrive/sipakmed/sipakmed/': {original_count}\")\n",
        "print(f\"Total BMP File Count in '/content/drive/MyDrive/sipakmed/sipakmed/sipakmed_training/': {training_count}\")\n",
        "\n",
        "\n",
        "\n",
        "# Create a bar plot\n",
        "plt.figure(figsize=(10, 6))\n",
        "plt.bar(dir_names + ['Total Original', 'Total Training'], counts + [original_count, training_count], color='skyblue')\n",
        "plt.xlabel('Directories')\n",
        "plt.ylabel('BMP File Count')\n",
        "plt.title('BMP File Counts in Specified Directories')\n",
        "plt.xticks(rotation=45, ha='right')\n",
        "\n",
        "# Show the plot\n",
        "plt.tight_layout()\n",
        "plt.show()"
      ]
    },
    {
      "cell_type": "markdown",
      "metadata": {
        "id": "nPo3BcPstc7d"
      },
      "source": [
        "data balance in normal and atypical"
      ]
    },
    {
      "cell_type": "code",
      "execution_count": null,
      "metadata": {
        "id": "lzhtrRh1tcbB"
      },
      "outputs": [],
      "source": [
        "# Function to balance data by randomly undersampling the majority class\n",
        "def balance_data(train_files):\n",
        "    normal_files = [file for file in train_files if 'normal' in file]\n",
        "    atypical_files = [file for file in train_files if 'atypical' in file]\n",
        "\n",
        "    min_samples = min(len(normal_files), len(atypical_files))\n",
        "\n",
        "    balanced_data = random.sample(normal_files, min_samples) + random.sample(atypical_files, min_samples)\n",
        "    return balanced_data\n"
      ]
    },
    {
      "cell_type": "code",
      "execution_count": null,
      "metadata": {
        "colab": {
          "base_uri": "https://localhost:8080/"
        },
        "id": "REYN38Kityq3",
        "outputId": "f429c5d0-3dce-4670-9a9f-ff8789a6b338"
      },
      "outputs": [
        {
          "output_type": "stream",
          "name": "stdout",
          "text": [
            "Normal samples: 2179, Atypical samples: 2179\n",
            "The data is balanced.\n"
          ]
        }
      ],
      "source": [
        "def check_balance(data):\n",
        "    normal_count = sum(1 for file in data if 'normal' in file)\n",
        "    atypical_count = sum(1 for file in data if 'atypical' in file)\n",
        "\n",
        "    return normal_count, atypical_count\n",
        "\n",
        "# Call the balance_data function to get the balanced dataset\n",
        "balanced_train_data = balance_data(train_files)\n",
        "\n",
        "# Check the balance\n",
        "normal_count, atypical_count = check_balance(balanced_train_data)\n",
        "print(f\"Normal samples: {normal_count}, Atypical samples: {atypical_count}\")\n",
        "\n",
        "if normal_count == atypical_count:\n",
        "    print(\"The data is balanced.\")\n",
        "else:\n",
        "    print(\"The data is not balanced.\")\n"
      ]
    },
    {
      "cell_type": "markdown",
      "metadata": {
        "id": "4q7s-uFbneHG"
      },
      "source": [
        "Data preprocessing and loading using torchvision\n"
      ]
    },
    {
      "cell_type": "markdown",
      "metadata": {
        "id": "VQAzP6xevqGs"
      },
      "source": [
        " load images and their labels from the balanced_dataset:"
      ]
    },
    {
      "cell_type": "code",
      "execution_count": null,
      "metadata": {
        "colab": {
          "base_uri": "https://localhost:8080/"
        },
        "id": "mIxoGKgSyjbZ",
        "outputId": "60527097-7c44-4584-bfae-8c2d76eae950"
      },
      "outputs": [
        {
          "output_type": "stream",
          "name": "stdout",
          "text": [
            "Requirement already satisfied: Pillow in /usr/local/lib/python3.10/dist-packages (9.4.0)\n"
          ]
        }
      ],
      "source": [
        "!pip install Pillow\n"
      ]
    },
    {
      "cell_type": "code",
      "source": [
        "import os\n",
        "import torch\n",
        "import torchvision.transforms as transforms\n",
        "from torchvision import models\n",
        "from torch.utils.data import DataLoader, random_split\n",
        "import torch.nn as nn\n",
        "import torch.optim as optim\n",
        "from torchvision.datasets import ImageFolder\n",
        "from sklearn.metrics import accuracy_score\n",
        "\n",
        "# Define your parameters\n",
        "IMAGE_HEIGHT = 125\n",
        "IMAGE_WIDTH = 125\n",
        "IMAGE_CHANNELS = 3\n",
        "DATA_PATH = \"/content/drive/MyDrive/sipakmed/sipakmed/sipakmed_training\"\n",
        "BATCH_SIZE = 16\n",
        "EPOCHS = 50\n",
        "PATIENCE = 13\n",
        "\n",
        "# Define your data transformation without data augmentation\n",
        "transform = transforms.Compose([\n",
        "    transforms.Resize((IMAGE_HEIGHT, IMAGE_WIDTH)),\n",
        "    transforms.ToTensor(),\n",
        "    transforms.Normalize(mean=[0.485, 0.456, 0.406], std=[0.229, 0.224, 0.225]),\n",
        "])\n",
        "\n",
        "# Define the path for train, val, and test\n",
        "train_path = os.path.join(DATA_PATH, 'train')\n",
        "val_path = os.path.join(DATA_PATH, 'val')\n",
        "test_path = os.path.join(DATA_PATH, 'test')\n",
        "\n",
        "# Load the dataset using ImageFolder\n",
        "train_dataset = ImageFolder(root=train_path, transform=transform)\n",
        "val_dataset = ImageFolder(root=val_path, transform=transform)\n",
        "test_dataset = ImageFolder(root=test_path, transform=transform)\n",
        "\n",
        "# Set up DataLoaders\n",
        "train_loader = DataLoader(train_dataset, batch_size=BATCH_SIZE, shuffle=True)\n",
        "val_loader = DataLoader(val_dataset, batch_size=BATCH_SIZE, shuffle=False)\n",
        "test_loader = DataLoader(test_dataset, batch_size=BATCH_SIZE, shuffle=False)\n",
        "\n",
        "# Define your MobileNetV3 Small model\n",
        "model = models.mobilenet_v3_small(pretrained=True)\n",
        "model.classifier[-1] = nn.Linear(model.classifier[-1].in_features, len(train_dataset.classes))\n",
        "\n",
        "# Define loss function and optimizer\n",
        "criterion = nn.CrossEntropyLoss()\n",
        "optimizer = optim.Adam(model.parameters(), lr=0.001)\n",
        "\n",
        "# Early stopping\n",
        "best_val_loss = float('inf')\n",
        "no_improvement_count = 0\n",
        "\n",
        "# Train the model\n",
        "for epoch in range(EPOCHS):\n",
        "    model.train()\n",
        "    running_loss = 0.0\n",
        "    train_preds = []\n",
        "    train_labels = []\n",
        "\n",
        "    for i, data in enumerate(train_loader, 0):\n",
        "        inputs, labels = data\n",
        "        optimizer.zero_grad()\n",
        "        outputs = model(inputs)\n",
        "        loss = criterion(outputs, labels)\n",
        "        loss.backward()\n",
        "        optimizer.step()\n",
        "        running_loss += loss.item()\n",
        "\n",
        "        _, predicted = torch.max(outputs, 1)\n",
        "        train_preds.extend(predicted.cpu().numpy())\n",
        "        train_labels.extend(labels.cpu().numpy())\n",
        "\n",
        "    train_accuracy = accuracy_score(train_labels, train_preds)\n",
        "\n",
        "    # Validate the model\n",
        "    model.eval()\n",
        "    val_loss = 0.0\n",
        "    val_preds = []\n",
        "    val_labels = []\n",
        "\n",
        "    with torch.no_grad():\n",
        "        for data in val_loader:\n",
        "            inputs, labels = data\n",
        "            outputs = model(inputs)\n",
        "            loss = criterion(outputs, labels)\n",
        "            val_loss += loss.item()\n",
        "\n",
        "            _, predicted = torch.max(outputs, 1)\n",
        "            val_preds.extend(predicted.cpu().numpy())\n",
        "            val_labels.extend(labels.cpu().numpy())\n",
        "\n",
        "    val_loss /= len(val_loader)\n",
        "    val_accuracy = accuracy_score(val_labels, val_preds)\n",
        "\n",
        "    print(f\"Epoch {epoch + 1}, Training Loss: {running_loss / len(train_loader)}, Training Accuracy: {train_accuracy}, Validation Loss: {val_loss}, Validation Accuracy: {val_accuracy}\")\n",
        "\n",
        "    # Check for early stopping\n",
        "    if val_loss < best_val_loss:\n",
        "        best_val_loss = val_loss\n",
        "        no_improvement_count = 0\n",
        "    else:\n",
        "        no_improvement_count += 1\n",
        "\n",
        "    if no_improvement_count >= PATIENCE:\n",
        "        print(f\"Early stopping at epoch {epoch + 1}\")\n",
        "        break\n",
        "\n",
        "# Evaluate on test set\n",
        "model.eval()\n",
        "test_loss = 0.0\n",
        "test_preds = []\n",
        "test_labels = []\n",
        "\n",
        "with torch.no_grad():\n",
        "    for data in test_loader:\n",
        "        inputs, labels = data\n",
        "        outputs = model(inputs)\n",
        "        loss = criterion(outputs, labels)\n",
        "        test_loss += loss.item()\n",
        "\n",
        "        _, predicted = torch.max(outputs, 1)\n",
        "        test_preds.extend(predicted.cpu().numpy())\n",
        "        test_labels.extend(labels.cpu().numpy())\n",
        "\n",
        "test_loss /= len(test_loader)\n",
        "test_accuracy = accuracy_score(test_labels, test_preds)\n",
        "\n",
        "print(f\"Test Loss: {test_loss}, Test Accuracy: {test_accuracy}\")\n",
        "\n",
        "# Save the model\n",
        "torch.save(model.state_dict(), \"mobilenetv3_small.pth\")\n"
      ],
      "metadata": {
        "colab": {
          "base_uri": "https://localhost:8080/"
        },
        "id": "UtzmTVO_lP_V",
        "outputId": "de90cbef-cc20-4e36-f74f-1182d8824d65"
      },
      "execution_count": null,
      "outputs": [
        {
          "output_type": "stream",
          "name": "stderr",
          "text": [
            "/usr/local/lib/python3.10/dist-packages/torchvision/models/_utils.py:208: UserWarning: The parameter 'pretrained' is deprecated since 0.13 and may be removed in the future, please use 'weights' instead.\n",
            "  warnings.warn(\n",
            "/usr/local/lib/python3.10/dist-packages/torchvision/models/_utils.py:223: UserWarning: Arguments other than a weight enum or `None` for 'weights' are deprecated since 0.13 and may be removed in the future. The current behavior is equivalent to passing `weights=MobileNet_V3_Small_Weights.IMAGENET1K_V1`. You can also use `weights=MobileNet_V3_Small_Weights.DEFAULT` to get the most up-to-date weights.\n",
            "  warnings.warn(msg)\n",
            "Downloading: \"https://download.pytorch.org/models/mobilenet_v3_small-047dcff4.pth\" to /root/.cache/torch/hub/checkpoints/mobilenet_v3_small-047dcff4.pth\n",
            "100%|██████████| 9.83M/9.83M [00:00<00:00, 28.4MB/s]\n"
          ]
        },
        {
          "output_type": "stream",
          "name": "stdout",
          "text": [
            "Epoch 1, Training Loss: 0.25401450327241465, Training Accuracy: 0.9006469500924215, Validation Loss: 0.29226029626829103, Validation Accuracy: 0.9125168236877523\n",
            "Epoch 2, Training Loss: 0.1357076711172019, Training Accuracy: 0.9505545286506469, Validation Loss: 0.1264373913383795, Validation Accuracy: 0.9703903095558546\n",
            "Epoch 3, Training Loss: 0.0976414630525088, Training Accuracy: 0.9662661737523105, Validation Loss: 0.11671414222994152, Validation Accuracy: 0.9623149394347241\n",
            "Epoch 4, Training Loss: 0.11086580478449297, Training Accuracy: 0.9611829944547134, Validation Loss: 0.05240738922548963, Validation Accuracy: 0.9798115746971736\n",
            "Epoch 5, Training Loss: 0.08148572629921974, Training Accuracy: 0.9681146025878004, Validation Loss: 0.09300902557295054, Validation Accuracy: 0.9596231493943472\n",
            "Epoch 6, Training Loss: 0.06652347823140137, Training Accuracy: 0.9750462107208873, Validation Loss: 0.04596528438716942, Validation Accuracy: 0.9851951547779273\n",
            "Epoch 7, Training Loss: 0.050546423817971066, Training Accuracy: 0.9805914972273567, Validation Loss: 0.11752132234469874, Validation Accuracy: 0.9569313593539704\n",
            "Epoch 8, Training Loss: 0.04037660510991426, Training Accuracy: 0.9856746765249538, Validation Loss: 0.12682535799568212, Validation Accuracy: 0.946164199192463\n",
            "Epoch 9, Training Loss: 0.03999556217308295, Training Accuracy: 0.9856746765249538, Validation Loss: 0.05518445281350456, Validation Accuracy: 0.9825033647375505\n",
            "Epoch 10, Training Loss: 0.02768197667934574, Training Accuracy: 0.9930683918669131, Validation Loss: 0.0528070616688236, Validation Accuracy: 0.9811574697173621\n",
            "Epoch 11, Training Loss: 0.04887883062786065, Training Accuracy: 0.9819778188539742, Validation Loss: 0.05703048697529432, Validation Accuracy: 0.9811574697173621\n",
            "Epoch 12, Training Loss: 0.049188517698937895, Training Accuracy: 0.9801293900184843, Validation Loss: 0.0638997146654045, Validation Accuracy: 0.9798115746971736\n",
            "Epoch 13, Training Loss: 0.048074397510363805, Training Accuracy: 0.9856746765249538, Validation Loss: 0.06271274416019182, Validation Accuracy: 0.9690444145356663\n",
            "Epoch 14, Training Loss: 0.03851618127056193, Training Accuracy: 0.987985212569316, Validation Loss: 0.09348379748159963, Validation Accuracy: 0.9730820995962315\n",
            "Epoch 15, Training Loss: 0.036979989141534185, Training Accuracy: 0.9875231053604436, Validation Loss: 0.059809495544486516, Validation Accuracy: 0.9811574697173621\n",
            "Epoch 16, Training Loss: 0.02927174854628046, Training Accuracy: 0.9912199630314233, Validation Loss: 0.02981512924019084, Validation Accuracy: 0.9878869448183042\n",
            "Epoch 17, Training Loss: 0.025539209985270993, Training Accuracy: 0.9902957486136784, Validation Loss: 0.036179656999255856, Validation Accuracy: 0.9865410497981157\n",
            "Epoch 18, Training Loss: 0.010370209431202933, Training Accuracy: 0.9976894639556377, Validation Loss: 0.08319028825960056, Validation Accuracy: 0.971736204576043\n",
            "Epoch 19, Training Loss: 0.02476681053710362, Training Accuracy: 0.9930683918669131, Validation Loss: 0.1719939297309754, Validation Accuracy: 0.9676985195154778\n",
            "Epoch 20, Training Loss: 0.01680741768958636, Training Accuracy: 0.9926062846580407, Validation Loss: 0.03290170760640771, Validation Accuracy: 0.9878869448183042\n",
            "Epoch 21, Training Loss: 0.017784274791944867, Training Accuracy: 0.9944547134935305, Validation Loss: 0.05828971709874569, Validation Accuracy: 0.9851951547779273\n",
            "Epoch 22, Training Loss: 0.010406261105503448, Training Accuracy: 0.9967652495378928, Validation Loss: 0.04078874822454886, Validation Accuracy: 0.9892328398384926\n",
            "Epoch 23, Training Loss: 0.02618227156035439, Training Accuracy: 0.9884473197781886, Validation Loss: 0.03990038020434595, Validation Accuracy: 0.9851951547779273\n",
            "Epoch 24, Training Loss: 0.06392969616796135, Training Accuracy: 0.9902957486136784, Validation Loss: 0.08516732003681197, Validation Accuracy: 0.9636608344549125\n",
            "Epoch 25, Training Loss: 0.13785764759492902, Training Accuracy: 0.9500924214417745, Validation Loss: 0.14316880351249525, Validation Accuracy: 0.9609690444145357\n",
            "Epoch 26, Training Loss: 0.06471955188231625, Training Accuracy: 0.982902033271719, Validation Loss: 0.15075686152750736, Validation Accuracy: 0.9569313593539704\n",
            "Epoch 27, Training Loss: 0.02485280991627506, Training Accuracy: 0.9916820702402958, Validation Loss: 0.04281034327553879, Validation Accuracy: 0.9878869448183042\n",
            "Epoch 28, Training Loss: 0.011703967576268577, Training Accuracy: 0.994916820702403, Validation Loss: 0.08259598688119571, Validation Accuracy: 0.9811574697173621\n",
            "Epoch 29, Training Loss: 0.009125651527533725, Training Accuracy: 0.9967652495378928, Validation Loss: 0.06685521266803228, Validation Accuracy: 0.9825033647375505\n",
            "Early stopping at epoch 29\n",
            "Test Loss: 0.10609309060175241, Test Accuracy: 0.9754816112084063\n"
          ]
        }
      ]
    },
    {
      "cell_type": "code",
      "source": [
        "pip install seaborn matplotlib numpy scikit-learn\n"
      ],
      "metadata": {
        "colab": {
          "base_uri": "https://localhost:8080/"
        },
        "id": "YZy71nhRyjmT",
        "outputId": "220994d5-c8ca-4181-d16f-4259c7f230e6"
      },
      "execution_count": null,
      "outputs": [
        {
          "output_type": "stream",
          "name": "stdout",
          "text": [
            "Requirement already satisfied: seaborn in /usr/local/lib/python3.10/dist-packages (0.12.2)\n",
            "Requirement already satisfied: matplotlib in /usr/local/lib/python3.10/dist-packages (3.7.1)\n",
            "Requirement already satisfied: numpy in /usr/local/lib/python3.10/dist-packages (1.23.5)\n",
            "Requirement already satisfied: scikit-learn in /usr/local/lib/python3.10/dist-packages (1.2.2)\n",
            "Requirement already satisfied: pandas>=0.25 in /usr/local/lib/python3.10/dist-packages (from seaborn) (1.5.3)\n",
            "Requirement already satisfied: contourpy>=1.0.1 in /usr/local/lib/python3.10/dist-packages (from matplotlib) (1.2.0)\n",
            "Requirement already satisfied: cycler>=0.10 in /usr/local/lib/python3.10/dist-packages (from matplotlib) (0.12.1)\n",
            "Requirement already satisfied: fonttools>=4.22.0 in /usr/local/lib/python3.10/dist-packages (from matplotlib) (4.44.3)\n",
            "Requirement already satisfied: kiwisolver>=1.0.1 in /usr/local/lib/python3.10/dist-packages (from matplotlib) (1.4.5)\n",
            "Requirement already satisfied: packaging>=20.0 in /usr/local/lib/python3.10/dist-packages (from matplotlib) (23.2)\n",
            "Requirement already satisfied: pillow>=6.2.0 in /usr/local/lib/python3.10/dist-packages (from matplotlib) (9.4.0)\n",
            "Requirement already satisfied: pyparsing>=2.3.1 in /usr/local/lib/python3.10/dist-packages (from matplotlib) (3.1.1)\n",
            "Requirement already satisfied: python-dateutil>=2.7 in /usr/local/lib/python3.10/dist-packages (from matplotlib) (2.8.2)\n",
            "Requirement already satisfied: scipy>=1.3.2 in /usr/local/lib/python3.10/dist-packages (from scikit-learn) (1.11.3)\n",
            "Requirement already satisfied: joblib>=1.1.1 in /usr/local/lib/python3.10/dist-packages (from scikit-learn) (1.3.2)\n",
            "Requirement already satisfied: threadpoolctl>=2.0.0 in /usr/local/lib/python3.10/dist-packages (from scikit-learn) (3.2.0)\n",
            "Requirement already satisfied: pytz>=2020.1 in /usr/local/lib/python3.10/dist-packages (from pandas>=0.25->seaborn) (2023.3.post1)\n",
            "Requirement already satisfied: six>=1.5 in /usr/local/lib/python3.10/dist-packages (from python-dateutil>=2.7->matplotlib) (1.16.0)\n"
          ]
        }
      ]
    },
    {
      "cell_type": "code",
      "source": [
        "import seaborn as sns\n",
        "import matplotlib.pyplot as plt\n",
        "from sklearn.metrics import confusion_matrix\n",
        "from sklearn.utils.multiclass import unique_labels\n",
        "\n",
        "# Define a function to plot the confusion matrix heatmap\n",
        "def plot_confusion_matrix(y_true, y_pred, classes, title='Confusion matrix', cmap=plt.cm.Blues):\n",
        "    cm = confusion_matrix(y_true, y_pred)\n",
        "    classes = unique_labels(y_true, y_pred)\n",
        "\n",
        "    fig, ax = plt.subplots()\n",
        "    im = ax.imshow(cm, interpolation='nearest', cmap=cmap)\n",
        "    ax.figure.colorbar(im, ax=ax)\n",
        "\n",
        "    # We want to show all ticks...\n",
        "    ax.set(xticks=np.arange(cm.shape[1]),\n",
        "           yticks=np.arange(cm.shape[0]),\n",
        "           xticklabels=classes, yticklabels=classes,\n",
        "           title=title,\n",
        "           ylabel='True label',\n",
        "           xlabel='Predicted label')\n",
        "\n",
        "    # Rotate the tick labels and set their alignment.\n",
        "    plt.setp(ax.get_xticklabels(), rotation=45, ha=\"right\", rotation_mode=\"anchor\")\n",
        "\n",
        "    # Loop over data dimensions and create text annotations.\n",
        "    fmt = 'd'\n",
        "    thresh = cm.max() / 2.\n",
        "    for i in range(cm.shape[0]):\n",
        "        for j in range(cm.shape[1]):\n",
        "            ax.text(j, i, format(cm[i, j], fmt),\n",
        "                    ha=\"center\", va=\"center\",\n",
        "                    color=\"white\" if cm[i, j] > thresh else \"black\")\n",
        "    fig.tight_layout()\n",
        "    return ax\n",
        "\n",
        "# Plot the confusion matrix for the test set\n",
        "plot_confusion_matrix(test_labels, test_preds, classes=train_dataset.classes, title='Confusion Matrix - Test Set')\n",
        "\n",
        "plt.show()\n"
      ],
      "metadata": {
        "colab": {
          "base_uri": "https://localhost:8080/",
          "height": 487
        },
        "id": "-i7XeBa_ynq6",
        "outputId": "0536f245-17db-4c45-cad1-b5d97e37d0b7"
      },
      "execution_count": null,
      "outputs": [
        {
          "output_type": "display_data",
          "data": {
            "text/plain": [
              "<Figure size 640x480 with 2 Axes>"
            ],
            "image/png": "[encoded data removed]"
          },
          "metadata": {}
        }
      ]
    },
    {
      "cell_type": "code",
      "source": [
        "from sklearn.metrics import precision_recall_curve, auc\n",
        "\n",
        "precision, recall, _ = precision_recall_curve(test_labels, test_preds)\n",
        "pr_auc = auc(recall, precision)\n",
        "\n",
        "plt.figure()\n",
        "plt.step(recall, precision, color='b', alpha=0.2, where='post')\n",
        "plt.fill_between(recall, precision, step='post', alpha=0.2, color='b')\n",
        "plt.xlabel('Recall')\n",
        "plt.ylabel('Precision')\n",
        "plt.ylim([0.0, 1.05])\n",
        "plt.xlim([0.0, 1.0])\n",
        "plt.title('Precision-Recall Curve: AUC={0:0.2f}'.format(pr_auc))\n",
        "plt.show()\n"
      ],
      "metadata": {
        "colab": {
          "base_uri": "https://localhost:8080/",
          "height": 472
        },
        "id": "Kek8ijXc5gHZ",
        "outputId": "d0285cb3-e9be-4c1d-ff3f-7e57d94ce2bb"
      },
      "execution_count": null,
      "outputs": [
        {
          "output_type": "display_data",
          "data": {
            "text/plain": [
              "<Figure size 640x480 with 1 Axes>"
            ],
            "image/png": "[encoded data removed]"
          },
          "metadata": {}
        }
      ]
    },
    {
      "cell_type": "code",
      "source": [
        "from sklearn.metrics import f1_score, precision_score, recall_score, classification_report\n",
        "\n",
        "# Calculate additional metrics\n",
        "f1 = f1_score(test_labels, test_preds, average='weighted')\n",
        "precision = precision_score(test_labels, test_preds, average='weighted')\n",
        "recall = recall_score(test_labels, test_preds, average='weighted')\n",
        "\n",
        "print(f\"F1 Score: {f1:.4f}, Precision: {precision:.4f}, Recall: {recall:.4f}\")\n",
        "\n",
        "# Print classification report\n",
        "class_names = [str(i) for i in range(len(train_dataset.classes))]\n",
        "print(\"Classification Report:\")\n",
        "print(classification_report(test_labels, test_preds, target_names=class_names))"
      ],
      "metadata": {
        "colab": {
          "base_uri": "https://localhost:8080/"
        },
        "id": "1Hu5I3XJ0uis",
        "outputId": "b7c2d874-31e9-4f7a-ea2f-975490036ea5"
      },
      "execution_count": null,
      "outputs": [
        {
          "output_type": "stream",
          "name": "stdout",
          "text": [
            "F1 Score: 0.9755, Precision: 0.9755, Recall: 0.9755\n",
            "Classification Report:\n",
            "              precision    recall  f1-score   support\n",
            "\n",
            "           0       0.97      0.97      0.97       490\n",
            "           1       0.98      0.98      0.98       652\n",
            "\n",
            "    accuracy                           0.98      1142\n",
            "   macro avg       0.97      0.98      0.97      1142\n",
            "weighted avg       0.98      0.98      0.98      1142\n",
            "\n"
          ]
        }
      ]
    },
    {
      "cell_type": "markdown",
      "source": [
        "Overall, these metrics indicate that your model is performing very well on the test set, with high precision, recall, and F1 score.\n",
        "\n",
        "\n",
        "\n",
        "\n",
        "\n"
      ],
      "metadata": {
        "id": "k-5mUWYI3iOH"
      }
    },
    {
      "cell_type": "code",
      "source": [
        "def count_parameters(model):\n",
        "    return sum(p.numel() for p in model.parameters() if p.requires_grad)\n",
        "\n",
        "num_params = count_parameters(model)\n",
        "print(f\"Number of trainable parameters in the model: {num_params}\")\n"
      ],
      "metadata": {
        "colab": {
          "base_uri": "https://localhost:8080/"
        },
        "id": "BmI4e6wvYUHp",
        "outputId": "7a25cc28-3c7f-4726-b0b2-03aa8f1619d1"
      },
      "execution_count": null,
      "outputs": [
        {
          "output_type": "stream",
          "name": "stdout",
          "text": [
            "Number of trainable parameters in the model: 1519906\n"
          ]
        }
      ]
    },
    {
      "cell_type": "code",
      "source": [
        "import time\n",
        "\n",
        "# Use a sample input for inference\n",
        "sample_input = torch.randn(1, IMAGE_CHANNELS, IMAGE_HEIGHT, IMAGE_WIDTH)\n",
        "\n",
        "# Measure inference time\n",
        "model.eval()\n",
        "with torch.no_grad():\n",
        "    start_time = time.time()\n",
        "    _ = model(sample_input)\n",
        "    inference_time = time.time() - start_time\n",
        "\n",
        "print(f\"Inference time for a sample input: {inference_time} seconds\")\n"
      ],
      "metadata": {
        "colab": {
          "base_uri": "https://localhost:8080/"
        },
        "id": "yewmxaNAQL5B",
        "outputId": "6d995ade-449e-4458-8786-1cf7671cb43f"
      },
      "execution_count": null,
      "outputs": [
        {
          "output_type": "stream",
          "name": "stdout",
          "text": [
            "Inference time for a sample input: 0.013442516326904297 seconds\n"
          ]
        }
      ]
    }
  ],
  "metadata": {
    "colab": {
      "provenance": []
    },
    "kernelspec": {
      "display_name": "Python 3",
      "name": "python3"
    },
    "language_info": {
      "name": "python"
    }
  },
  "nbformat": 4,
  "nbformat_minor": 0
}